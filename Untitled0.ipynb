{
 "metadata": {
  "name": "",
  "signature": "sha256:85c10e16d72b46234237541e102ba9ec289f666f3c14576e28c3ea755c9daa67"
 },
 "nbformat": 3,
 "nbformat_minor": 0,
 "worksheets": []
}