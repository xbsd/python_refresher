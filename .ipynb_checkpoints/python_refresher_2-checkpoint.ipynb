{
 "metadata": {
  "name": "",
  "signature": "sha256:861b2f07d5359fcf4c45883e253a58d98d32a761e12a14e3a788d1c5ed4c43a7"
 },
 "nbformat": 3,
 "nbformat_minor": 0,
 "worksheets": [
  {
   "cells": [
    {
     "cell_type": "code",
     "collapsed": false,
     "input": [
      "# Coding Exercises\n",
      "# http://www.python-course.eu/course.php\n",
      "\n",
      "from IPython.display import Image"
     ],
     "language": "python",
     "metadata": {},
     "outputs": [],
     "prompt_number": 23
    },
    {
     "cell_type": "markdown",
     "metadata": {},
     "source": [
      "## Recursion"
     ]
    },
    {
     "cell_type": "raw",
     "metadata": {},
     "source": [
      "# Main Rules\n",
      "# Base Case (when should the recursion stop) - eg., 0 and 1\n",
      "# Recursive Case (when should it run)\n",
      "\n",
      "For Example:\n",
      "    \n",
      "Fibonacci is defined as\n",
      "\n",
      "    Fn = Fn-1 + Fn-2 \n",
      "    with F0 = 0 and F1 = 1 (F is the 'function name')\n",
      "\n",
      "Factorial is defined as:\n",
      "    Fn = Fn * Fn-1\n",
      "    F0 = 1\n",
      "\n",
      "We can use these sorts of basic definitions to create the recursive functions\n"
     ]
    },
    {
     "cell_type": "code",
     "collapsed": false,
     "input": [
      "'''\n",
      "Factorial is defined as:\n",
      "    Fn = Fn * Fn-1\n",
      "    F0 = 1\n",
      "'''\n",
      "\n",
      "def fact(n):\n",
      "    if n == 0:\n",
      "        return 1\n",
      "    return n * fact(n-1)\n",
      "\n",
      "fact(4)"
     ],
     "language": "python",
     "metadata": {},
     "outputs": [
      {
       "metadata": {},
       "output_type": "pyout",
       "prompt_number": 4,
       "text": [
        "24"
       ]
      }
     ],
     "prompt_number": 4
    },
    {
     "cell_type": "code",
     "collapsed": false,
     "input": [
      "'''\n",
      "Fibonacci is defined as\n",
      "\n",
      "    Fn = Fn-1 + Fn-2 \n",
      "    with F0 = 0 and F1 = 1 (F is the 'function name')\n",
      "'''\n",
      "\n",
      "def fib(n):\n",
      "    if n==0 or n==1:\n",
      "        return n\n",
      "    return fib(n-1) + fib(n-2)\n",
      "\n",
      "map(fib,range(10))"
     ],
     "language": "python",
     "metadata": {},
     "outputs": [
      {
       "metadata": {},
       "output_type": "pyout",
       "prompt_number": 13,
       "text": [
        "[0, 1, 1, 2, 3, 5, 8, 13, 21, 34]"
       ]
      }
     ],
     "prompt_number": 13
    },
    {
     "cell_type": "code",
     "collapsed": false,
     "input": [
      "# Q. Write a rec. function that returns the sum of the first n integers.\n",
      "'''\n",
      "if n = 0 or n = 1, return 1\n",
      "else return n + (n - 1)\n",
      "'''\n",
      "def fsum(n):\n",
      "    if n <= 1:\n",
      "        return n\n",
      "    return n + fsum(n-1)\n",
      "\n",
      "fsum(3)"
     ],
     "language": "python",
     "metadata": {},
     "outputs": [
      {
       "metadata": {},
       "output_type": "pyout",
       "prompt_number": 15,
       "text": [
        "6"
       ]
      }
     ],
     "prompt_number": 15
    },
    {
     "cell_type": "code",
     "collapsed": false,
     "input": [
      "'''\n",
      "# Q. Write a function which implements the Pascal's triangle:\n",
      "\n",
      "1\n",
      "1    1\n",
      "1    2    1\n",
      "1    3    3    1\n",
      "1    4    6    4    1\n",
      "1    5    10    10    5    1\n",
      "'''\n",
      "\n",
      "def pas(n):\n",
      "    if n == 1:\n",
      "        return [1]\n",
      "    else:\n",
      "        p_line = pas(n-1)\n",
      "        line = [p_line[i]+p_line[i+1] for i in range(len(p_line)-1)]\n",
      "        \n",
      "        line.insert(0,1) # Insert 1 at location 0 (beginning)\n",
      "        line.append(1) # Insert 1 at the end\n",
      "    return line\n",
      "\n",
      "pas(5)"
     ],
     "language": "python",
     "metadata": {},
     "outputs": [
      {
       "metadata": {},
       "output_type": "pyout",
       "prompt_number": 57,
       "text": [
        "[1, 4, 6, 4, 1]"
       ]
      }
     ],
     "prompt_number": 57
    },
    {
     "cell_type": "raw",
     "metadata": {},
     "source": [
      "KDB+/Q Solution\n",
      "\n",
      "f:{{(+) prior x,0}\\[x-1;1]}\n",
      "\n",
      "/Basically in \\[x;y] -- the y input is passed back x times\n",
      "/In this case, we are passing it back x - 1 times\n",
      "\n",
      "/Run {x}[1] for 5 times\n",
      "q){x}\\[5;1]\n",
      "1 1 1 1 1 1\n",
      "\n",
      "/Run {x}[10] for 5 times\n",
      "q){x}\\[5;10]\n",
      "10 10 10 10 10 10\n",
      "\n",
      "So, f:{{(+) prior x,0}\\[x-1;1]}\n",
      "\n",
      "means, the starting input is 1\n",
      "and the results will be looped back to {(+) prior x,0} for x - 1 times\n",
      "\n",
      "The \\ scan operator in \\[x-1;1] returns the results back into the same function x - 1 times\n",
      "\n",
      "/Step 1: The function is run with 1 -> (1, 0)\n",
      "q)(+) prior 1 0\n",
      "1 1\n",
      "\n",
      "/The result 1 1 is now returned back to the function -> (1 1, 0)\n",
      "\n",
      "q)(+) prior 1 1 0\n",
      "1 2 1\n",
      "\n",
      "We then use the scan adverb to pass the result of this function back in \n",
      "as the argument, x-1 times:\n",
      "\n",
      "q)f:{{(+) prior x,0}\\[x-1;1]}\n",
      "\n",
      "q){(+) prior x,0}\\[5;1]\n",
      "1\n",
      "1 1\n",
      "1 2 1\n",
      "1 3 3 1\n",
      "1 4 6 4 1\n",
      "1 5 10 10 5 1\n"
     ]
    },
    {
     "cell_type": "code",
     "collapsed": false,
     "input": [
      "# Palindromes\n",
      "# \"abc\" --> \"cba\"\n",
      "\n",
      "def pal(x):\n",
      "    if len(x) in [0,1]:\n",
      "        return x\n",
      "    return x[-1] + pal(x[:-1])\n",
      "\n",
      "pal(\"abcde\")"
     ],
     "language": "python",
     "metadata": {},
     "outputs": [
      {
       "metadata": {},
       "output_type": "pyout",
       "prompt_number": 61,
       "text": [
        "'edcba'"
       ]
      }
     ],
     "prompt_number": 61
    },
    {
     "cell_type": "code",
     "collapsed": false,
     "input": [
      "# Write a Python program to calculate the value of 'a' to the power 'b'. Go to the editor\n",
      "# Test Data : \n",
      "# (power(3,4) -> 81\n",
      "\n",
      "def power(a,b):\n",
      "    if b==0:\n",
      "        return 1\n",
      "    elif b==1:\n",
      "        return a\n",
      "    return a * power(a,b-1)\n",
      "\n",
      "power(3,4)"
     ],
     "language": "python",
     "metadata": {},
     "outputs": [
      {
       "metadata": {},
       "output_type": "pyout",
       "prompt_number": 63,
       "text": [
        "81"
       ]
      }
     ],
     "prompt_number": 63
    },
    {
     "cell_type": "code",
     "collapsed": false,
     "input": [
      "# Find the greatest common divisor\n",
      "# g = gcd(a, b) = gcd(b, r0) = gcd(r0, r1) = \u2026 = gcd(rN\u22122, rN\u22121) = rN\u22121\n",
      "\n",
      "#Step k\tEquation\tQuotient and remainder\n",
      "#0\t1071 = q0 462 + r0\tq0 = 2 and r0 = 147\n",
      "#1\t462 = q1 147 + r1\tq1 = 3 and r1 = 21\n",
      "#2\t147 = q2 21 + r2\tq2 = 7 and r2 = 0; algorithm ends\n",
      "\n",
      "\n",
      "def gcd(a,b):\n",
      "    if a%b == 0:\n",
      "        return min(a,b)\n",
      "    return gcd(b,a%b)\n",
      "\n",
      "gcd(1071,462)"
     ],
     "language": "python",
     "metadata": {},
     "outputs": [
      {
       "metadata": {},
       "output_type": "pyout",
       "prompt_number": 78,
       "text": [
        "21"
       ]
      }
     ],
     "prompt_number": 78
    },
    {
     "cell_type": "code",
     "collapsed": false,
     "input": [
      "# Write a function permute to compute all possible permutations \n",
      "# of elements of a given list.\n",
      "\n",
      "# >>> permute([1, 2, 3])\n",
      "# [[1, 2, 3], [1, 3, 2], [2, 1, 3], [2, 3, 1], [3, 1, 2], [3, 2, 1]]\n",
      "\n",
      "# Needs to be done with yield, but otherwise,\n",
      "\n",
      "import itertools\n",
      "list(itertools.permutations([1,2,3]))"
     ],
     "language": "python",
     "metadata": {},
     "outputs": [
      {
       "metadata": {},
       "output_type": "pyout",
       "prompt_number": 99,
       "text": [
        "[(1, 2, 3), (1, 3, 2), (2, 1, 3), (2, 3, 1), (3, 1, 2), (3, 2, 1)]"
       ]
      }
     ],
     "prompt_number": 99
    },
    {
     "cell_type": "markdown",
     "metadata": {},
     "source": [
      "## Regular Expressions"
     ]
    },
    {
     "cell_type": "raw",
     "metadata": {},
     "source": [
      "Regular Expressions in Python work by first compiling a pattern\n",
      "Into an object and then using that pattern object to find matches\n",
      "\n",
      "p = re.compile(...) --> p is the pattern object\n",
      "m = p.match(\"string\") --> m is the match object\n",
      "m.start, etc ... functions you can run on m\n"
     ]
    },
    {
     "cell_type": "code",
     "collapsed": false,
     "input": [
      "import re\n",
      "p = re.compile('ab*d*', re.IGNORECASE)\n",
      "p"
     ],
     "language": "python",
     "metadata": {},
     "outputs": [
      {
       "metadata": {},
       "output_type": "pyout",
       "prompt_number": 121,
       "text": [
        "re.compile(r'ab*d*', re.IGNORECASE)"
       ]
      }
     ],
     "prompt_number": 121
    },
    {
     "cell_type": "raw",
     "metadata": {},
     "source": [
      "Method/Attribute\tPurpose\n",
      "match()\n",
      "Determine if the RE matches at the beginning of the string.\n",
      "search()\n",
      "Scan through a string, looking for any location where this RE matches.\n",
      "findall()\n",
      "Find all substrings where the RE matches, and returns them as a list.\n",
      "finditer()\n",
      "Find all substrings where the RE matches, and returns them as an iterator."
     ]
    },
    {
     "cell_type": "code",
     "collapsed": false,
     "input": [
      "m = p.match(\"abcde\")"
     ],
     "language": "python",
     "metadata": {},
     "outputs": [],
     "prompt_number": 122
    },
    {
     "cell_type": "raw",
     "metadata": {},
     "source": [
      "Method/Attribute\tPurpose\n",
      "group()\tReturn the string matched by the RE\n",
      "start()\tReturn the starting position of the match\n",
      "end()\tReturn the ending position of the match\n",
      "span()\tReturn a tuple containing the (start, end) positions of the match"
     ]
    },
    {
     "cell_type": "code",
     "collapsed": false,
     "input": [
      "m.start()"
     ],
     "language": "python",
     "metadata": {},
     "outputs": [
      {
       "metadata": {},
       "output_type": "pyout",
       "prompt_number": 123,
       "text": [
        "0"
       ]
      }
     ],
     "prompt_number": 123
    },
    {
     "cell_type": "code",
     "collapsed": false,
     "input": [
      "m.end()"
     ],
     "language": "python",
     "metadata": {},
     "outputs": [
      {
       "metadata": {},
       "output_type": "pyout",
       "prompt_number": 124,
       "text": [
        "2"
       ]
      }
     ],
     "prompt_number": 124
    },
    {
     "cell_type": "code",
     "collapsed": false,
     "input": [
      "m.span()"
     ],
     "language": "python",
     "metadata": {},
     "outputs": [
      {
       "metadata": {},
       "output_type": "pyout",
       "prompt_number": 125,
       "text": [
        "(0, 2)"
       ]
      }
     ],
     "prompt_number": 125
    },
    {
     "cell_type": "code",
     "collapsed": false,
     "input": [
      "m.group()"
     ],
     "language": "python",
     "metadata": {},
     "outputs": [
      {
       "metadata": {},
       "output_type": "pyout",
       "prompt_number": 126,
       "text": [
        "'ab'"
       ]
      }
     ],
     "prompt_number": 126
    },
    {
     "cell_type": "code",
     "collapsed": false,
     "input": [
      "m = re.search(\"cat\",\"A cat and a rat can't be friends.\")"
     ],
     "language": "python",
     "metadata": {},
     "outputs": [],
     "prompt_number": 130
    },
    {
     "cell_type": "code",
     "collapsed": false,
     "input": [
      "m.start()"
     ],
     "language": "python",
     "metadata": {},
     "outputs": [
      {
       "metadata": {},
       "output_type": "pyout",
       "prompt_number": 132,
       "text": [
        "2"
       ]
      }
     ],
     "prompt_number": 132
    },
    {
     "cell_type": "code",
     "collapsed": false,
     "input": [
      "# findall to Find All matches\n",
      "t=\"A fat cat doesn't eat oat but a rat eats bats.\"\n",
      "\n",
      "re.findall(\"[force]at\", t)"
     ],
     "language": "python",
     "metadata": {},
     "outputs": [
      {
       "metadata": {},
       "output_type": "pyout",
       "prompt_number": 133,
       "text": [
        "['fat', 'cat', 'eat', 'oat', 'rat', 'eat']"
       ]
      }
     ],
     "prompt_number": 133
    },
    {
     "cell_type": "code",
     "collapsed": false,
     "input": [
      "re.findall(\"[0-9]+.*: .*\", \"Customer number: 232454, Date: February 12, 2011\")"
     ],
     "language": "python",
     "metadata": {},
     "outputs": [
      {
       "metadata": {},
       "output_type": "pyout",
       "prompt_number": 134,
       "text": [
        "['232454, Date: February 12, 2011']"
       ]
      }
     ],
     "prompt_number": 134
    },
    {
     "cell_type": "code",
     "collapsed": false,
     "input": [
      "# Substitute\n",
      "re.sub(\"[yY]es\",\"Aye\", \"Yes and no\")"
     ],
     "language": "python",
     "metadata": {},
     "outputs": [
      {
       "metadata": {},
       "output_type": "pyout",
       "prompt_number": 137,
       "text": [
        "'Aye and no'"
       ]
      }
     ],
     "prompt_number": 137
    },
    {
     "cell_type": "code",
     "collapsed": false,
     "input": [
      "\"this is a split\".split(\" \")"
     ],
     "language": "python",
     "metadata": {},
     "outputs": [
      {
       "metadata": {},
       "output_type": "pyout",
       "prompt_number": 138,
       "text": [
        "['this', 'is', 'a', 'split']"
       ]
      }
     ],
     "prompt_number": 138
    },
    {
     "cell_type": "code",
     "collapsed": false,
     "input": [
      "\"-\".join(\"this is a split\".split(\" \"))"
     ],
     "language": "python",
     "metadata": {},
     "outputs": [
      {
       "metadata": {},
       "output_type": "pyout",
       "prompt_number": 149,
       "text": [
        "'this-is-a-split'"
       ]
      }
     ],
     "prompt_number": 149
    },
    {
     "cell_type": "markdown",
     "metadata": {},
     "source": [
      "## Memoization"
     ]
    },
    {
     "cell_type": "raw",
     "metadata": {},
     "source": [
      "The term \"memoization\" was introduced by Donald Michie in the year 1968. It's based on the Latin word memorandum, meaning \"to be remembered\". It's not a misspelling of the word memorization, though in a way it has something in common. Memoisation is a technique used in computing to speed up programs. This is accomplished by memorizing the calculation results of processed input such as the results of function calls. If the same input or a function call with the same parameters is used, the previously stored results can be used again and unnecessary calculation are avoided. \n",
      "\n",
      "Memoization can be explicitly programmed by the programmer, but some programming languages like Python provide mechanisms to automatically memoize functions. "
     ]
    },
    {
     "cell_type": "code",
     "collapsed": false,
     "input": [
      "def memoize(f):\n",
      "    memo = {}\n",
      "    def helper(x):\n",
      "        if x not in memo:            \n",
      "            memo[x] = f(x)\n",
      "        return memo[x]\n",
      "    return helper\n",
      "\n",
      "def fib(n):\n",
      "    if n == 0:\n",
      "        return 0\n",
      "    elif n == 1:\n",
      "        return 1\n",
      "    else:\n",
      "        return fib(n-1) + fib(n-2)\n"
     ],
     "language": "python",
     "metadata": {},
     "outputs": [],
     "prompt_number": 1
    },
    {
     "cell_type": "code",
     "collapsed": false,
     "input": [
      "fib2 = memoize(fib)"
     ],
     "language": "python",
     "metadata": {},
     "outputs": [],
     "prompt_number": 2
    },
    {
     "cell_type": "code",
     "collapsed": false,
     "input": [
      "%timeit -n 10 fib(20) "
     ],
     "language": "python",
     "metadata": {},
     "outputs": [
      {
       "output_type": "stream",
       "stream": "stdout",
       "text": [
        "10 loops, best of 3: 4.67 ms per loop\n"
       ]
      }
     ],
     "prompt_number": 10
    },
    {
     "cell_type": "code",
     "collapsed": false,
     "input": [
      "%timeit -n 10 fib2(20)"
     ],
     "language": "python",
     "metadata": {},
     "outputs": [
      {
       "output_type": "stream",
       "stream": "stdout",
       "text": [
        "10 loops, best of 3: 501 ns per loop\n"
       ]
      }
     ],
     "prompt_number": 11
    },
    {
     "cell_type": "code",
     "collapsed": false,
     "input": [
      "%timeit -n 10 fib(20)"
     ],
     "language": "python",
     "metadata": {},
     "outputs": [
      {
       "output_type": "stream",
       "stream": "stdout",
       "text": [
        "10 loops, best of 3: 5.66 ms per loop\n"
       ]
      }
     ],
     "prompt_number": 12
    },
    {
     "cell_type": "code",
     "collapsed": false,
     "input": [
      "%timeit -n 10 fib(25) # Needs to calculate from the start"
     ],
     "language": "python",
     "metadata": {},
     "outputs": [
      {
       "output_type": "stream",
       "stream": "stdout",
       "text": [
        "10 loops, best of 3: 59.3 ms per loop\n"
       ]
      }
     ],
     "prompt_number": 14
    },
    {
     "cell_type": "code",
     "collapsed": false,
     "input": [
      "%timeit -n 10 fib2(25)"
     ],
     "language": "python",
     "metadata": {},
     "outputs": [
      {
       "output_type": "stream",
       "stream": "stdout",
       "text": [
        "10 loops, best of 3: 310 ns per loop\n"
       ]
      }
     ],
     "prompt_number": 15
    },
    {
     "cell_type": "code",
     "collapsed": false,
     "input": [
      "%timeit -n 10 fib2(24) # fib2 is memoized, so it already has uptil fib(23)"
     ],
     "language": "python",
     "metadata": {},
     "outputs": [
      {
       "output_type": "stream",
       "stream": "stdout",
       "text": [
        "10 loops, best of 3: 286 ns per loop\n"
       ]
      }
     ],
     "prompt_number": 17
    },
    {
     "cell_type": "raw",
     "metadata": {},
     "source": [
      "You could also set: fib = memoize(fib)\n",
      "\n",
      "After having executed fib = memoize(fib) fib points to the body of the helper function, which had been returned by memoize. We can also perceive that the code of the original fib function can only be reached via the \"f\" function of the helper function. There is no way anymore to call the original fib directly, i.e. there is no other reference to it. The decorated Fibonacci function is called in the return statement return fib(n-1) + fib(n-2), this means the code of the helper function which had been returned by memoize:"
     ]
    },
    {
     "cell_type": "code",
     "collapsed": false,
     "input": [
      "Image(filename='memoize.jpg')"
     ],
     "language": "python",
     "metadata": {},
     "outputs": [
      {
       "jpeg": "[encoded data removed]",
       "metadata": {},
       "output_type": "pyout",
       "prompt_number": 24,
       "text": [
        "<IPython.core.display.Image at 0x103c4a810>"
       ]
      }
     ],
     "prompt_number": 24
    },
    {
     "cell_type": "code",
     "collapsed": false,
     "input": [
      "# A very simple to understand example is as follows:\n",
      "# There is a global dictionary that stores the values of the factorial\n",
      "\n",
      "factorial_memo = {}\n",
      "\n",
      "def factorial(k):\n",
      "    if k < 2: return 1\n",
      "    if not k in factorial_memo:\n",
      "        factorial_memo[k] = k * factorial(k-1)\n",
      "    return factorial_memo[k]"
     ],
     "language": "python",
     "metadata": {},
     "outputs": [],
     "prompt_number": 21
    },
    {
     "cell_type": "markdown",
     "metadata": {},
     "source": [
      "## Generators"
     ]
    },
    {
     "cell_type": "raw",
     "metadata": {},
     "source": [
      "Generators are a simple and powerful possibility to create or to generate iterators. On the surface they look like functions, but there is both a syntactical and a semantic difference. Instead of return statements you will find inside of the body of a generator only yield statements, i.e. one or more yield statements. \n",
      "\n",
      "Another important feature of generators is that the local variables and the execution start is automatically saved between calls. This is necessary, because unlike an ordinary function successive calls to a generator function don't start execution at the beginning of the function. Instead, the new call to a generator function will resume execution right after the yield statement in the code, where the last call exited."
     ]
    },
    {
     "cell_type": "code",
     "collapsed": false,
     "input": [
      "def city_generator():\n",
      "    yield(\"Konstanz\")\n",
      "    yield(\"Zurich\")\n",
      "    yield(\"Schaffhausen\")\n",
      "    yield(\"Stuttgart\")"
     ],
     "language": "python",
     "metadata": {},
     "outputs": [],
     "prompt_number": 27
    },
    {
     "cell_type": "code",
     "collapsed": false,
     "input": [
      "x = city_generator()"
     ],
     "language": "python",
     "metadata": {},
     "outputs": [],
     "prompt_number": 30
    },
    {
     "cell_type": "code",
     "collapsed": false,
     "input": [
      "x.next()"
     ],
     "language": "python",
     "metadata": {},
     "outputs": [
      {
       "metadata": {},
       "output_type": "pyout",
       "prompt_number": 31,
       "text": [
        "'Konstanz'"
       ]
      }
     ],
     "prompt_number": 31
    },
    {
     "cell_type": "code",
     "collapsed": false,
     "input": [
      "x.next()"
     ],
     "language": "python",
     "metadata": {},
     "outputs": [
      {
       "metadata": {},
       "output_type": "pyout",
       "prompt_number": 32,
       "text": [
        "'Zurich'"
       ]
      }
     ],
     "prompt_number": 32
    },
    {
     "cell_type": "code",
     "collapsed": false,
     "input": [
      "x = iter([1, 2, 3])\n",
      "x.next()"
     ],
     "language": "python",
     "metadata": {},
     "outputs": [
      {
       "metadata": {},
       "output_type": "pyout",
       "prompt_number": 33,
       "text": [
        "1"
       ]
      }
     ],
     "prompt_number": 33
    },
    {
     "cell_type": "code",
     "collapsed": false,
     "input": [
      "x.next()"
     ],
     "language": "python",
     "metadata": {},
     "outputs": [
      {
       "metadata": {},
       "output_type": "pyout",
       "prompt_number": 34,
       "text": [
        "2"
       ]
      }
     ],
     "prompt_number": 34
    },
    {
     "cell_type": "raw",
     "metadata": {},
     "source": [
      "# Generators can be used in recursive functions and can be used in a wide range of situations\n",
      "# Especially where there are important memory constraints\n",
      "# http://anandology.com/python-practice-book/iterators.html\n"
     ]
    },
    {
     "cell_type": "markdown",
     "metadata": {},
     "source": [
      "## Algorithms"
     ]
    },
    {
     "cell_type": "code",
     "collapsed": false,
     "input": [
      "# Sequential Search"
     ],
     "language": "python",
     "metadata": {},
     "outputs": [],
     "prompt_number": 35
    },
    {
     "cell_type": "code",
     "collapsed": false,
     "input": [
      "def ss(lx,x):\n",
      "    r = False\n",
      "    lenx = len(lx)\n",
      "    pos = 0\n",
      "    while pos < lenx or not r:\n",
      "        print \"Checking \",pos\n",
      "        if lx[pos] == x:\n",
      "            print \"Found ...\"\n",
      "            r = True\n",
      "            break\n",
      "        else:\n",
      "            pos +=1\n",
      "    return r\n",
      "            "
     ],
     "language": "python",
     "metadata": {},
     "outputs": [],
     "prompt_number": 54
    },
    {
     "cell_type": "code",
     "collapsed": false,
     "input": [
      "ss(range(15),6)"
     ],
     "language": "python",
     "metadata": {},
     "outputs": [
      {
       "output_type": "stream",
       "stream": "stdout",
       "text": [
        "Checking  0\n",
        "Checking  1\n",
        "Checking  2\n",
        "Checking  3\n",
        "Checking  4\n",
        "Checking  5\n",
        "Checking  6\n",
        "Found ...\n"
       ]
      },
      {
       "metadata": {},
       "output_type": "pyout",
       "prompt_number": 55,
       "text": [
        "True"
       ]
      }
     ],
     "prompt_number": 55
    },
    {
     "cell_type": "code",
     "collapsed": false,
     "input": [
      "# Binary Search"
     ],
     "language": "python",
     "metadata": {},
     "outputs": [],
     "prompt_number": 56
    },
    {
     "cell_type": "code",
     "collapsed": false,
     "input": [
      "def bs(lx,x):\n",
      "    mid = len(lx)/2\n",
      "    if mid == 0:\n",
      "        if lx[mid] == x:\n",
      "            return True\n",
      "        else:\n",
      "            return False\n",
      "    if lx[mid] == x:\n",
      "        return True\n",
      "    elif lx[mid] > x:\n",
      "        return bs(lx[:mid],x)\n",
      "    elif lx[mid] < x:\n",
      "        return bs(lx[mid:],x)\n",
      "    "
     ],
     "language": "python",
     "metadata": {},
     "outputs": [],
     "prompt_number": 86
    },
    {
     "cell_type": "code",
     "collapsed": false,
     "input": [
      "print bs(range(100),2)"
     ],
     "language": "python",
     "metadata": {},
     "outputs": [
      {
       "output_type": "stream",
       "stream": "stdout",
       "text": [
        "True\n"
       ]
      }
     ],
     "prompt_number": 98
    },
    {
     "cell_type": "code",
     "collapsed": false,
     "input": [
      "1/2"
     ],
     "language": "python",
     "metadata": {},
     "outputs": [
      {
       "metadata": {},
       "output_type": "pyout",
       "prompt_number": 84,
       "text": [
        "0"
       ]
      }
     ],
     "prompt_number": 84
    },
    {
     "cell_type": "markdown",
     "metadata": {},
     "source": [
      "## Breadth-First and Depth First"
     ]
    },
    {
     "cell_type": "raw",
     "metadata": {},
     "source": [
      "DFS (Depth First Search) and BFS (Breadth First Search) are search algorithms used for graphs and trees. When you have an ordered tree or graph, like a BST, it\u2019s quite easy to search the data structure to find the node that you want. But, when given an unordered tree or graph, the BFS and DFS search algorithms can come in handy to find what you\u2019re looking for. The decision to choose one over the other should be based on the type of data that one is dealing with."
     ]
    },
    {
     "cell_type": "raw",
     "metadata": {},
     "source": [
      "An example of BFS\n",
      "\n",
      "Here\u2019s an example of what a BFS would look like. The numbers represent the order in which the nodes are accessed in a BFS:"
     ]
    },
    {
     "cell_type": "code",
     "collapsed": false,
     "input": [
      "Image(filename='bfs.jpg')"
     ],
     "language": "python",
     "metadata": {},
     "outputs": [
      {
       "jpeg": "[encoded data removed]",
       "metadata": {},
       "output_type": "pyout",
       "prompt_number": 99,
       "text": [
        "<IPython.core.display.Image at 0x103d93690>"
       ]
      }
     ],
     "prompt_number": 99
    },
    {
     "cell_type": "raw",
     "metadata": {},
     "source": [
      "An example of DFS\n",
      "\n",
      "Here\u2019s an example of what a DFS would look like. The numbers represent the order in which the nodes are accessed in a DFS:"
     ]
    },
    {
     "cell_type": "code",
     "collapsed": false,
     "input": [
      "Image(filename='dfs.jpg')"
     ],
     "language": "python",
     "metadata": {},
     "outputs": [
      {
       "jpeg": "[encoded data removed]",
       "metadata": {},
       "output_type": "pyout",
       "prompt_number": 100,
       "text": [
        "<IPython.core.display.Image at 0x103d93b10>"
       ]
      }
     ],
     "prompt_number": 100
    },
    {
     "cell_type": "raw",
     "metadata": {},
     "source": [
      "BFS and DFS have different advantages and the choice of which to use depends on the problem domain. For eg., if we wanted to find all the present children of parents in an ancestry tree, DFS would reach their faster compared to BFS"
     ]
    },
    {
     "cell_type": "markdown",
     "metadata": {},
     "source": [
      "## Heap"
     ]
    },
    {
     "cell_type": "raw",
     "metadata": {},
     "source": [
      "Heaps are binary trees for which every parent node has a value less than or equal to any of its children. \n",
      "\n",
      "Essentially Parent Value <= Children Value"
     ]
    },
    {
     "cell_type": "raw",
     "metadata": {},
     "source": [
      "The facility is available in the heapq package in Python\n",
      "\n",
      "Examples:\n",
      "\n",
      "heapq.heappush(heap, item)\n",
      "Push the value item onto the heap, maintaining the heap invariant.\n",
      "\n",
      "heapq.heappop(heap)\n",
      "Pop and return the smallest item from the heap, maintaining the heap invariant. If the heap is empty, IndexError is raised. To access the smallest item without popping it, use heap[0].\n",
      "\n",
      "heapq.heappushpop(heap, item)\n",
      "Push item on the heap, then pop and return the smallest item from the heap. The combined action runs more efficiently than heappush() followed by a separate call to heappop().\n",
      "\n",
      "heapq.heapify(x)\n",
      "Transform list x into a heap, in-place, in linear time.\n",
      "\n"
     ]
    },
    {
     "cell_type": "code",
     "collapsed": false,
     "input": [
      "from heapq import *\n",
      "\n",
      "# Using heap-push to sort an array\n",
      "\n",
      "def heapsort(iterable):\n",
      "    h = []\n",
      "    for value in iterable:\n",
      "        heappush(h, value)\n",
      "    return [heappop(h) for i in range(len(h))]"
     ],
     "language": "python",
     "metadata": {},
     "outputs": [],
     "prompt_number": 104
    },
    {
     "cell_type": "code",
     "collapsed": false,
     "input": [
      "heapsort([1, 3, 5, 7, 9, 2, 4, 6, 8, 0])"
     ],
     "language": "python",
     "metadata": {},
     "outputs": [
      {
       "metadata": {},
       "output_type": "pyout",
       "prompt_number": 105,
       "text": [
        "[0, 1, 2, 3, 4, 5, 6, 7, 8, 9]"
       ]
      }
     ],
     "prompt_number": 105
    },
    {
     "cell_type": "markdown",
     "metadata": {},
     "source": [
      "## Add Scikit-Learn"
     ]
    },
    {
     "cell_type": "raw",
     "metadata": {},
     "source": [
      "TBD"
     ]
    },
    {
     "cell_type": "markdown",
     "metadata": {},
     "source": [
      "## Bit Manipulation"
     ]
    },
    {
     "cell_type": "code",
     "collapsed": false,
     "input": [
      "print int('00100001', 2) # Binary to Int\n",
      "print \"0x%x\" % int('00100001', 2) # Binary to Hex\n",
      "print bin(100) # Int to Binary\n",
      "print hex(100) # Also hex for Int to Hex\n",
      "print int('0x64',16) # Reverse of above\n",
      "\n",
      "chr(int('111011', 2)) # Binary to Character"
     ],
     "language": "python",
     "metadata": {},
     "outputs": [
      {
       "output_type": "stream",
       "stream": "stdout",
       "text": [
        "33\n",
        "0x21\n",
        "0b1100100\n",
        "0x64\n",
        "100\n"
       ]
      },
      {
       "metadata": {},
       "output_type": "pyout",
       "prompt_number": 117,
       "text": [
        "';'"
       ]
      }
     ],
     "prompt_number": 117
    },
    {
     "cell_type": "code",
     "collapsed": false,
     "input": [
      "# Bit-Shift\n",
      "1 << 4"
     ],
     "language": "python",
     "metadata": {},
     "outputs": [
      {
       "metadata": {},
       "output_type": "pyout",
       "prompt_number": 120,
       "text": [
        "16"
       ]
      }
     ],
     "prompt_number": 120
    },
    {
     "cell_type": "code",
     "collapsed": false,
     "input": [
      "'''\n",
      "x << y\n",
      "Returns x with the bits shifted to the left by y places (and new bits on the right-hand-side are \n",
      "zeros). This is the same as multiplying x by 2**y.\n",
      "x >> y\n",
      "Returns x with the bits shifted to the right by y places. This is the same as //'ing x by 2**y.\n",
      "x & y\n",
      "Does a \"bitwise and\". Each bit of the output is 1 if the corresponding bit of x AND of y is 1,\n",
      "otherwise it's 0.\n",
      "x | y\n",
      "Does a \"bitwise or\". Each bit of the output is 0 if the corresponding bit of x AND of y is 0, \n",
      "otherwise it's 1.\n",
      "~ x\n",
      "Returns the complement of x - the number you get by switching each 1 for a 0 and each 0 for a 1.\n",
      "This is the same as -x - 1.\n",
      "x ^ y\n",
      "Does a \"bitwise exclusive or\". Each bit of the output is the same as the corresponding bit in x \n",
      "if that bit in y is 0, and it's the complement of the bit in x if that bit in y is 1.\n",
      "'''\n",
      "None"
     ],
     "language": "python",
     "metadata": {},
     "outputs": [],
     "prompt_number": 122
    },
    {
     "cell_type": "code",
     "collapsed": false,
     "input": [],
     "language": "python",
     "metadata": {},
     "outputs": []
    }
   ],
   "metadata": {}
  }
 ]
}