{
 "metadata": {
  "name": "",
  "signature": "sha256:5a5569f9f67f85cc3352b9cefd5669273383d8af93c4e65e343d96676dc399a6"
 },
 "nbformat": 3,
 "nbformat_minor": 0,
 "worksheets": [
  {
   "cells": [
    {
     "cell_type": "code",
     "collapsed": false,
     "input": [
      "# Coding Exercises\n",
      "# http://www.python-course.eu/course.php"
     ],
     "language": "python",
     "metadata": {},
     "outputs": [],
     "prompt_number": 1
    },
    {
     "cell_type": "markdown",
     "metadata": {},
     "source": [
      "## Recursion"
     ]
    },
    {
     "cell_type": "raw",
     "metadata": {},
     "source": [
      "# Main Rules\n",
      "# Base Case (when should the recursion stop) - eg., 0 and 1\n",
      "# Recursive Case (when should it run)\n",
      "\n",
      "For Example:\n",
      "    \n",
      "Fibonacci is defined as\n",
      "\n",
      "    Fn = Fn-1 + Fn-2 \n",
      "    with F0 = 0 and F1 = 1 (F is the 'function name')\n",
      "\n",
      "Factorial is defined as:\n",
      "    Fn = Fn * Fn-1\n",
      "    F0 = 1\n",
      "\n",
      "We can use these sorts of basic definitions to create the recursive functions\n"
     ]
    },
    {
     "cell_type": "code",
     "collapsed": false,
     "input": [
      "'''\n",
      "Factorial is defined as:\n",
      "    Fn = Fn * Fn-1\n",
      "    F0 = 1\n",
      "'''\n",
      "\n",
      "def fact(n):\n",
      "    if n == 0:\n",
      "        return 1\n",
      "    return n * fact(n-1)\n",
      "\n",
      "fact(4)"
     ],
     "language": "python",
     "metadata": {},
     "outputs": [
      {
       "metadata": {},
       "output_type": "pyout",
       "prompt_number": 4,
       "text": [
        "24"
       ]
      }
     ],
     "prompt_number": 4
    },
    {
     "cell_type": "code",
     "collapsed": false,
     "input": [
      "'''\n",
      "Fibonacci is defined as\n",
      "\n",
      "    Fn = Fn-1 + Fn-2 \n",
      "    with F0 = 0 and F1 = 1 (F is the 'function name')\n",
      "'''\n",
      "\n",
      "def fib(n):\n",
      "    if n==0 or n==1:\n",
      "        return n\n",
      "    return fib(n-1) + fib(n-2)\n",
      "\n",
      "map(fib,range(10))"
     ],
     "language": "python",
     "metadata": {},
     "outputs": [
      {
       "metadata": {},
       "output_type": "pyout",
       "prompt_number": 13,
       "text": [
        "[0, 1, 1, 2, 3, 5, 8, 13, 21, 34]"
       ]
      }
     ],
     "prompt_number": 13
    },
    {
     "cell_type": "code",
     "collapsed": false,
     "input": [
      "# Q. Write a rec. function that returns the sum of the first n integers.\n",
      "'''\n",
      "if n = 0 or n = 1, return 1\n",
      "else return n + (n - 1)\n",
      "'''\n",
      "def fsum(n):\n",
      "    if n <= 1:\n",
      "        return n\n",
      "    return n + fsum(n-1)\n",
      "\n",
      "fsum(3)"
     ],
     "language": "python",
     "metadata": {},
     "outputs": [
      {
       "metadata": {},
       "output_type": "pyout",
       "prompt_number": 15,
       "text": [
        "6"
       ]
      }
     ],
     "prompt_number": 15
    },
    {
     "cell_type": "code",
     "collapsed": false,
     "input": [
      "'''\n",
      "# Q. Write a function which implements the Pascal's triangle:\n",
      "\n",
      "1\n",
      "1    1\n",
      "1    2    1\n",
      "1    3    3    1\n",
      "1    4    6    4    1\n",
      "1    5    10    10    5    1\n",
      "'''\n",
      "\n",
      "def pas(n):\n",
      "    if n == 1:\n",
      "        return [1]\n",
      "    else:\n",
      "        p_line = pas(n-1)\n",
      "        line = [p_line[i]+p_line[i+1] for i in range(len(p_line)-1)]\n",
      "        \n",
      "        line.insert(0,1) # Insert 1 at location 0 (beginning)\n",
      "        line.append(1) # Insert 1 at the end\n",
      "    return line\n",
      "\n",
      "pas(5)"
     ],
     "language": "python",
     "metadata": {},
     "outputs": [
      {
       "metadata": {},
       "output_type": "pyout",
       "prompt_number": 57,
       "text": [
        "[1, 4, 6, 4, 1]"
       ]
      }
     ],
     "prompt_number": 57
    },
    {
     "cell_type": "raw",
     "metadata": {},
     "source": [
      "KDB+/Q Solution\n",
      "\n",
      "f:{{(+) prior x,0}\\[x-1;1]}\n",
      "\n",
      "/Basically in \\[x;y] -- the y input is passed back x times\n",
      "/In this case, we are passing it back x - 1 times\n",
      "\n",
      "/Run {x}[1] for 5 times\n",
      "q){x}\\[5;1]\n",
      "1 1 1 1 1 1\n",
      "\n",
      "/Run {x}[10] for 5 times\n",
      "q){x}\\[5;10]\n",
      "10 10 10 10 10 10\n",
      "\n",
      "So, f:{{(+) prior x,0}\\[x-1;1]}\n",
      "\n",
      "means, the starting input is 1\n",
      "and the results will be looped back to {(+) prior x,0} for x - 1 times\n",
      "\n",
      "The \\ scan operator in \\[x-1;1] returns the results back into the same function x - 1 times\n",
      "\n",
      "/Step 1: The function is run with 1 -> (1, 0)\n",
      "q)(+) prior 1 0\n",
      "1 1\n",
      "\n",
      "/The result 1 1 is now returned back to the function -> (1 1, 0)\n",
      "\n",
      "q)(+) prior 1 1 0\n",
      "1 2 1\n",
      "\n",
      "We then use the scan adverb to pass the result of this function back in \n",
      "as the argument, x-1 times:\n",
      "\n",
      "q)f:{{(+) prior x,0}\\[x-1;1]}\n",
      "\n",
      "q){(+) prior x,0}\\[5;1]\n",
      "1\n",
      "1 1\n",
      "1 2 1\n",
      "1 3 3 1\n",
      "1 4 6 4 1\n",
      "1 5 10 10 5 1\n"
     ]
    },
    {
     "cell_type": "code",
     "collapsed": false,
     "input": [
      "# Palindromes\n",
      "# \"abc\" --> \"cba\"\n",
      "\n",
      "def pal(x):\n",
      "    if len(x) in [0,1]:\n",
      "        return x\n",
      "    return x[-1] + pal(x[:-1])\n",
      "\n",
      "pal(\"abcde\")"
     ],
     "language": "python",
     "metadata": {},
     "outputs": [
      {
       "metadata": {},
       "output_type": "pyout",
       "prompt_number": 61,
       "text": [
        "'edcba'"
       ]
      }
     ],
     "prompt_number": 61
    },
    {
     "cell_type": "code",
     "collapsed": false,
     "input": [
      "# Write a Python program to calculate the value of 'a' to the power 'b'. Go to the editor\n",
      "# Test Data : \n",
      "# (power(3,4) -> 81\n",
      "\n",
      "def power(a,b):\n",
      "    if b==0:\n",
      "        return 1\n",
      "    elif b==1:\n",
      "        return a\n",
      "    return a * power(a,b-1)\n",
      "\n",
      "power(3,4)"
     ],
     "language": "python",
     "metadata": {},
     "outputs": [
      {
       "metadata": {},
       "output_type": "pyout",
       "prompt_number": 63,
       "text": [
        "81"
       ]
      }
     ],
     "prompt_number": 63
    },
    {
     "cell_type": "code",
     "collapsed": false,
     "input": [
      "# Find the greatest common divisor\n",
      "# g = gcd(a, b) = gcd(b, r0) = gcd(r0, r1) = \u2026 = gcd(rN\u22122, rN\u22121) = rN\u22121\n",
      "\n",
      "#Step k\tEquation\tQuotient and remainder\n",
      "#0\t1071 = q0 462 + r0\tq0 = 2 and r0 = 147\n",
      "#1\t462 = q1 147 + r1\tq1 = 3 and r1 = 21\n",
      "#2\t147 = q2 21 + r2\tq2 = 7 and r2 = 0; algorithm ends\n",
      "\n",
      "\n",
      "def gcd(a,b):\n",
      "    if a%b == 0:\n",
      "        return min(a,b)\n",
      "    return gcd(b,a%b)\n",
      "\n",
      "gcd(1071,462)"
     ],
     "language": "python",
     "metadata": {},
     "outputs": [
      {
       "metadata": {},
       "output_type": "pyout",
       "prompt_number": 78,
       "text": [
        "21"
       ]
      }
     ],
     "prompt_number": 78
    },
    {
     "cell_type": "code",
     "collapsed": false,
     "input": [
      "# Write a function permute to compute all possible permutations \n",
      "# of elements of a given list.\n",
      "\n",
      "# >>> permute([1, 2, 3])\n",
      "# [[1, 2, 3], [1, 3, 2], [2, 1, 3], [2, 3, 1], [3, 1, 2], [3, 2, 1]]\n",
      "\n",
      "# Needs to be done with yield, but otherwise,\n",
      "\n",
      "import itertools\n",
      "list(itertools.permutations([1,2,3]))"
     ],
     "language": "python",
     "metadata": {},
     "outputs": [
      {
       "metadata": {},
       "output_type": "pyout",
       "prompt_number": 99,
       "text": [
        "[(1, 2, 3), (1, 3, 2), (2, 1, 3), (2, 3, 1), (3, 1, 2), (3, 2, 1)]"
       ]
      }
     ],
     "prompt_number": 99
    },
    {
     "cell_type": "markdown",
     "metadata": {},
     "source": [
      "## Regular Expressions"
     ]
    },
    {
     "cell_type": "raw",
     "metadata": {},
     "source": [
      "Regular Expressions in Python work by first compiling a pattern\n",
      "Into an object and then using that pattern object to find matches\n",
      "\n",
      "p = re.compile(...) --> p is the pattern object\n",
      "m = p.match(\"string\") --> m is the match object\n",
      "m.start, etc ... functions you can run on m\n"
     ]
    },
    {
     "cell_type": "code",
     "collapsed": false,
     "input": [
      "import re\n",
      "p = re.compile('ab*d*', re.IGNORECASE)\n",
      "p"
     ],
     "language": "python",
     "metadata": {},
     "outputs": [
      {
       "metadata": {},
       "output_type": "pyout",
       "prompt_number": 121,
       "text": [
        "re.compile(r'ab*d*', re.IGNORECASE)"
       ]
      }
     ],
     "prompt_number": 121
    },
    {
     "cell_type": "raw",
     "metadata": {},
     "source": [
      "Method/Attribute\tPurpose\n",
      "match()\n",
      "Determine if the RE matches at the beginning of the string.\n",
      "search()\n",
      "Scan through a string, looking for any location where this RE matches.\n",
      "findall()\n",
      "Find all substrings where the RE matches, and returns them as a list.\n",
      "finditer()\n",
      "Find all substrings where the RE matches, and returns them as an iterator."
     ]
    },
    {
     "cell_type": "code",
     "collapsed": false,
     "input": [
      "m = p.match(\"abcde\")"
     ],
     "language": "python",
     "metadata": {},
     "outputs": [],
     "prompt_number": 122
    },
    {
     "cell_type": "raw",
     "metadata": {},
     "source": [
      "Method/Attribute\tPurpose\n",
      "group()\tReturn the string matched by the RE\n",
      "start()\tReturn the starting position of the match\n",
      "end()\tReturn the ending position of the match\n",
      "span()\tReturn a tuple containing the (start, end) positions of the match"
     ]
    },
    {
     "cell_type": "code",
     "collapsed": false,
     "input": [
      "m.start()"
     ],
     "language": "python",
     "metadata": {},
     "outputs": [
      {
       "metadata": {},
       "output_type": "pyout",
       "prompt_number": 123,
       "text": [
        "0"
       ]
      }
     ],
     "prompt_number": 123
    },
    {
     "cell_type": "code",
     "collapsed": false,
     "input": [
      "m.end()"
     ],
     "language": "python",
     "metadata": {},
     "outputs": [
      {
       "metadata": {},
       "output_type": "pyout",
       "prompt_number": 124,
       "text": [
        "2"
       ]
      }
     ],
     "prompt_number": 124
    },
    {
     "cell_type": "code",
     "collapsed": false,
     "input": [
      "m.span()"
     ],
     "language": "python",
     "metadata": {},
     "outputs": [
      {
       "metadata": {},
       "output_type": "pyout",
       "prompt_number": 125,
       "text": [
        "(0, 2)"
       ]
      }
     ],
     "prompt_number": 125
    },
    {
     "cell_type": "code",
     "collapsed": false,
     "input": [
      "m.group()"
     ],
     "language": "python",
     "metadata": {},
     "outputs": [
      {
       "metadata": {},
       "output_type": "pyout",
       "prompt_number": 126,
       "text": [
        "'ab'"
       ]
      }
     ],
     "prompt_number": 126
    },
    {
     "cell_type": "code",
     "collapsed": false,
     "input": [
      "m = re.search(\"cat\",\"A cat and a rat can't be friends.\")"
     ],
     "language": "python",
     "metadata": {},
     "outputs": [],
     "prompt_number": 130
    },
    {
     "cell_type": "code",
     "collapsed": false,
     "input": [
      "m.start()"
     ],
     "language": "python",
     "metadata": {},
     "outputs": [
      {
       "metadata": {},
       "output_type": "pyout",
       "prompt_number": 132,
       "text": [
        "2"
       ]
      }
     ],
     "prompt_number": 132
    },
    {
     "cell_type": "code",
     "collapsed": false,
     "input": [
      "# findall to Find All matches\n",
      "t=\"A fat cat doesn't eat oat but a rat eats bats.\"\n",
      "\n",
      "re.findall(\"[force]at\", t)"
     ],
     "language": "python",
     "metadata": {},
     "outputs": [
      {
       "metadata": {},
       "output_type": "pyout",
       "prompt_number": 133,
       "text": [
        "['fat', 'cat', 'eat', 'oat', 'rat', 'eat']"
       ]
      }
     ],
     "prompt_number": 133
    },
    {
     "cell_type": "code",
     "collapsed": false,
     "input": [
      "re.findall(\"[0-9]+.*: .*\", \"Customer number: 232454, Date: February 12, 2011\")"
     ],
     "language": "python",
     "metadata": {},
     "outputs": [
      {
       "metadata": {},
       "output_type": "pyout",
       "prompt_number": 134,
       "text": [
        "['232454, Date: February 12, 2011']"
       ]
      }
     ],
     "prompt_number": 134
    },
    {
     "cell_type": "code",
     "collapsed": false,
     "input": [
      "# Substitute\n",
      "re.sub(\"[yY]es\",\"Aye\", \"Yes and no\")"
     ],
     "language": "python",
     "metadata": {},
     "outputs": [
      {
       "metadata": {},
       "output_type": "pyout",
       "prompt_number": 137,
       "text": [
        "'Aye and no'"
       ]
      }
     ],
     "prompt_number": 137
    },
    {
     "cell_type": "code",
     "collapsed": false,
     "input": [
      "\"this is a split\".split(\" \")"
     ],
     "language": "python",
     "metadata": {},
     "outputs": [
      {
       "metadata": {},
       "output_type": "pyout",
       "prompt_number": 138,
       "text": [
        "['this', 'is', 'a', 'split']"
       ]
      }
     ],
     "prompt_number": 138
    },
    {
     "cell_type": "code",
     "collapsed": false,
     "input": [
      "\"-\".join(\"this is a split\".split(\" \"))"
     ],
     "language": "python",
     "metadata": {},
     "outputs": [
      {
       "metadata": {},
       "output_type": "pyout",
       "prompt_number": 149,
       "text": [
        "'this-is-a-split'"
       ]
      }
     ],
     "prompt_number": 149
    },
    {
     "cell_type": "code",
     "collapsed": false,
     "input": [],
     "language": "python",
     "metadata": {},
     "outputs": []
    }
   ],
   "metadata": {}
  }
 ]
}