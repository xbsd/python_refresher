{
 "metadata": {
  "name": "",
  "signature": "sha256:fa05bbbf4c3e4ce2e62dccb8b8883e1ea2bba99933cff29a80b496a457d35e0a"
 },
 "nbformat": 3,
 "nbformat_minor": 0,
 "worksheets": [
  {
   "cells": [
    {
     "cell_type": "code",
     "collapsed": false,
     "input": [
      "# Initial Setup\n",
      "\n",
      "import pandas as pd\n",
      "import numpy as np\n",
      "import matplotlib.pyplot as plt\n",
      "matplotlib.style.use('ggplot')\n",
      "\n",
      "%pylab inline"
     ],
     "language": "python",
     "metadata": {},
     "outputs": [
      {
       "output_type": "stream",
       "stream": "stdout",
       "text": [
        "Populating the interactive namespace from numpy and matplotlib\n"
       ]
      }
     ],
     "prompt_number": 293
    },
    {
     "cell_type": "markdown",
     "metadata": {},
     "source": [
      "# Data Structures"
     ]
    },
    {
     "cell_type": "code",
     "collapsed": false,
     "input": [
      "a = [10,20,30,40,10]"
     ],
     "language": "python",
     "metadata": {},
     "outputs": [],
     "prompt_number": 44
    },
    {
     "cell_type": "code",
     "collapsed": false,
     "input": [
      "a.count(10)"
     ],
     "language": "python",
     "metadata": {},
     "outputs": [
      {
       "metadata": {},
       "output_type": "pyout",
       "prompt_number": 45,
       "text": [
        "2"
       ]
      }
     ],
     "prompt_number": 45
    },
    {
     "cell_type": "code",
     "collapsed": false,
     "input": [
      "a.insert(1,100)\n",
      "a"
     ],
     "language": "python",
     "metadata": {},
     "outputs": [
      {
       "metadata": {},
       "output_type": "pyout",
       "prompt_number": 46,
       "text": [
        "[10, 100, 20, 30, 40, 10]"
       ]
      }
     ],
     "prompt_number": 46
    },
    {
     "cell_type": "code",
     "collapsed": false,
     "input": [
      "a.index(10)"
     ],
     "language": "python",
     "metadata": {},
     "outputs": [
      {
       "metadata": {},
       "output_type": "pyout",
       "prompt_number": 47,
       "text": [
        "0"
       ]
      }
     ],
     "prompt_number": 47
    },
    {
     "cell_type": "code",
     "collapsed": false,
     "input": [
      "a.remove(100)\n",
      "a"
     ],
     "language": "python",
     "metadata": {},
     "outputs": [
      {
       "metadata": {},
       "output_type": "pyout",
       "prompt_number": 48,
       "text": [
        "[10, 20, 30, 40, 10]"
       ]
      }
     ],
     "prompt_number": 48
    },
    {
     "cell_type": "code",
     "collapsed": false,
     "input": [
      "a.reverse()\n",
      "a"
     ],
     "language": "python",
     "metadata": {},
     "outputs": [
      {
       "metadata": {},
       "output_type": "pyout",
       "prompt_number": 49,
       "text": [
        "[10, 40, 30, 20, 10]"
       ]
      }
     ],
     "prompt_number": 49
    },
    {
     "cell_type": "code",
     "collapsed": false,
     "input": [
      "a.sort()\n",
      "a"
     ],
     "language": "python",
     "metadata": {},
     "outputs": [
      {
       "metadata": {},
       "output_type": "pyout",
       "prompt_number": 50,
       "text": [
        "[10, 10, 20, 30, 40]"
       ]
      }
     ],
     "prompt_number": 50
    },
    {
     "cell_type": "code",
     "collapsed": false,
     "input": [
      "a.pop() # LIFO\n",
      "a"
     ],
     "language": "python",
     "metadata": {},
     "outputs": [
      {
       "metadata": {},
       "output_type": "pyout",
       "prompt_number": 51,
       "text": [
        "[10, 10, 20, 30]"
       ]
      }
     ],
     "prompt_number": 51
    },
    {
     "cell_type": "code",
     "collapsed": false,
     "input": [
      "a[0]"
     ],
     "language": "python",
     "metadata": {},
     "outputs": [
      {
       "metadata": {},
       "output_type": "pyout",
       "prompt_number": 52,
       "text": [
        "10"
       ]
      }
     ],
     "prompt_number": 52
    },
    {
     "cell_type": "code",
     "collapsed": false,
     "input": [
      "del a[0]\n",
      "a"
     ],
     "language": "python",
     "metadata": {},
     "outputs": [
      {
       "metadata": {},
       "output_type": "pyout",
       "prompt_number": 53,
       "text": [
        "[10, 20, 30]"
       ]
      }
     ],
     "prompt_number": 53
    },
    {
     "cell_type": "code",
     "collapsed": false,
     "input": [
      "del a[0:1]"
     ],
     "language": "python",
     "metadata": {},
     "outputs": [],
     "prompt_number": 54
    },
    {
     "cell_type": "code",
     "collapsed": false,
     "input": [
      "a"
     ],
     "language": "python",
     "metadata": {},
     "outputs": [
      {
       "metadata": {},
       "output_type": "pyout",
       "prompt_number": 55,
       "text": [
        "[20, 30]"
       ]
      }
     ],
     "prompt_number": 55
    },
    {
     "cell_type": "code",
     "collapsed": false,
     "input": [
      "# What we did was essentially use the list as a stack\n",
      "# We can also use it as a queue (FIFO)"
     ],
     "language": "python",
     "metadata": {},
     "outputs": [],
     "prompt_number": 24
    },
    {
     "cell_type": "code",
     "collapsed": false,
     "input": [
      "from collections import deque"
     ],
     "language": "python",
     "metadata": {},
     "outputs": [],
     "prompt_number": 29
    },
    {
     "cell_type": "code",
     "collapsed": false,
     "input": [
      "q = deque([1,2,3,4,5])"
     ],
     "language": "python",
     "metadata": {},
     "outputs": [],
     "prompt_number": 30
    },
    {
     "cell_type": "code",
     "collapsed": false,
     "input": [
      "q.append(100)\n",
      "q"
     ],
     "language": "python",
     "metadata": {},
     "outputs": [
      {
       "metadata": {},
       "output_type": "pyout",
       "prompt_number": 31,
       "text": [
        "deque([1, 2, 3, 4, 5, 100])"
       ]
      }
     ],
     "prompt_number": 31
    },
    {
     "cell_type": "code",
     "collapsed": false,
     "input": [
      "q.popleft()\n",
      "q"
     ],
     "language": "python",
     "metadata": {},
     "outputs": [
      {
       "metadata": {},
       "output_type": "pyout",
       "prompt_number": 32,
       "text": [
        "deque([2, 3, 4, 5, 100])"
       ]
      }
     ],
     "prompt_number": 32
    },
    {
     "cell_type": "code",
     "collapsed": false,
     "input": [
      "# Filter, Map and Reduce\n",
      "\n",
      "def f(x): return x % 3 == 0 or x % 5 == 0\n",
      "def cube(x): return x*x*x\n",
      "\n",
      "def sum(seq):\n",
      "    def add(x,y): return x+y\n",
      "    return reduce(add, seq, 0)\n",
      "\n",
      "print \"FILTER: filter(f, range(1,10))\"\n",
      "print (range(1,10))\n",
      "print filter(f, range(1,10))\n",
      "print\n",
      "\n",
      "print \"MAP: map(cube, range(1, 11))\"\n",
      "print map(cube, range(1, 11))\n",
      "print\n",
      "'''\n",
      "reduce(function, sequence) returns a single value constructed by calling \n",
      "the binary function function on the first two items of the sequence, then \n",
      "on the result and the next item, and so on.\n",
      "'''\n",
      "print \"REDUCE: sum(range(1, 11)) . (Just an example)\"\n",
      "print sum(range(1, 11))\n"
     ],
     "language": "python",
     "metadata": {},
     "outputs": [
      {
       "output_type": "stream",
       "stream": "stdout",
       "text": [
        "FILTER: filter(f, range(1,10))\n",
        "[1, 2, 3, 4, 5, 6, 7, 8, 9]\n",
        "[3, 5, 6, 9]\n",
        "\n",
        "MAP: map(cube, range(1, 11))\n",
        "[1, 8, 27, 64, 125, 216, 343, 512, 729, 1000]\n",
        "\n",
        "REDUCE: sum(range(1, 11)) . (Just an example)\n",
        "55\n"
       ]
      }
     ],
     "prompt_number": 34
    },
    {
     "cell_type": "code",
     "collapsed": false,
     "input": [
      "# List comprehensions\n",
      "[x*x for x in range(10)]"
     ],
     "language": "python",
     "metadata": {},
     "outputs": [
      {
       "metadata": {},
       "output_type": "pyout",
       "prompt_number": 36,
       "text": [
        "[0, 1, 4, 9, 16, 25, 36, 49, 64, 81]"
       ]
      }
     ],
     "prompt_number": 36
    },
    {
     "cell_type": "code",
     "collapsed": false,
     "input": [
      "[(x, y) for x in [1,2,3] for y in [3,1,4] if x != y]"
     ],
     "language": "python",
     "metadata": {},
     "outputs": [
      {
       "metadata": {},
       "output_type": "pyout",
       "prompt_number": 37,
       "text": [
        "[(1, 3), (1, 4), (2, 3), (2, 1), (2, 4), (3, 1), (3, 4)]"
       ]
      }
     ],
     "prompt_number": 37
    },
    {
     "cell_type": "code",
     "collapsed": false,
     "input": [
      "matrix = [[1, 2, 3, 4],\n",
      "[5, 6, 7, 8],\n",
      "[9, 10, 11, 12],\n",
      "]"
     ],
     "language": "python",
     "metadata": {},
     "outputs": [],
     "prompt_number": 38
    },
    {
     "cell_type": "code",
     "collapsed": false,
     "input": [
      "[[row[i] for row in matrix] for i in range(4)]"
     ],
     "language": "python",
     "metadata": {},
     "outputs": [
      {
       "metadata": {},
       "output_type": "pyout",
       "prompt_number": 39,
       "text": [
        "[[1, 5, 9], [2, 6, 10], [3, 7, 11], [4, 8, 12]]"
       ]
      }
     ],
     "prompt_number": 39
    },
    {
     "cell_type": "code",
     "collapsed": false,
     "input": [
      "# Same as above\n",
      "transposed=[]\n",
      "for i in range(4):\n",
      "    transposed.append([row[i] for row in matrix])\n"
     ],
     "language": "python",
     "metadata": {},
     "outputs": [],
     "prompt_number": 41
    },
    {
     "cell_type": "code",
     "collapsed": false,
     "input": [
      "# Tuples - are immutable\n",
      "# You can create it by using comma = ,\n",
      "# For eg., a = 10,100, will create a tuple with element 10 due to the trailing ,\n",
      "a = 10,100,\n",
      "a"
     ],
     "language": "python",
     "metadata": {},
     "outputs": [
      {
       "metadata": {},
       "output_type": "pyout",
       "prompt_number": 69,
       "text": [
        "(10, 100)"
       ]
      }
     ],
     "prompt_number": 69
    },
    {
     "cell_type": "code",
     "collapsed": false,
     "input": [
      "a,100"
     ],
     "language": "python",
     "metadata": {},
     "outputs": [
      {
       "metadata": {},
       "output_type": "pyout",
       "prompt_number": 70,
       "text": [
        "((10, 100), 100)"
       ]
      }
     ],
     "prompt_number": 70
    },
    {
     "cell_type": "code",
     "collapsed": false,
     "input": [
      "# Sets = always unique\n",
      "a = [1,2,3,1,4,3]\n",
      "sa = set(a)\n",
      "sa"
     ],
     "language": "python",
     "metadata": {},
     "outputs": [
      {
       "metadata": {},
       "output_type": "pyout",
       "prompt_number": 492,
       "text": [
        "{1, 2, 3, 4}"
       ]
      }
     ],
     "prompt_number": 492
    },
    {
     "cell_type": "code",
     "collapsed": false,
     "input": [
      "# Though sets cannot contain mutable objects, sets are mutable\n",
      "sa.add(9)\n",
      "sa"
     ],
     "language": "python",
     "metadata": {},
     "outputs": [
      {
       "metadata": {},
       "output_type": "pyout",
       "prompt_number": 493,
       "text": [
        "{1, 2, 3, 4, 9}"
       ]
      }
     ],
     "prompt_number": 493
    },
    {
     "cell_type": "code",
     "collapsed": false,
     "input": [
      "# This is where we can use frozenset\n",
      "# frozenset is like a set except they are not mutable\n",
      "sa = frozenset(a)\n",
      "sa"
     ],
     "language": "python",
     "metadata": {},
     "outputs": [
      {
       "metadata": {},
       "output_type": "pyout",
       "prompt_number": 494,
       "text": [
        "frozenset({1, 2, 3, 4})"
       ]
      }
     ],
     "prompt_number": 494
    },
    {
     "cell_type": "code",
     "collapsed": false,
     "input": [
      "# Since frozensets are immutable, the following will throw an error\n",
      "sa.add(9)"
     ],
     "language": "python",
     "metadata": {},
     "outputs": [
      {
       "ename": "AttributeError",
       "evalue": "'frozenset' object has no attribute 'add'",
       "output_type": "pyerr",
       "traceback": [
        "\u001b[0;31m---------------------------------------------------------------------------\u001b[0m\n\u001b[0;31mAttributeError\u001b[0m                            Traceback (most recent call last)",
        "\u001b[0;32m<ipython-input-495-137352599f18>\u001b[0m in \u001b[0;36m<module>\u001b[0;34m()\u001b[0m\n\u001b[0;32m----> 1\u001b[0;31m \u001b[0msa\u001b[0m\u001b[0;34m.\u001b[0m\u001b[0madd\u001b[0m\u001b[0;34m(\u001b[0m\u001b[0;36m9\u001b[0m\u001b[0;34m)\u001b[0m\u001b[0;34m\u001b[0m\u001b[0m\n\u001b[0m",
        "\u001b[0;31mAttributeError\u001b[0m: 'frozenset' object has no attribute 'add'"
       ]
      }
     ],
     "prompt_number": 495
    },
    {
     "cell_type": "code",
     "collapsed": false,
     "input": [
      "x = {\"a\",\"b\",\"c\",\"d\",\"e\"}\n",
      "y = {\"c\",\"d\",\"e\",\"f\",\"g\"}\n",
      "\n",
      "print x.intersection(y)\n",
      "print x.issubset(y)\n",
      "print x.difference(y)\n",
      "x.remove(\"a\")\n",
      "print x"
     ],
     "language": "python",
     "metadata": {},
     "outputs": [
      {
       "output_type": "stream",
       "stream": "stdout",
       "text": [
        "set(['c', 'e', 'd'])\n",
        "False\n",
        "set(['a', 'b'])\n",
        "set(['c', 'b', 'e', 'd'])\n"
       ]
      }
     ],
     "prompt_number": 500
    },
    {
     "cell_type": "code",
     "collapsed": false,
     "input": [
      "# Dictionaries\n",
      "tel = {'jack': 4098, 'sape': 4139}\n",
      "tel['jack']"
     ],
     "language": "python",
     "metadata": {},
     "outputs": [
      {
       "metadata": {},
       "output_type": "pyout",
       "prompt_number": 72,
       "text": [
        "4098"
       ]
      }
     ],
     "prompt_number": 72
    },
    {
     "cell_type": "code",
     "collapsed": false,
     "input": [
      "tel['me'] = 203\n",
      "tel"
     ],
     "language": "python",
     "metadata": {},
     "outputs": [
      {
       "metadata": {},
       "output_type": "pyout",
       "prompt_number": 73,
       "text": [
        "{'jack': 4098, 'me': 203, 'sape': 4139}"
       ]
      }
     ],
     "prompt_number": 73
    },
    {
     "cell_type": "code",
     "collapsed": false,
     "input": [
      "# dict() can build directly from sequences\n",
      "dict([('sape', 4139), ('guido', 4127), ('jack', 4098)])"
     ],
     "language": "python",
     "metadata": {},
     "outputs": [
      {
       "metadata": {},
       "output_type": "pyout",
       "prompt_number": 74,
       "text": [
        "{'guido': 4127, 'jack': 4098, 'sape': 4139}"
       ]
      }
     ],
     "prompt_number": 74
    },
    {
     "cell_type": "code",
     "collapsed": false,
     "input": [
      "# and from dict comprehensions\n",
      "{x: x**2 for x in (2, 4, 6)}"
     ],
     "language": "python",
     "metadata": {},
     "outputs": [
      {
       "metadata": {},
       "output_type": "pyout",
       "prompt_number": 75,
       "text": [
        "{2: 4, 4: 16, 6: 36}"
       ]
      }
     ],
     "prompt_number": 75
    },
    {
     "cell_type": "code",
     "collapsed": false,
     "input": [
      "# If keys are simple strings ...\n",
      "dict(sape=4139, guido=4127, jack=4098)"
     ],
     "language": "python",
     "metadata": {},
     "outputs": [
      {
       "metadata": {},
       "output_type": "pyout",
       "prompt_number": 76,
       "text": [
        "{'guido': 4127, 'jack': 4098, 'sape': 4139}"
       ]
      }
     ],
     "prompt_number": 76
    },
    {
     "cell_type": "code",
     "collapsed": false,
     "input": [
      "# Enumeration\n",
      "for i, v in enumerate(['tic', 'tac', 'toe']):\n",
      "    print i,v"
     ],
     "language": "python",
     "metadata": {},
     "outputs": [
      {
       "output_type": "stream",
       "stream": "stdout",
       "text": [
        "0 tic\n",
        "1 tac\n",
        "2 toe\n"
       ]
      }
     ],
     "prompt_number": 79
    },
    {
     "cell_type": "code",
     "collapsed": false,
     "input": [
      "# Zip\n",
      "questions = ['name', 'quest', 'favorite color']\n",
      "answers = ['lancelot', 'the holy grail', 'blue']\n",
      "\n",
      "for q, a in zip(questions, answers):\n",
      "    print 'What is your {0}?  It is {1}.'.format(q, a)"
     ],
     "language": "python",
     "metadata": {},
     "outputs": [
      {
       "output_type": "stream",
       "stream": "stdout",
       "text": [
        "What is your name?  It is lancelot.\n",
        "What is your quest?  It is the holy grail.\n",
        "What is your favorite color?  It is blue.\n"
       ]
      }
     ],
     "prompt_number": 80
    },
    {
     "cell_type": "code",
     "collapsed": false,
     "input": [
      "range(10)"
     ],
     "language": "python",
     "metadata": {},
     "outputs": [
      {
       "metadata": {},
       "output_type": "pyout",
       "prompt_number": 81,
       "text": [
        "[0, 1, 2, 3, 4, 5, 6, 7, 8, 9]"
       ]
      }
     ],
     "prompt_number": 81
    },
    {
     "cell_type": "code",
     "collapsed": false,
     "input": [
      "?range"
     ],
     "language": "python",
     "metadata": {},
     "outputs": [],
     "prompt_number": 84
    },
    {
     "cell_type": "code",
     "collapsed": false,
     "input": [
      "# Using iteritems\n",
      "knights = {'gallahad': 'the pure', 'robin': 'the brave'}\n",
      "for k, v in knights.iteritems():\n",
      "    print k, v\n"
     ],
     "language": "python",
     "metadata": {},
     "outputs": [
      {
       "output_type": "stream",
       "stream": "stdout",
       "text": [
        "gallahad the pure\n",
        "robin the brave\n"
       ]
      }
     ],
     "prompt_number": 85
    },
    {
     "cell_type": "code",
     "collapsed": false,
     "input": [
      "# Non-null checks will stop as soon as first condition is satisfied\n",
      "string1, string2, string3 = '', 'Trondheim', 'Hammer Dance'\n",
      "string1 or string2 or string3"
     ],
     "language": "python",
     "metadata": {},
     "outputs": [
      {
       "metadata": {},
       "output_type": "pyout",
       "prompt_number": 86,
       "text": [
        "'Trondheim'"
       ]
      }
     ],
     "prompt_number": 86
    },
    {
     "cell_type": "markdown",
     "metadata": {},
     "source": [
      "# Numpy"
     ]
    },
    {
     "cell_type": "code",
     "collapsed": false,
     "input": [
      "# REMEMBER TO ENCLOSE ELEMENTS IN (( )) == 2 ((  and 2 )) marks\n",
      "# Remember Axis 0 = Column, Axis 1 = Row\n",
      "\n",
      "a = np.arange(15).reshape(3, 5)\n",
      "print a"
     ],
     "language": "python",
     "metadata": {},
     "outputs": [
      {
       "output_type": "stream",
       "stream": "stdout",
       "text": [
        "[[ 0  1  2  3  4]\n",
        " [ 5  6  7  8  9]\n",
        " [10 11 12 13 14]]\n"
       ]
      }
     ],
     "prompt_number": 151
    },
    {
     "cell_type": "code",
     "collapsed": false,
     "input": [
      "print 'a.shape:', a.shape\n",
      "print 'a.ndim:', a.ndim\n",
      "print 'a.dtype.name:', a.dtype.name\n",
      "print 'a.itemsize:', a.itemsize, '(bytes)' # Each Element is of size 8 bytes\n",
      "print 'a.size:', a.size\n",
      "print 'type(a)', type(a)\n",
      "print 'You can also create an nparray directly -> b = np.array([6, 7, 8])'\n",
      "b = np.array([6, 7, 8])\n",
      "print 'type(b):',type(b)"
     ],
     "language": "python",
     "metadata": {},
     "outputs": [
      {
       "output_type": "stream",
       "stream": "stdout",
       "text": [
        "a.shape: (3, 5)\n",
        "a.ndim: 2\n",
        "a.dtype.name: int64\n",
        "a.itemsize: 8 (bytes)\n",
        "a.size: 15\n",
        "type(a) <type 'numpy.ndarray'>\n",
        "You can also create an nparray directly -> b = np.array([6, 7, 8])\n",
        "type(b): <type 'numpy.ndarray'>\n"
       ]
      }
     ],
     "prompt_number": 106
    },
    {
     "cell_type": "code",
     "collapsed": false,
     "input": [
      "b = np.array([(1.5, 2, 3), (4, 5, 6)])\n",
      "print b\n",
      "print\n",
      "\n",
      "c = np.array([[1, 2], [3, 4]], dtype=complex)\n",
      "print c"
     ],
     "language": "python",
     "metadata": {},
     "outputs": [
      {
       "output_type": "stream",
       "stream": "stdout",
       "text": [
        "[[ 1.5  2.   3. ]\n",
        " [ 4.   5.   6. ]]\n",
        "\n",
        "[[ 1.+0.j  2.+0.j]\n",
        " [ 3.+0.j  4.+0.j]]\n"
       ]
      }
     ],
     "prompt_number": 108
    },
    {
     "cell_type": "code",
     "collapsed": false,
     "input": [
      "# 3X4 np zeros\n",
      "print np.zeros((3, 4))\n",
      "print\n",
      "# 3X4 np ones\n",
      "print np.ones((3,4))"
     ],
     "language": "python",
     "metadata": {},
     "outputs": [
      {
       "output_type": "stream",
       "stream": "stdout",
       "text": [
        "[[ 0.  0.  0.  0.]\n",
        " [ 0.  0.  0.  0.]\n",
        " [ 0.  0.  0.  0.]]\n",
        "\n",
        "[[ 1.  1.  1.  1.]\n",
        " [ 1.  1.  1.  1.]\n",
        " [ 1.  1.  1.  1.]]\n"
       ]
      }
     ],
     "prompt_number": 110
    },
    {
     "cell_type": "code",
     "collapsed": false,
     "input": [
      "# Create a 2 (outter-most) by 3 by 4 (inner-most) NumPy ones\n",
      "np.ones((2, 3, 4))"
     ],
     "language": "python",
     "metadata": {},
     "outputs": [
      {
       "metadata": {},
       "output_type": "pyout",
       "prompt_number": 112,
       "text": [
        "array([[[ 1.,  1.,  1.,  1.],\n",
        "        [ 1.,  1.,  1.,  1.],\n",
        "        [ 1.,  1.,  1.,  1.]],\n",
        "\n",
        "       [[ 1.,  1.,  1.,  1.],\n",
        "        [ 1.,  1.,  1.,  1.],\n",
        "        [ 1.,  1.,  1.,  1.]]])"
       ]
      }
     ],
     "prompt_number": 112
    },
    {
     "cell_type": "code",
     "collapsed": false,
     "input": [
      "np.arange(10)"
     ],
     "language": "python",
     "metadata": {},
     "outputs": [
      {
       "metadata": {},
       "output_type": "pyout",
       "prompt_number": 113,
       "text": [
        "array([0, 1, 2, 3, 4, 5, 6, 7, 8, 9])"
       ]
      }
     ],
     "prompt_number": 113
    },
    {
     "cell_type": "code",
     "collapsed": false,
     "input": [
      "np.get_printoptions()"
     ],
     "language": "python",
     "metadata": {},
     "outputs": [
      {
       "metadata": {},
       "output_type": "pyout",
       "prompt_number": 114,
       "text": [
        "{'edgeitems': 3,\n",
        " 'formatter': None,\n",
        " 'infstr': 'inf',\n",
        " 'linewidth': 75,\n",
        " 'nanstr': 'nan',\n",
        " 'precision': 8,\n",
        " 'suppress': False,\n",
        " 'threshold': 1000}"
       ]
      }
     ],
     "prompt_number": 114
    },
    {
     "cell_type": "code",
     "collapsed": false,
     "input": [
      "a = np.array([20, 30, 40, 50])\n",
      "b = np.arange(4)\n",
      "print 'a:',a\n",
      "print 'b:',b\n",
      "print\n",
      "print 'a - b:', a - b\n",
      "print 'a * b:', a * b\n",
      "print 'np.dot(a,b) = sum (a * b):', np.dot(a,b)"
     ],
     "language": "python",
     "metadata": {},
     "outputs": [
      {
       "output_type": "stream",
       "stream": "stdout",
       "text": [
        "a: [20 30 40 50]\n",
        "b: [0 1 2 3]\n",
        "\n",
        "a - b: [20 29 38 47]\n",
        "a * b: [  0  30  80 150]\n",
        "np.dot(a,b) = sum (a * b): 260\n"
       ]
      }
     ],
     "prompt_number": 126
    },
    {
     "cell_type": "code",
     "collapsed": false,
     "input": [
      "print np.random.randint(10)\n",
      "print np.random.random(2)"
     ],
     "language": "python",
     "metadata": {},
     "outputs": [
      {
       "output_type": "stream",
       "stream": "stdout",
       "text": [
        "0\n",
        "[ 0.56600493  0.89627127]\n"
       ]
      }
     ],
     "prompt_number": 130
    },
    {
     "cell_type": "code",
     "collapsed": false,
     "input": [
      "b = np.random.random((2,3))\n",
      "print b\n",
      "a = np.ones((2,3))\n",
      "print a"
     ],
     "language": "python",
     "metadata": {},
     "outputs": [
      {
       "output_type": "stream",
       "stream": "stdout",
       "text": [
        "[[ 0.68256344  0.96132393  0.61241452]\n",
        " [ 0.84106469  0.62902217  0.70570853]]\n",
        "[[ 1.  1.  1.]\n",
        " [ 1.  1.  1.]]\n"
       ]
      }
     ],
     "prompt_number": 135
    },
    {
     "cell_type": "code",
     "collapsed": false,
     "input": [
      "a + b"
     ],
     "language": "python",
     "metadata": {},
     "outputs": [
      {
       "metadata": {},
       "output_type": "pyout",
       "prompt_number": 136,
       "text": [
        "array([[ 1.68256344,  1.96132393,  1.61241452],\n",
        "       [ 1.84106469,  1.62902217,  1.70570853]])"
       ]
      }
     ],
     "prompt_number": 136
    },
    {
     "cell_type": "code",
     "collapsed": false,
     "input": [
      "c = np.array(([1,2,3],[10,20,30]))\n",
      "c"
     ],
     "language": "python",
     "metadata": {},
     "outputs": [
      {
       "metadata": {},
       "output_type": "pyout",
       "prompt_number": 144,
       "text": [
        "array([[ 1,  2,  3],\n",
        "       [10, 20, 30]])"
       ]
      }
     ],
     "prompt_number": 144
    },
    {
     "cell_type": "code",
     "collapsed": false,
     "input": [
      "# or\n",
      "np.array((1,2,3,10,20,30)).reshape(2,3)"
     ],
     "language": "python",
     "metadata": {},
     "outputs": [
      {
       "metadata": {},
       "output_type": "pyout",
       "prompt_number": 145,
       "text": [
        "array([[ 1,  2,  3],\n",
        "       [10, 20, 30]])"
       ]
      }
     ],
     "prompt_number": 145
    },
    {
     "cell_type": "code",
     "collapsed": false,
     "input": [
      "print c.max()\n",
      "print c.min()\n",
      "print\n",
      "\n",
      "print c.sum(axis = 0) # Axis 0 = Column-Wise\n",
      "print c.sum(axis = 1) # Axis 1 = Row-Wise\n",
      "print\n",
      "\n",
      "print c.min(axis = 0) # Min of each column"
     ],
     "language": "python",
     "metadata": {},
     "outputs": [
      {
       "output_type": "stream",
       "stream": "stdout",
       "text": [
        "30\n",
        "1\n",
        "\n",
        "[11 22 33]\n",
        "[ 6 60]\n",
        "\n",
        "[1 2 3]\n"
       ]
      }
     ],
     "prompt_number": 150
    },
    {
     "cell_type": "code",
     "collapsed": false,
     "input": [
      "print c[1]\n",
      "c[1,0:2] # c 0 1 of element 1"
     ],
     "language": "python",
     "metadata": {},
     "outputs": [
      {
       "output_type": "stream",
       "stream": "stdout",
       "text": [
        "[10 20 30]\n"
       ]
      },
      {
       "metadata": {},
       "output_type": "pyout",
       "prompt_number": 163,
       "text": [
        "array([10, 20])"
       ]
      }
     ],
     "prompt_number": 163
    },
    {
     "cell_type": "code",
     "collapsed": false,
     "input": [
      "# Reverse ... (i)\n",
      "c[::-1]"
     ],
     "language": "python",
     "metadata": {},
     "outputs": [
      {
       "metadata": {},
       "output_type": "pyout",
       "prompt_number": 164,
       "text": [
        "array([[10, 20, 30],\n",
        "       [ 1,  2,  3]])"
       ]
      }
     ],
     "prompt_number": 164
    },
    {
     "cell_type": "code",
     "collapsed": false,
     "input": [
      "# Reverse each row ... (ii)\n",
      "c[:,::-1]"
     ],
     "language": "python",
     "metadata": {},
     "outputs": [
      {
       "metadata": {},
       "output_type": "pyout",
       "prompt_number": 167,
       "text": [
        "array([[ 3,  2,  1],\n",
        "       [30, 20, 10]])"
       ]
      }
     ],
     "prompt_number": 167
    },
    {
     "cell_type": "code",
     "collapsed": false,
     "input": [
      "# Combine i and ii = Reverse rows and reverse elements in each row\n",
      "c[::-1][:,::-1]"
     ],
     "language": "python",
     "metadata": {},
     "outputs": [
      {
       "metadata": {},
       "output_type": "pyout",
       "prompt_number": 168,
       "text": [
        "array([[30, 20, 10],\n",
        "       [ 3,  2,  1]])"
       ]
      }
     ],
     "prompt_number": 168
    },
    {
     "cell_type": "code",
     "collapsed": false,
     "input": [
      "np.sign(c)"
     ],
     "language": "python",
     "metadata": {},
     "outputs": [
      {
       "metadata": {},
       "output_type": "pyout",
       "prompt_number": 169,
       "text": [
        "array([[1, 1, 1],\n",
        "       [1, 1, 1]])"
       ]
      }
     ],
     "prompt_number": 169
    },
    {
     "cell_type": "code",
     "collapsed": false,
     "input": [
      "c[:]"
     ],
     "language": "python",
     "metadata": {},
     "outputs": [
      {
       "metadata": {},
       "output_type": "pyout",
       "prompt_number": 170,
       "text": [
        "array([[ 1,  2,  3],\n",
        "       [10, 20, 30]])"
       ]
      }
     ],
     "prompt_number": 170
    },
    {
     "cell_type": "code",
     "collapsed": false,
     "input": [
      "c[::]"
     ],
     "language": "python",
     "metadata": {},
     "outputs": [
      {
       "metadata": {},
       "output_type": "pyout",
       "prompt_number": 171,
       "text": [
        "array([[ 1,  2,  3],\n",
        "       [10, 20, 30]])"
       ]
      }
     ],
     "prompt_number": 171
    },
    {
     "cell_type": "code",
     "collapsed": false,
     "input": [
      "def f(x,y):\n",
      "    return 10*x + y\n",
      "\n",
      "b = np.fromfunction(f, (5, 4), dtype=np.int)\n",
      "b"
     ],
     "language": "python",
     "metadata": {},
     "outputs": [
      {
       "metadata": {},
       "output_type": "pyout",
       "prompt_number": 174,
       "text": [
        "array([[ 0,  1,  2,  3],\n",
        "       [10, 11, 12, 13],\n",
        "       [20, 21, 22, 23],\n",
        "       [30, 31, 32, 33],\n",
        "       [40, 41, 42, 43]])"
       ]
      }
     ],
     "prompt_number": 174
    },
    {
     "cell_type": "code",
     "collapsed": false,
     "input": [
      "b[2,3]"
     ],
     "language": "python",
     "metadata": {},
     "outputs": [
      {
       "metadata": {},
       "output_type": "pyout",
       "prompt_number": 175,
       "text": [
        "23"
       ]
      }
     ],
     "prompt_number": 175
    },
    {
     "cell_type": "code",
     "collapsed": false,
     "input": [
      "b[0:5]"
     ],
     "language": "python",
     "metadata": {},
     "outputs": [
      {
       "metadata": {},
       "output_type": "pyout",
       "prompt_number": 176,
       "text": [
        "array([[ 0,  1,  2,  3],\n",
        "       [10, 11, 12, 13],\n",
        "       [20, 21, 22, 23],\n",
        "       [30, 31, 32, 33],\n",
        "       [40, 41, 42, 43]])"
       ]
      }
     ],
     "prompt_number": 176
    },
    {
     "cell_type": "code",
     "collapsed": false,
     "input": [
      "b[0:4]"
     ],
     "language": "python",
     "metadata": {},
     "outputs": [
      {
       "metadata": {},
       "output_type": "pyout",
       "prompt_number": 177,
       "text": [
        "array([[ 0,  1,  2,  3],\n",
        "       [10, 11, 12, 13],\n",
        "       [20, 21, 22, 23],\n",
        "       [30, 31, 32, 33]])"
       ]
      }
     ],
     "prompt_number": 177
    },
    {
     "cell_type": "code",
     "collapsed": false,
     "input": [
      "b[0:4,1]"
     ],
     "language": "python",
     "metadata": {},
     "outputs": [
      {
       "metadata": {},
       "output_type": "pyout",
       "prompt_number": 178,
       "text": [
        "array([ 1, 11, 21, 31])"
       ]
      }
     ],
     "prompt_number": 178
    },
    {
     "cell_type": "code",
     "collapsed": false,
     "input": [
      "b[:,1]"
     ],
     "language": "python",
     "metadata": {},
     "outputs": [
      {
       "metadata": {},
       "output_type": "pyout",
       "prompt_number": 179,
       "text": [
        "array([ 1, 11, 21, 31, 41])"
       ]
      }
     ],
     "prompt_number": 179
    },
    {
     "cell_type": "code",
     "collapsed": false,
     "input": [
      "b[-1]"
     ],
     "language": "python",
     "metadata": {},
     "outputs": [
      {
       "metadata": {},
       "output_type": "pyout",
       "prompt_number": 182,
       "text": [
        "array([40, 41, 42, 43])"
       ]
      }
     ],
     "prompt_number": 182
    },
    {
     "cell_type": "code",
     "collapsed": false,
     "input": [
      "b[:,-1]"
     ],
     "language": "python",
     "metadata": {},
     "outputs": [
      {
       "metadata": {},
       "output_type": "pyout",
       "prompt_number": 183,
       "text": [
        "array([ 3, 13, 23, 33, 43])"
       ]
      }
     ],
     "prompt_number": 183
    },
    {
     "cell_type": "markdown",
     "metadata": {},
     "source": [
      "## Nice Example of Indexing"
     ]
    },
    {
     "cell_type": "code",
     "collapsed": false,
     "input": [
      "c = np.array([[[ 0,  1,  2],\n",
      "                [10, 12, 13]],\n",
      "             \n",
      "               [[100, 101, 102],\n",
      "                [110, 112, 113]]])"
     ],
     "language": "python",
     "metadata": {},
     "outputs": [],
     "prompt_number": 196
    },
    {
     "cell_type": "code",
     "collapsed": false,
     "input": [
      "c.shape"
     ],
     "language": "python",
     "metadata": {},
     "outputs": [
      {
       "metadata": {},
       "output_type": "pyout",
       "prompt_number": 197,
       "text": [
        "(2, 2, 3)"
       ]
      }
     ],
     "prompt_number": 197
    },
    {
     "cell_type": "code",
     "collapsed": false,
     "input": [
      "c[1]"
     ],
     "language": "python",
     "metadata": {},
     "outputs": [
      {
       "metadata": {},
       "output_type": "pyout",
       "prompt_number": 198,
       "text": [
        "array([[100, 101, 102],\n",
        "       [110, 112, 113]])"
       ]
      }
     ],
     "prompt_number": 198
    },
    {
     "cell_type": "code",
     "collapsed": false,
     "input": [
      "c[1,:]"
     ],
     "language": "python",
     "metadata": {},
     "outputs": [
      {
       "metadata": {},
       "output_type": "pyout",
       "prompt_number": 199,
       "text": [
        "array([[100, 101, 102],\n",
        "       [110, 112, 113]])"
       ]
      }
     ],
     "prompt_number": 199
    },
    {
     "cell_type": "code",
     "collapsed": false,
     "input": [
      "c[1,0]"
     ],
     "language": "python",
     "metadata": {},
     "outputs": [
      {
       "metadata": {},
       "output_type": "pyout",
       "prompt_number": 200,
       "text": [
        "array([100, 101, 102])"
       ]
      }
     ],
     "prompt_number": 200
    },
    {
     "cell_type": "code",
     "collapsed": false,
     "input": [
      "c[1,0,0]"
     ],
     "language": "python",
     "metadata": {},
     "outputs": [
      {
       "metadata": {},
       "output_type": "pyout",
       "prompt_number": 194,
       "text": [
        "100"
       ]
      }
     ],
     "prompt_number": 194
    },
    {
     "cell_type": "code",
     "collapsed": false,
     "input": [
      "c.ravel()"
     ],
     "language": "python",
     "metadata": {},
     "outputs": [
      {
       "metadata": {},
       "output_type": "pyout",
       "prompt_number": 202,
       "text": [
        "array([  0,   1,   2,  10,  12,  13, 100, 101, 102, 110, 112, 113])"
       ]
      }
     ],
     "prompt_number": 202
    },
    {
     "cell_type": "code",
     "collapsed": false,
     "input": [
      "[i for i in c.flat]"
     ],
     "language": "python",
     "metadata": {},
     "outputs": [
      {
       "metadata": {},
       "output_type": "pyout",
       "prompt_number": 205,
       "text": [
        "[0, 1, 2, 10, 12, 13, 100, 101, 102, 110, 112, 113]"
       ]
      }
     ],
     "prompt_number": 205
    },
    {
     "cell_type": "markdown",
     "metadata": {},
     "source": [
      "## Shape Manipulation"
     ]
    },
    {
     "cell_type": "code",
     "collapsed": false,
     "input": [
      "a = np.floor(10*np.random.random((3,4)))\n",
      "a"
     ],
     "language": "python",
     "metadata": {},
     "outputs": [
      {
       "metadata": {},
       "output_type": "pyout",
       "prompt_number": 206,
       "text": [
        "array([[ 6.,  0.,  1.,  6.],\n",
        "       [ 9.,  4.,  4.,  6.],\n",
        "       [ 2.,  2.,  8.,  6.]])"
       ]
      }
     ],
     "prompt_number": 206
    },
    {
     "cell_type": "code",
     "collapsed": false,
     "input": [
      "a.shape"
     ],
     "language": "python",
     "metadata": {},
     "outputs": [
      {
       "metadata": {},
       "output_type": "pyout",
       "prompt_number": 208,
       "text": [
        "(3, 4)"
       ]
      }
     ],
     "prompt_number": 208
    },
    {
     "cell_type": "code",
     "collapsed": false,
     "input": [
      "a.transpose()"
     ],
     "language": "python",
     "metadata": {},
     "outputs": [
      {
       "metadata": {},
       "output_type": "pyout",
       "prompt_number": 207,
       "text": [
        "array([[ 6.,  9.,  2.],\n",
        "       [ 0.,  4.,  2.],\n",
        "       [ 1.,  4.,  8.],\n",
        "       [ 6.,  6.,  6.]])"
       ]
      }
     ],
     "prompt_number": 207
    },
    {
     "cell_type": "code",
     "collapsed": false,
     "input": [
      "a"
     ],
     "language": "python",
     "metadata": {},
     "outputs": [
      {
       "metadata": {},
       "output_type": "pyout",
       "prompt_number": 210,
       "text": [
        "array([[ 6.,  0.,  1.,  6.],\n",
        "       [ 9.,  4.,  4.,  6.],\n",
        "       [ 2.,  2.,  8.,  6.]])"
       ]
      }
     ],
     "prompt_number": 210
    },
    {
     "cell_type": "code",
     "collapsed": false,
     "input": [
      "a.resize((2,6))\n",
      "a"
     ],
     "language": "python",
     "metadata": {},
     "outputs": [
      {
       "metadata": {},
       "output_type": "pyout",
       "prompt_number": 212,
       "text": [
        "array([[ 6.,  0.,  1.,  6.,  9.,  4.],\n",
        "       [ 4.,  6.,  2.,  2.,  8.,  6.]])"
       ]
      }
     ],
     "prompt_number": 212
    },
    {
     "cell_type": "code",
     "collapsed": false,
     "input": [
      "a.reshape(2,6)"
     ],
     "language": "python",
     "metadata": {},
     "outputs": [
      {
       "metadata": {},
       "output_type": "pyout",
       "prompt_number": 213,
       "text": [
        "array([[ 6.,  0.,  1.,  6.,  9.,  4.],\n",
        "       [ 4.,  6.,  2.,  2.,  8.,  6.]])"
       ]
      }
     ],
     "prompt_number": 213
    },
    {
     "cell_type": "code",
     "collapsed": false,
     "input": [
      "# Stacking Arrays\n",
      "np.vstack((a,a))"
     ],
     "language": "python",
     "metadata": {},
     "outputs": [
      {
       "metadata": {},
       "output_type": "pyout",
       "prompt_number": 215,
       "text": [
        "array([[ 6.,  0.,  1.,  6.,  9.,  4.],\n",
        "       [ 4.,  6.,  2.,  2.,  8.,  6.],\n",
        "       [ 6.,  0.,  1.,  6.,  9.,  4.],\n",
        "       [ 4.,  6.,  2.,  2.,  8.,  6.]])"
       ]
      }
     ],
     "prompt_number": 215
    },
    {
     "cell_type": "code",
     "collapsed": false,
     "input": [
      "np.hstack((a,a))"
     ],
     "language": "python",
     "metadata": {},
     "outputs": [
      {
       "metadata": {},
       "output_type": "pyout",
       "prompt_number": 216,
       "text": [
        "array([[ 6.,  0.,  1.,  6.,  9.,  4.,  6.,  0.,  1.,  6.,  9.,  4.],\n",
        "       [ 4.,  6.,  2.,  2.,  8.,  6.,  4.,  6.,  2.,  2.,  8.,  6.]])"
       ]
      }
     ],
     "prompt_number": 216
    },
    {
     "cell_type": "code",
     "collapsed": false,
     "input": [
      "np.column_stack((a,a))"
     ],
     "language": "python",
     "metadata": {},
     "outputs": [
      {
       "metadata": {},
       "output_type": "pyout",
       "prompt_number": 217,
       "text": [
        "array([[ 6.,  0.,  1.,  6.,  9.,  4.,  6.,  0.,  1.,  6.,  9.,  4.],\n",
        "       [ 4.,  6.,  2.,  2.,  8.,  6.,  4.,  6.,  2.,  2.,  8.,  6.]])"
       ]
      }
     ],
     "prompt_number": 217
    },
    {
     "cell_type": "code",
     "collapsed": false,
     "input": [
      "p = np.array((1,2,3))\n",
      "q = np.array((10,20,30))\n",
      "r = np.concatenate((p,q))\n",
      "r"
     ],
     "language": "python",
     "metadata": {},
     "outputs": [
      {
       "metadata": {},
       "output_type": "pyout",
       "prompt_number": 223,
       "text": [
        "array([ 1,  2,  3, 10, 20, 30])"
       ]
      }
     ],
     "prompt_number": 223
    },
    {
     "cell_type": "code",
     "collapsed": false,
     "input": [
      "np.hsplit(r,3)"
     ],
     "language": "python",
     "metadata": {},
     "outputs": [
      {
       "metadata": {},
       "output_type": "pyout",
       "prompt_number": 228,
       "text": [
        "[array([1, 2]), array([ 3, 10]), array([20, 30])]"
       ]
      }
     ],
     "prompt_number": 228
    },
    {
     "cell_type": "code",
     "collapsed": false,
     "input": [
      "np.vstack((r,r))"
     ],
     "language": "python",
     "metadata": {},
     "outputs": [
      {
       "metadata": {},
       "output_type": "pyout",
       "prompt_number": 235,
       "text": [
        "array([[ 1,  2,  3, 10, 20, 30],\n",
        "       [ 1,  2,  3, 10, 20, 30]])"
       ]
      }
     ],
     "prompt_number": 235
    },
    {
     "cell_type": "code",
     "collapsed": false,
     "input": [
      "np.vsplit(np.vstack((r,r)),2)"
     ],
     "language": "python",
     "metadata": {},
     "outputs": [
      {
       "metadata": {},
       "output_type": "pyout",
       "prompt_number": 236,
       "text": [
        "[array([[ 1,  2,  3, 10, 20, 30]]), array([[ 1,  2,  3, 10, 20, 30]])]"
       ]
      }
     ],
     "prompt_number": 236
    },
    {
     "cell_type": "code",
     "collapsed": false,
     "input": [
      "a = np.arange(12)\n",
      "a"
     ],
     "language": "python",
     "metadata": {},
     "outputs": [
      {
       "metadata": {},
       "output_type": "pyout",
       "prompt_number": 421,
       "text": [
        "array([ 0,  1,  2,  3,  4,  5,  6,  7,  8,  9, 10, 11])"
       ]
      }
     ],
     "prompt_number": 421
    },
    {
     "cell_type": "code",
     "collapsed": false,
     "input": [
      "a.shape = 4,3\n",
      "a"
     ],
     "language": "python",
     "metadata": {},
     "outputs": [
      {
       "metadata": {},
       "output_type": "pyout",
       "prompt_number": 422,
       "text": [
        "array([[ 0,  1,  2],\n",
        "       [ 3,  4,  5],\n",
        "       [ 6,  7,  8],\n",
        "       [ 9, 10, 11]])"
       ]
      }
     ],
     "prompt_number": 422
    },
    {
     "cell_type": "code",
     "collapsed": false,
     "input": [
      "a.shape = 2,2,3\n",
      "a"
     ],
     "language": "python",
     "metadata": {},
     "outputs": [
      {
       "metadata": {},
       "output_type": "pyout",
       "prompt_number": 426,
       "text": [
        "array([[[ 0,  1,  2],\n",
        "        [ 3,  4,  5]],\n",
        "\n",
        "       [[ 6,  7,  8],\n",
        "        [ 9, 10, 11]]])"
       ]
      }
     ],
     "prompt_number": 426
    },
    {
     "cell_type": "markdown",
     "metadata": {},
     "source": [
      "## Copies & Views"
     ]
    },
    {
     "cell_type": "code",
     "collapsed": false,
     "input": [
      "# Simple assignments make no copy of array objects or of their data.\n",
      "# NO Objects are created\n",
      "\n",
      "a = np.array((1,2,3,4))"
     ],
     "language": "python",
     "metadata": {},
     "outputs": [],
     "prompt_number": 289
    },
    {
     "cell_type": "code",
     "collapsed": false,
     "input": [
      "b = a\n",
      "b is a\n",
      "a"
     ],
     "language": "python",
     "metadata": {},
     "outputs": [
      {
       "metadata": {},
       "output_type": "pyout",
       "prompt_number": 290,
       "text": [
        "array([1, 2, 3, 4])"
       ]
      }
     ],
     "prompt_number": 290
    },
    {
     "cell_type": "code",
     "collapsed": false,
     "input": [
      "a.reshape(2,2)"
     ],
     "language": "python",
     "metadata": {},
     "outputs": [
      {
       "metadata": {},
       "output_type": "pyout",
       "prompt_number": 291,
       "text": [
        "array([[1, 2],\n",
        "       [3, 4]])"
       ]
      }
     ],
     "prompt_number": 291
    },
    {
     "cell_type": "code",
     "collapsed": false,
     "input": [
      "a.shape = 2,2"
     ],
     "language": "python",
     "metadata": {},
     "outputs": [],
     "prompt_number": 292
    },
    {
     "cell_type": "code",
     "collapsed": false,
     "input": [
      "a"
     ],
     "language": "python",
     "metadata": {},
     "outputs": [
      {
       "metadata": {},
       "output_type": "pyout",
       "prompt_number": 293,
       "text": [
        "array([[1, 2],\n",
        "       [3, 4]])"
       ]
      }
     ],
     "prompt_number": 293
    },
    {
     "cell_type": "code",
     "collapsed": false,
     "input": [
      "b # b also got changed !!"
     ],
     "language": "python",
     "metadata": {},
     "outputs": [
      {
       "metadata": {},
       "output_type": "pyout",
       "prompt_number": 294,
       "text": [
        "array([[1, 2],\n",
        "       [3, 4]])"
       ]
      }
     ],
     "prompt_number": 294
    },
    {
     "cell_type": "markdown",
     "metadata": {},
     "source": [
      "## View or Shallow Copy"
     ]
    },
    {
     "cell_type": "code",
     "collapsed": false,
     "input": [
      "# Different array objects can share the same data.\n",
      "# The view method creates a new array object that looks at the same data.\n",
      "# This DOES create a new Object\n",
      "\n",
      "a = np.array(([1, 2],\n",
      "       [3, 4]))"
     ],
     "language": "python",
     "metadata": {},
     "outputs": [],
     "prompt_number": 295
    },
    {
     "cell_type": "code",
     "collapsed": false,
     "input": [
      "c = a.view()"
     ],
     "language": "python",
     "metadata": {},
     "outputs": [],
     "prompt_number": 296
    },
    {
     "cell_type": "code",
     "collapsed": false,
     "input": [
      "c is a"
     ],
     "language": "python",
     "metadata": {},
     "outputs": [
      {
       "metadata": {},
       "output_type": "pyout",
       "prompt_number": 297,
       "text": [
        "False"
       ]
      }
     ],
     "prompt_number": 297
    },
    {
     "cell_type": "code",
     "collapsed": false,
     "input": [
      "a[1,1]"
     ],
     "language": "python",
     "metadata": {},
     "outputs": [
      {
       "metadata": {},
       "output_type": "pyout",
       "prompt_number": 298,
       "text": [
        "4"
       ]
      }
     ],
     "prompt_number": 298
    },
    {
     "cell_type": "code",
     "collapsed": false,
     "input": [
      "a[1,1] = 10"
     ],
     "language": "python",
     "metadata": {},
     "outputs": [],
     "prompt_number": 299
    },
    {
     "cell_type": "code",
     "collapsed": false,
     "input": [
      "c # c is looking at a and hence has changed too"
     ],
     "language": "python",
     "metadata": {},
     "outputs": [
      {
       "metadata": {},
       "output_type": "pyout",
       "prompt_number": 300,
       "text": [
        "array([[ 1,  2],\n",
        "       [ 3, 10]])"
       ]
      }
     ],
     "prompt_number": 300
    },
    {
     "cell_type": "code",
     "collapsed": false,
     "input": [
      "c[1,1] = 100 # Changing c, will also change a"
     ],
     "language": "python",
     "metadata": {},
     "outputs": [],
     "prompt_number": 301
    },
    {
     "cell_type": "code",
     "collapsed": false,
     "input": [
      "a"
     ],
     "language": "python",
     "metadata": {},
     "outputs": [
      {
       "metadata": {},
       "output_type": "pyout",
       "prompt_number": 302,
       "text": [
        "array([[  1,   2],\n",
        "       [  3, 100]])"
       ]
      }
     ],
     "prompt_number": 302
    },
    {
     "cell_type": "markdown",
     "metadata": {},
     "source": [
      "## Deep Copy"
     ]
    },
    {
     "cell_type": "code",
     "collapsed": false,
     "input": [
      "# Creating a complete independent copy\n",
      "a"
     ],
     "language": "python",
     "metadata": {},
     "outputs": [
      {
       "metadata": {},
       "output_type": "pyout",
       "prompt_number": 303,
       "text": [
        "array([[  1,   2],\n",
        "       [  3, 100]])"
       ]
      }
     ],
     "prompt_number": 303
    },
    {
     "cell_type": "code",
     "collapsed": false,
     "input": [
      "d = a.copy()\n",
      "d"
     ],
     "language": "python",
     "metadata": {},
     "outputs": [
      {
       "metadata": {},
       "output_type": "pyout",
       "prompt_number": 305,
       "text": [
        "array([[  1,   2],\n",
        "       [  3, 100]])"
       ]
      }
     ],
     "prompt_number": 305
    },
    {
     "cell_type": "code",
     "collapsed": false,
     "input": [
      "d[1,1]"
     ],
     "language": "python",
     "metadata": {},
     "outputs": [
      {
       "metadata": {},
       "output_type": "pyout",
       "prompt_number": 306,
       "text": [
        "100"
       ]
      }
     ],
     "prompt_number": 306
    },
    {
     "cell_type": "code",
     "collapsed": false,
     "input": [
      "d[1,1] = 500"
     ],
     "language": "python",
     "metadata": {},
     "outputs": [],
     "prompt_number": 310
    },
    {
     "cell_type": "code",
     "collapsed": false,
     "input": [
      "a"
     ],
     "language": "python",
     "metadata": {},
     "outputs": [
      {
       "metadata": {},
       "output_type": "pyout",
       "prompt_number": 311,
       "text": [
        "array([[  1,   2],\n",
        "       [  3, 100]])"
       ]
      }
     ],
     "prompt_number": 311
    },
    {
     "cell_type": "code",
     "collapsed": false,
     "input": [
      "d"
     ],
     "language": "python",
     "metadata": {},
     "outputs": [
      {
       "metadata": {},
       "output_type": "pyout",
       "prompt_number": 312,
       "text": [
        "array([[  1,   2],\n",
        "       [  3, 500]])"
       ]
      }
     ],
     "prompt_number": 312
    },
    {
     "cell_type": "markdown",
     "metadata": {},
     "source": [
      "## Fancy Indexing"
     ]
    },
    {
     "cell_type": "code",
     "collapsed": false,
     "input": [
      "a = np.arange(10) * 10\n",
      "a"
     ],
     "language": "python",
     "metadata": {},
     "outputs": [
      {
       "metadata": {},
       "output_type": "pyout",
       "prompt_number": 319,
       "text": [
        "array([ 0, 10, 20, 30, 40, 50, 60, 70, 80, 90])"
       ]
      }
     ],
     "prompt_number": 319
    },
    {
     "cell_type": "code",
     "collapsed": false,
     "input": [
      "i = np.array([1,2,5,6])"
     ],
     "language": "python",
     "metadata": {},
     "outputs": [],
     "prompt_number": 320
    },
    {
     "cell_type": "code",
     "collapsed": false,
     "input": [
      "a[i]"
     ],
     "language": "python",
     "metadata": {},
     "outputs": [
      {
       "metadata": {},
       "output_type": "pyout",
       "prompt_number": 327,
       "text": [
        "array([10, 20, 50, 60])"
       ]
      }
     ],
     "prompt_number": 327
    },
    {
     "cell_type": "code",
     "collapsed": false,
     "input": [
      "# Bi-directional index\n",
      "j = np.array([[1,2],[4,5]])"
     ],
     "language": "python",
     "metadata": {},
     "outputs": [],
     "prompt_number": 328
    },
    {
     "cell_type": "code",
     "collapsed": false,
     "input": [
      "a[j]"
     ],
     "language": "python",
     "metadata": {},
     "outputs": [
      {
       "metadata": {},
       "output_type": "pyout",
       "prompt_number": 329,
       "text": [
        "array([[10, 20],\n",
        "       [40, 50]])"
       ]
      }
     ],
     "prompt_number": 329
    },
    {
     "cell_type": "code",
     "collapsed": false,
     "input": [
      "a = np.arange(12).reshape(3,4)\n",
      "a"
     ],
     "language": "python",
     "metadata": {},
     "outputs": [
      {
       "metadata": {},
       "output_type": "pyout",
       "prompt_number": 332,
       "text": [
        "array([[ 0,  1,  2,  3],\n",
        "       [ 4,  5,  6,  7],\n",
        "       [ 8,  9, 10, 11]])"
       ]
      }
     ],
     "prompt_number": 332
    },
    {
     "cell_type": "code",
     "collapsed": false,
     "input": [
      "a[[0,1],2] # 2nd element of rows 0 and 1 of a"
     ],
     "language": "python",
     "metadata": {},
     "outputs": [
      {
       "metadata": {},
       "output_type": "pyout",
       "prompt_number": 334,
       "text": [
        "array([2, 6])"
       ]
      }
     ],
     "prompt_number": 334
    },
    {
     "cell_type": "code",
     "collapsed": false,
     "input": [
      "i = np.array([[0,1],[1,2]])\n",
      "j = np.array([[2,1],[3,1]])\n",
      "a[i,j] # = [   [[0,2],[1,1]]   ,   [[1,3],[2,1] ]"
     ],
     "language": "python",
     "metadata": {},
     "outputs": [
      {
       "metadata": {},
       "output_type": "pyout",
       "prompt_number": 337,
       "text": [
        "array([[2, 5],\n",
        "       [7, 9]])"
       ]
      }
     ],
     "prompt_number": 337
    },
    {
     "cell_type": "code",
     "collapsed": false,
     "input": [
      "a"
     ],
     "language": "python",
     "metadata": {},
     "outputs": [
      {
       "metadata": {},
       "output_type": "pyout",
       "prompt_number": 339,
       "text": [
        "array([[ 0,  1,  2,  3],\n",
        "       [ 4,  5,  6,  7],\n",
        "       [ 8,  9, 10, 11]])"
       ]
      }
     ],
     "prompt_number": 339
    },
    {
     "cell_type": "code",
     "collapsed": false,
     "input": [
      "j"
     ],
     "language": "python",
     "metadata": {},
     "outputs": [
      {
       "metadata": {},
       "output_type": "pyout",
       "prompt_number": 340,
       "text": [
        "array([[2, 1],\n",
        "       [3, 1]])"
       ]
      }
     ],
     "prompt_number": 340
    },
    {
     "cell_type": "code",
     "collapsed": false,
     "input": [
      "# Take each row of a (:) and create a new array w/ elements [[2,1],[3,1]]\n",
      "a[:,j]"
     ],
     "language": "python",
     "metadata": {},
     "outputs": [
      {
       "metadata": {},
       "output_type": "pyout",
       "prompt_number": 338,
       "text": [
        "array([[[ 2,  1],\n",
        "        [ 3,  1]],\n",
        "\n",
        "       [[ 6,  5],\n",
        "        [ 7,  5]],\n",
        "\n",
        "       [[10,  9],\n",
        "        [11,  9]]])"
       ]
      }
     ],
     "prompt_number": 338
    },
    {
     "cell_type": "code",
     "collapsed": false,
     "input": [
      "# time scale  (from 20 to 145 inclusive, 5 increments)\n",
      "# np.linspace (x,y,z) -- Numbers x - z spaced evenly across z elements\n",
      "print np.linspace(20, 30, 2)\n",
      "print np.linspace(20, 30, 3)\n",
      "print np.linspace(20, 30, 5)"
     ],
     "language": "python",
     "metadata": {},
     "outputs": [
      {
       "output_type": "stream",
       "stream": "stdout",
       "text": [
        "[ 20.  30.]\n",
        "[ 20.  25.  30.]\n",
        "[ 20.   22.5  25.   27.5  30. ]\n"
       ]
      }
     ],
     "prompt_number": 351
    },
    {
     "cell_type": "code",
     "collapsed": false,
     "input": [
      "a"
     ],
     "language": "python",
     "metadata": {},
     "outputs": [
      {
       "metadata": {},
       "output_type": "pyout",
       "prompt_number": 353,
       "text": [
        "array([[ 0,  1,  2,  3],\n",
        "       [ 4,  5,  6,  7],\n",
        "       [ 8,  9, 10, 11]])"
       ]
      }
     ],
     "prompt_number": 353
    },
    {
     "cell_type": "code",
     "collapsed": false,
     "input": [
      "a.argmax(axis=1) # Index of the Maximum across rows (0,1,2,3) (4,5,6,7)"
     ],
     "language": "python",
     "metadata": {},
     "outputs": [
      {
       "metadata": {},
       "output_type": "pyout",
       "prompt_number": 354,
       "text": [
        "array([3, 3, 3])"
       ]
      }
     ],
     "prompt_number": 354
    },
    {
     "cell_type": "code",
     "collapsed": false,
     "input": [
      "# Indexing with Boolean\n",
      "a"
     ],
     "language": "python",
     "metadata": {},
     "outputs": [
      {
       "metadata": {},
       "output_type": "pyout",
       "prompt_number": 355,
       "text": [
        "array([[ 0,  1,  2,  3],\n",
        "       [ 4,  5,  6,  7],\n",
        "       [ 8,  9, 10, 11]])"
       ]
      }
     ],
     "prompt_number": 355
    },
    {
     "cell_type": "code",
     "collapsed": false,
     "input": [
      "a > 2"
     ],
     "language": "python",
     "metadata": {},
     "outputs": [
      {
       "metadata": {},
       "output_type": "pyout",
       "prompt_number": 357,
       "text": [
        "array([[False, False, False,  True],\n",
        "       [ True,  True,  True,  True],\n",
        "       [ True,  True,  True,  True]], dtype=bool)"
       ]
      }
     ],
     "prompt_number": 357
    },
    {
     "cell_type": "code",
     "collapsed": false,
     "input": [
      "a[a > 2]"
     ],
     "language": "python",
     "metadata": {},
     "outputs": [
      {
       "metadata": {},
       "output_type": "pyout",
       "prompt_number": 358,
       "text": [
        "array([ 3,  4,  5,  6,  7,  8,  9, 10, 11])"
       ]
      }
     ],
     "prompt_number": 358
    },
    {
     "cell_type": "code",
     "collapsed": false,
     "input": [
      "a[a > 2] = a[a > 2] * 10\n",
      "a"
     ],
     "language": "python",
     "metadata": {},
     "outputs": [
      {
       "metadata": {},
       "output_type": "pyout",
       "prompt_number": 359,
       "text": [
        "array([[  0,   1,   2,  30],\n",
        "       [ 40,  50,  60,  70],\n",
        "       [ 80,  90, 100, 110]])"
       ]
      }
     ],
     "prompt_number": 359
    },
    {
     "cell_type": "code",
     "collapsed": false,
     "input": [
      "b1 = np.array([False,True,True])\n",
      "b2 = np.array([True,False,True,False])\n",
      "\n",
      "a[b1,:]"
     ],
     "language": "python",
     "metadata": {},
     "outputs": [
      {
       "metadata": {},
       "output_type": "pyout",
       "prompt_number": 361,
       "text": [
        "array([[ 40,  50,  60,  70],\n",
        "       [ 80,  90, 100, 110]])"
       ]
      }
     ],
     "prompt_number": 361
    },
    {
     "cell_type": "code",
     "collapsed": false,
     "input": [
      "a[:,b2]"
     ],
     "language": "python",
     "metadata": {},
     "outputs": [
      {
       "metadata": {},
       "output_type": "pyout",
       "prompt_number": 362,
       "text": [
        "array([[  0,   2],\n",
        "       [ 40,  60],\n",
        "       [ 80, 100]])"
       ]
      }
     ],
     "prompt_number": 362
    },
    {
     "cell_type": "code",
     "collapsed": false,
     "input": [
      "a[b1,b2]"
     ],
     "language": "python",
     "metadata": {},
     "outputs": [
      {
       "metadata": {},
       "output_type": "pyout",
       "prompt_number": 363,
       "text": [
        "array([ 40, 100])"
       ]
      }
     ],
     "prompt_number": 363
    },
    {
     "cell_type": "code",
     "collapsed": false,
     "input": [
      "# The *keyword means as many arguments as needed\n",
      "# It is similar to ... in an R function\n",
      "\n",
      "def sumlist(*args):\n",
      "    print sum(args)\n"
     ],
     "language": "python",
     "metadata": {},
     "outputs": [],
     "prompt_number": 364
    },
    {
     "cell_type": "code",
     "collapsed": false,
     "input": [
      "sumlist(1,2,3)"
     ],
     "language": "python",
     "metadata": {},
     "outputs": [
      {
       "output_type": "stream",
       "stream": "stdout",
       "text": [
        "6\n"
       ]
      }
     ],
     "prompt_number": 367
    },
    {
     "cell_type": "markdown",
     "metadata": {},
     "source": [
      "The single asterisk form (*args) is used to pass a non-keyworded, variable-length argument list, and the double asterisk form is used to pass a keyworded, variable-length argument list. Here is an example of how to use the keyworded form. Again, one formal argument and two keyworded variable arguments are passed."
     ]
    },
    {
     "cell_type": "code",
     "collapsed": false,
     "input": [
      "def test_var_kwargs(farg, **kwargs):\n",
      "    print \"formal arg:\", farg\n",
      "    for key in kwargs:\n",
      "        print \"another arg: %s: %s\" % (key, kwargs[key])\n",
      "\n",
      "test_var_kwargs(farg=1, myarg2=\"two\", myarg3=3)"
     ],
     "language": "python",
     "metadata": {},
     "outputs": [
      {
       "output_type": "stream",
       "stream": "stdout",
       "text": [
        "formal arg: 1\n",
        "arg: myarg2: two\n",
        "arg: myarg3: 3\n"
       ]
      }
     ],
     "prompt_number": 369
    },
    {
     "cell_type": "code",
     "collapsed": false,
     "input": [
      "# You can also use *arg and **kwargs outside of a function\n",
      "\n",
      "def test_var_args_call(arg1, arg2, arg3):\n",
      "    print \"arg1:\", arg1\n",
      "    print \"arg2:\", arg2\n",
      "    print \"arg3:\", arg3\n",
      "\n",
      "args = (\"two\", 3)\n",
      "test_var_args_call(1, *args)"
     ],
     "language": "python",
     "metadata": {},
     "outputs": [
      {
       "output_type": "stream",
       "stream": "stdout",
       "text": [
        "arg1: 1\n",
        "arg2: two\n",
        "arg3: 3\n"
       ]
      }
     ],
     "prompt_number": 370
    },
    {
     "cell_type": "code",
     "collapsed": false,
     "input": [
      "def test_var_args_call(arg1, arg2, arg3):\n",
      "    print \"arg1:\", arg1\n",
      "    print \"arg2:\", arg2\n",
      "    print \"arg3:\", arg3\n",
      "\n",
      "kwargs = {\"arg3\": 3, \"arg2\": \"two\"}\n",
      "test_var_args_call(1, **kwargs)"
     ],
     "language": "python",
     "metadata": {},
     "outputs": [
      {
       "output_type": "stream",
       "stream": "stdout",
       "text": [
        "arg1: 1\n",
        "arg2: two\n",
        "arg3: 3\n"
       ]
      }
     ],
     "prompt_number": 371
    },
    {
     "cell_type": "code",
     "collapsed": false,
     "input": [
      "def printlistdict(*args, **kwargs):\n",
      "    print repr(args)\n",
      "    print repr(kwargs)\n",
      "\n",
      "printlistdict(1, 2, 3, 4, 5, 6, john=10, jill=12, david=15)\n"
     ],
     "language": "python",
     "metadata": {},
     "outputs": [
      {
       "output_type": "stream",
       "stream": "stdout",
       "text": [
        "(1, 2, 3, 4, 5, 6)\n",
        "{'john': 10, 'jill': 12, 'david': 15}\n"
       ]
      }
     ],
     "prompt_number": 375
    },
    {
     "cell_type": "markdown",
     "metadata": {},
     "source": [
      "Numpy provides powerful capabilities to create arrays of structured datatype. These arrays permit one to manipulate the data by named fields. A simple example will show what is meant."
     ]
    },
    {
     "cell_type": "code",
     "collapsed": false,
     "input": [
      "x = np.array([(1,2.0,'Hello'), (2,3.0,\"World\")],\n",
      "        dtype=[('foo', 'i5'),('bar', 'f4'), ('baz', 'S10')])\n",
      "\n",
      "# Here the first value in each element (1 and 2) is called 'foo', etc\n",
      "# i4  = 32 bit integer\n",
      "# f4  = 32 bit float\n",
      "# S10 = String of length <=10"
     ],
     "language": "python",
     "metadata": {},
     "outputs": [],
     "prompt_number": 379
    },
    {
     "cell_type": "code",
     "collapsed": false,
     "input": [
      "x['foo']"
     ],
     "language": "python",
     "metadata": {},
     "outputs": [
      {
       "metadata": {},
       "output_type": "pyout",
       "prompt_number": 383,
       "text": [
        "array([1, 2], dtype=int32)"
       ]
      }
     ],
     "prompt_number": 383
    },
    {
     "cell_type": "code",
     "collapsed": false,
     "input": [
      "x['baz']"
     ],
     "language": "python",
     "metadata": {},
     "outputs": [
      {
       "metadata": {},
       "output_type": "pyout",
       "prompt_number": 384,
       "text": [
        "array(['Hello', 'World'], \n",
        "      dtype='|S10')"
       ]
      }
     ],
     "prompt_number": 384
    },
    {
     "cell_type": "raw",
     "metadata": {},
     "source": [
      "# Other types\n",
      "a) b1, i1, i2, i4, i8, u1, u2, u4, u8, f2, f4, f8, c8, c16, a<n>\n",
      "   (representing bytes, ints, unsigned ints, floats, complex and\n",
      "    fixed length strings of specified byte lengths)\n",
      "b) int8,...,uint8,...,float16, float32, float64, complex64, complex128\n",
      "   (this time with bit sizes)"
     ]
    },
    {
     "cell_type": "code",
     "collapsed": false,
     "input": [
      "x.dtype.names"
     ],
     "language": "python",
     "metadata": {},
     "outputs": [
      {
       "metadata": {},
       "output_type": "pyout",
       "prompt_number": 385,
       "text": [
        "('foo', 'bar', 'baz')"
       ]
      }
     ],
     "prompt_number": 385
    },
    {
     "cell_type": "code",
     "collapsed": false,
     "input": [
      "x.dtype.names = 'foo1','bar1','baz1'"
     ],
     "language": "python",
     "metadata": {},
     "outputs": [],
     "prompt_number": 386
    },
    {
     "cell_type": "code",
     "collapsed": false,
     "input": [
      "x"
     ],
     "language": "python",
     "metadata": {},
     "outputs": [
      {
       "metadata": {},
       "output_type": "pyout",
       "prompt_number": 387,
       "text": [
        "array([(1, 2.0, 'Hello'), (2, 3.0, 'World')], \n",
        "      dtype=[('foo1', '<i4'), ('bar1', '<f4'), ('baz1', 'S10')])"
       ]
      }
     ],
     "prompt_number": 387
    },
    {
     "cell_type": "markdown",
     "metadata": {},
     "source": [
      "## Linear Algebra"
     ]
    },
    {
     "cell_type": "code",
     "collapsed": false,
     "input": [
      "a = np.array([[1.0, 2.0],\n",
      "              [3.0, 4.0]])"
     ],
     "language": "python",
     "metadata": {},
     "outputs": [],
     "prompt_number": 389
    },
    {
     "cell_type": "code",
     "collapsed": false,
     "input": [
      "a.transpose()"
     ],
     "language": "python",
     "metadata": {},
     "outputs": [
      {
       "metadata": {},
       "output_type": "pyout",
       "prompt_number": 390,
       "text": [
        "array([[ 1.,  3.],\n",
        "       [ 2.,  4.]])"
       ]
      }
     ],
     "prompt_number": 390
    },
    {
     "cell_type": "code",
     "collapsed": false,
     "input": [
      "np.linalg.inv(a)"
     ],
     "language": "python",
     "metadata": {},
     "outputs": [
      {
       "metadata": {},
       "output_type": "pyout",
       "prompt_number": 391,
       "text": [
        "array([[-2. ,  1. ],\n",
        "       [ 1.5, -0.5]])"
       ]
      }
     ],
     "prompt_number": 391
    },
    {
     "cell_type": "code",
     "collapsed": false,
     "input": [
      "np.eye(2) # Identity Matrix"
     ],
     "language": "python",
     "metadata": {},
     "outputs": [
      {
       "metadata": {},
       "output_type": "pyout",
       "prompt_number": 392,
       "text": [
        "array([[ 1.,  0.],\n",
        "       [ 0.,  1.]])"
       ]
      }
     ],
     "prompt_number": 392
    },
    {
     "cell_type": "code",
     "collapsed": false,
     "input": [
      "j = np.array([[0.0, -1.0],\n",
      "              [1.0, 0.0]])"
     ],
     "language": "python",
     "metadata": {},
     "outputs": [],
     "prompt_number": 393
    },
    {
     "cell_type": "code",
     "collapsed": false,
     "input": [
      "a"
     ],
     "language": "python",
     "metadata": {},
     "outputs": [
      {
       "metadata": {},
       "output_type": "pyout",
       "prompt_number": 394,
       "text": [
        "array([[ 1.,  2.],\n",
        "       [ 3.,  4.]])"
       ]
      }
     ],
     "prompt_number": 394
    },
    {
     "cell_type": "code",
     "collapsed": false,
     "input": [
      "j"
     ],
     "language": "python",
     "metadata": {},
     "outputs": [
      {
       "metadata": {},
       "output_type": "pyout",
       "prompt_number": 395,
       "text": [
        "array([[ 0., -1.],\n",
        "       [ 1.,  0.]])"
       ]
      }
     ],
     "prompt_number": 395
    },
    {
     "cell_type": "code",
     "collapsed": false,
     "input": [
      "np.dot(a,j) # Matrix Multiplication"
     ],
     "language": "python",
     "metadata": {},
     "outputs": [
      {
       "metadata": {},
       "output_type": "pyout",
       "prompt_number": 397,
       "text": [
        "array([[ 2., -1.],\n",
        "       [ 4., -3.]])"
       ]
      }
     ],
     "prompt_number": 397
    },
    {
     "cell_type": "code",
     "collapsed": false,
     "input": [
      "a * j # Element Wise Multiplication"
     ],
     "language": "python",
     "metadata": {},
     "outputs": [
      {
       "metadata": {},
       "output_type": "pyout",
       "prompt_number": 398,
       "text": [
        "array([[ 0., -2.],\n",
        "       [ 3.,  0.]])"
       ]
      }
     ],
     "prompt_number": 398
    },
    {
     "cell_type": "raw",
     "metadata": {},
     "source": [
      "Say we have three matrices:\n",
      "\n",
      "    ax = y in which a and y are known.\n",
      "\n",
      "We want to solve x."
     ]
    },
    {
     "cell_type": "code",
     "collapsed": false,
     "input": [
      "a = np.array([[1.0, 2.0],\n",
      "              [3.0, 4.0]])"
     ],
     "language": "python",
     "metadata": {},
     "outputs": [],
     "prompt_number": 399
    },
    {
     "cell_type": "code",
     "collapsed": false,
     "input": [
      "y = np.array([[5.], [7.]])"
     ],
     "language": "python",
     "metadata": {},
     "outputs": [],
     "prompt_number": 401
    },
    {
     "cell_type": "code",
     "collapsed": false,
     "input": [
      "x = np.linalg.solve(a, y)\n",
      "x"
     ],
     "language": "python",
     "metadata": {},
     "outputs": [
      {
       "metadata": {},
       "output_type": "pyout",
       "prompt_number": 404,
       "text": [
        "array([[-3.],\n",
        "       [ 4.]])"
       ]
      }
     ],
     "prompt_number": 404
    },
    {
     "cell_type": "code",
     "collapsed": false,
     "input": [
      "# To validate,\n",
      "s = np.dot(a,x) == y\n",
      "s"
     ],
     "language": "python",
     "metadata": {},
     "outputs": [
      {
       "metadata": {},
       "output_type": "pyout",
       "prompt_number": 407,
       "text": [
        "array([[ True],\n",
        "       [ True]], dtype=bool)"
       ]
      }
     ],
     "prompt_number": 407
    },
    {
     "cell_type": "code",
     "collapsed": false,
     "input": [
      "s.all()"
     ],
     "language": "python",
     "metadata": {},
     "outputs": [
      {
       "metadata": {},
       "output_type": "pyout",
       "prompt_number": 408,
       "text": [
        "True"
       ]
      }
     ],
     "prompt_number": 408
    },
    {
     "cell_type": "code",
     "collapsed": false,
     "input": [
      "# Eigenvalue\n",
      "np.linalg.eig(j)"
     ],
     "language": "python",
     "metadata": {},
     "outputs": [
      {
       "metadata": {},
       "output_type": "pyout",
       "prompt_number": 409,
       "text": [
        "(array([ 0.+1.j,  0.-1.j]),\n",
        " array([[ 0.70710678+0.j        ,  0.70710678-0.j        ],\n",
        "        [ 0.00000000-0.70710678j,  0.00000000+0.70710678j]]))"
       ]
      }
     ],
     "prompt_number": 409
    },
    {
     "cell_type": "code",
     "collapsed": false,
     "input": [
      "a.T"
     ],
     "language": "python",
     "metadata": {},
     "outputs": [
      {
       "metadata": {},
       "output_type": "pyout",
       "prompt_number": 410,
       "text": [
        "array([[ 1.,  3.],\n",
        "       [ 2.,  4.]])"
       ]
      }
     ],
     "prompt_number": 410
    },
    {
     "cell_type": "code",
     "collapsed": false,
     "input": [
      "# There is also Numpy Matrices, but we won't go too deep into them\n",
      "m = np.mat(a.copy())\n",
      "m"
     ],
     "language": "python",
     "metadata": {},
     "outputs": [
      {
       "metadata": {},
       "output_type": "pyout",
       "prompt_number": 412,
       "text": [
        "matrix([[ 1.,  2.],\n",
        "        [ 3.,  4.]])"
       ]
      }
     ],
     "prompt_number": 412
    },
    {
     "cell_type": "code",
     "collapsed": false,
     "input": [
      "type(m)"
     ],
     "language": "python",
     "metadata": {},
     "outputs": [
      {
       "metadata": {},
       "output_type": "pyout",
       "prompt_number": 413,
       "text": [
        "numpy.matrixlib.defmatrix.matrix"
       ]
      }
     ],
     "prompt_number": 413
    },
    {
     "cell_type": "code",
     "collapsed": false,
     "input": [
      "type(a)"
     ],
     "language": "python",
     "metadata": {},
     "outputs": [
      {
       "metadata": {},
       "output_type": "pyout",
       "prompt_number": 414,
       "text": [
        "numpy.ndarray"
       ]
      }
     ],
     "prompt_number": 414
    },
    {
     "cell_type": "markdown",
     "metadata": {},
     "source": [
      "# Pandas: 10 Minutes to Pandas"
     ]
    },
    {
     "cell_type": "code",
     "collapsed": false,
     "input": [
      "# A series\n",
      "s = pd.Series([1,3,5,np.nan,6,8])\n",
      "s"
     ],
     "language": "python",
     "metadata": {},
     "outputs": [
      {
       "metadata": {},
       "output_type": "pyout",
       "prompt_number": 3,
       "text": [
        "0     1\n",
        "1     3\n",
        "2     5\n",
        "3   NaN\n",
        "4     6\n",
        "5     8\n",
        "dtype: float64"
       ]
      }
     ],
     "prompt_number": 3
    },
    {
     "cell_type": "code",
     "collapsed": false,
     "input": [
      "?pd.DataFrame"
     ],
     "language": "python",
     "metadata": {},
     "outputs": [],
     "prompt_number": 13
    },
    {
     "cell_type": "code",
     "collapsed": false,
     "input": [
      "# Creating a data frame with index as dates\n",
      "dates = pd.date_range('20130101', periods=3)\n",
      "print dates\n",
      "print\n",
      "\n",
      "values = np.random.randn(3,2)\n",
      "print values\n",
      "print\n",
      "\n",
      "df = pd.DataFrame(data = values, index=dates, columns=list('AB'))\n",
      "df"
     ],
     "language": "python",
     "metadata": {},
     "outputs": [
      {
       "output_type": "stream",
       "stream": "stdout",
       "text": [
        "<class 'pandas.tseries.index.DatetimeIndex'>\n",
        "[2013-01-01, ..., 2013-01-03]\n",
        "Length: 3, Freq: D, Timezone: None\n",
        "\n",
        "[[-0.55368175 -0.46104643]\n",
        " [ 0.13319965 -2.2124845 ]\n",
        " [ 0.431637    0.01483955]]\n",
        "\n"
       ]
      },
      {
       "html": [
        "<div style=\"max-height:1000px;max-width:1500px;overflow:auto;\">\n",
        "<table border=\"1\" class=\"dataframe\">\n",
        "  <thead>\n",
        "    <tr style=\"text-align: right;\">\n",
        "      <th></th>\n",
        "      <th>A</th>\n",
        "      <th>B</th>\n",
        "    </tr>\n",
        "  </thead>\n",
        "  <tbody>\n",
        "    <tr>\n",
        "      <th>2013-01-01</th>\n",
        "      <td>-0.553682</td>\n",
        "      <td>-0.461046</td>\n",
        "    </tr>\n",
        "    <tr>\n",
        "      <th>2013-01-02</th>\n",
        "      <td> 0.133200</td>\n",
        "      <td>-2.212485</td>\n",
        "    </tr>\n",
        "    <tr>\n",
        "      <th>2013-01-03</th>\n",
        "      <td> 0.431637</td>\n",
        "      <td> 0.014840</td>\n",
        "    </tr>\n",
        "  </tbody>\n",
        "</table>\n",
        "</div>"
       ],
       "metadata": {},
       "output_type": "pyout",
       "prompt_number": 17,
       "text": [
        "                   A         B\n",
        "2013-01-01 -0.553682 -0.461046\n",
        "2013-01-02  0.133200 -2.212485\n",
        "2013-01-03  0.431637  0.014840"
       ]
      }
     ],
     "prompt_number": 17
    },
    {
     "cell_type": "code",
     "collapsed": false,
     "input": [
      "# Creating a dataframe from a dictionary\n",
      "\n",
      "df = pd.DataFrame({ 'A' : 1.,\n",
      "    'B' : pd.Timestamp('20130102'),\n",
      "    'C' : pd.Series([10,20,30,40], index= ['row0','row1','row2','row3'],dtype='float32'),\n",
      "    'D' : np.array(xrange(4),dtype='int32'),\n",
      "    'E' : pd.Categorical([\"test\",\"train\",\"test\",\"train\"]),\n",
      "    'F' : 'foo' })\n",
      "\n",
      "df"
     ],
     "language": "python",
     "metadata": {},
     "outputs": [
      {
       "html": [
        "<div style=\"max-height:1000px;max-width:1500px;overflow:auto;\">\n",
        "<table border=\"1\" class=\"dataframe\">\n",
        "  <thead>\n",
        "    <tr style=\"text-align: right;\">\n",
        "      <th></th>\n",
        "      <th>A</th>\n",
        "      <th>B</th>\n",
        "      <th>C</th>\n",
        "      <th>D</th>\n",
        "      <th>E</th>\n",
        "      <th>F</th>\n",
        "    </tr>\n",
        "  </thead>\n",
        "  <tbody>\n",
        "    <tr>\n",
        "      <th>row0</th>\n",
        "      <td> 1</td>\n",
        "      <td>2013-01-02</td>\n",
        "      <td> 10</td>\n",
        "      <td> 0</td>\n",
        "      <td>  test</td>\n",
        "      <td> foo</td>\n",
        "    </tr>\n",
        "    <tr>\n",
        "      <th>row1</th>\n",
        "      <td> 1</td>\n",
        "      <td>2013-01-02</td>\n",
        "      <td> 20</td>\n",
        "      <td> 1</td>\n",
        "      <td> train</td>\n",
        "      <td> foo</td>\n",
        "    </tr>\n",
        "    <tr>\n",
        "      <th>row2</th>\n",
        "      <td> 1</td>\n",
        "      <td>2013-01-02</td>\n",
        "      <td> 30</td>\n",
        "      <td> 2</td>\n",
        "      <td>  test</td>\n",
        "      <td> foo</td>\n",
        "    </tr>\n",
        "    <tr>\n",
        "      <th>row3</th>\n",
        "      <td> 1</td>\n",
        "      <td>2013-01-02</td>\n",
        "      <td> 40</td>\n",
        "      <td> 3</td>\n",
        "      <td> train</td>\n",
        "      <td> foo</td>\n",
        "    </tr>\n",
        "  </tbody>\n",
        "</table>\n",
        "</div>"
       ],
       "metadata": {},
       "output_type": "pyout",
       "prompt_number": 114,
       "text": [
        "      A          B   C  D      E    F\n",
        "row0  1 2013-01-02  10  0   test  foo\n",
        "row1  1 2013-01-02  20  1  train  foo\n",
        "row2  1 2013-01-02  30  2   test  foo\n",
        "row3  1 2013-01-02  40  3  train  foo"
       ]
      }
     ],
     "prompt_number": 114
    },
    {
     "cell_type": "code",
     "collapsed": false,
     "input": [
      "df.dtypes"
     ],
     "language": "python",
     "metadata": {},
     "outputs": [
      {
       "metadata": {},
       "output_type": "pyout",
       "prompt_number": 115,
       "text": [
        "A           float64\n",
        "B    datetime64[ns]\n",
        "C           float32\n",
        "D             int32\n",
        "E          category\n",
        "F            object\n",
        "dtype: object"
       ]
      }
     ],
     "prompt_number": 115
    },
    {
     "cell_type": "code",
     "collapsed": false,
     "input": [
      "df.A"
     ],
     "language": "python",
     "metadata": {},
     "outputs": [
      {
       "metadata": {},
       "output_type": "pyout",
       "prompt_number": 116,
       "text": [
        "row0    1\n",
        "row1    1\n",
        "row2    1\n",
        "row3    1\n",
        "Name: A, dtype: float64"
       ]
      }
     ],
     "prompt_number": 116
    },
    {
     "cell_type": "code",
     "collapsed": false,
     "input": [
      "df.head(2)"
     ],
     "language": "python",
     "metadata": {},
     "outputs": [
      {
       "html": [
        "<div style=\"max-height:1000px;max-width:1500px;overflow:auto;\">\n",
        "<table border=\"1\" class=\"dataframe\">\n",
        "  <thead>\n",
        "    <tr style=\"text-align: right;\">\n",
        "      <th></th>\n",
        "      <th>A</th>\n",
        "      <th>B</th>\n",
        "      <th>C</th>\n",
        "      <th>D</th>\n",
        "      <th>E</th>\n",
        "      <th>F</th>\n",
        "    </tr>\n",
        "  </thead>\n",
        "  <tbody>\n",
        "    <tr>\n",
        "      <th>row0</th>\n",
        "      <td> 1</td>\n",
        "      <td>2013-01-02</td>\n",
        "      <td> 10</td>\n",
        "      <td> 0</td>\n",
        "      <td>  test</td>\n",
        "      <td> foo</td>\n",
        "    </tr>\n",
        "    <tr>\n",
        "      <th>row1</th>\n",
        "      <td> 1</td>\n",
        "      <td>2013-01-02</td>\n",
        "      <td> 20</td>\n",
        "      <td> 1</td>\n",
        "      <td> train</td>\n",
        "      <td> foo</td>\n",
        "    </tr>\n",
        "  </tbody>\n",
        "</table>\n",
        "</div>"
       ],
       "metadata": {},
       "output_type": "pyout",
       "prompt_number": 117,
       "text": [
        "      A          B   C  D      E    F\n",
        "row0  1 2013-01-02  10  0   test  foo\n",
        "row1  1 2013-01-02  20  1  train  foo"
       ]
      }
     ],
     "prompt_number": 117
    },
    {
     "cell_type": "code",
     "collapsed": false,
     "input": [
      "df.tail(2)"
     ],
     "language": "python",
     "metadata": {},
     "outputs": [
      {
       "html": [
        "<div style=\"max-height:1000px;max-width:1500px;overflow:auto;\">\n",
        "<table border=\"1\" class=\"dataframe\">\n",
        "  <thead>\n",
        "    <tr style=\"text-align: right;\">\n",
        "      <th></th>\n",
        "      <th>A</th>\n",
        "      <th>B</th>\n",
        "      <th>C</th>\n",
        "      <th>D</th>\n",
        "      <th>E</th>\n",
        "      <th>F</th>\n",
        "    </tr>\n",
        "  </thead>\n",
        "  <tbody>\n",
        "    <tr>\n",
        "      <th>row2</th>\n",
        "      <td> 1</td>\n",
        "      <td>2013-01-02</td>\n",
        "      <td> 30</td>\n",
        "      <td> 2</td>\n",
        "      <td>  test</td>\n",
        "      <td> foo</td>\n",
        "    </tr>\n",
        "    <tr>\n",
        "      <th>row3</th>\n",
        "      <td> 1</td>\n",
        "      <td>2013-01-02</td>\n",
        "      <td> 40</td>\n",
        "      <td> 3</td>\n",
        "      <td> train</td>\n",
        "      <td> foo</td>\n",
        "    </tr>\n",
        "  </tbody>\n",
        "</table>\n",
        "</div>"
       ],
       "metadata": {},
       "output_type": "pyout",
       "prompt_number": 118,
       "text": [
        "      A          B   C  D      E    F\n",
        "row2  1 2013-01-02  30  2   test  foo\n",
        "row3  1 2013-01-02  40  3  train  foo"
       ]
      }
     ],
     "prompt_number": 118
    },
    {
     "cell_type": "code",
     "collapsed": false,
     "input": [
      "df.index"
     ],
     "language": "python",
     "metadata": {},
     "outputs": [
      {
       "metadata": {},
       "output_type": "pyout",
       "prompt_number": 119,
       "text": [
        "Index([u'row0', u'row1', u'row2', u'row3'], dtype='object')"
       ]
      }
     ],
     "prompt_number": 119
    },
    {
     "cell_type": "code",
     "collapsed": false,
     "input": [
      "df.columns"
     ],
     "language": "python",
     "metadata": {},
     "outputs": [
      {
       "metadata": {},
       "output_type": "pyout",
       "prompt_number": 120,
       "text": [
        "Index([u'A', u'B', u'C', u'D', u'E', u'F'], dtype='object')"
       ]
      }
     ],
     "prompt_number": 120
    },
    {
     "cell_type": "code",
     "collapsed": false,
     "input": [
      "df.values"
     ],
     "language": "python",
     "metadata": {},
     "outputs": [
      {
       "metadata": {},
       "output_type": "pyout",
       "prompt_number": 121,
       "text": [
        "array([[1.0, Timestamp('2013-01-02 00:00:00'), 10.0, 0, 'test', 'foo'],\n",
        "       [1.0, Timestamp('2013-01-02 00:00:00'), 20.0, 1, 'train', 'foo'],\n",
        "       [1.0, Timestamp('2013-01-02 00:00:00'), 30.0, 2, 'test', 'foo'],\n",
        "       [1.0, Timestamp('2013-01-02 00:00:00'), 40.0, 3, 'train', 'foo']], dtype=object)"
       ]
      }
     ],
     "prompt_number": 121
    },
    {
     "cell_type": "code",
     "collapsed": false,
     "input": [
      "df.describe()"
     ],
     "language": "python",
     "metadata": {},
     "outputs": [
      {
       "html": [
        "<div style=\"max-height:1000px;max-width:1500px;overflow:auto;\">\n",
        "<table border=\"1\" class=\"dataframe\">\n",
        "  <thead>\n",
        "    <tr style=\"text-align: right;\">\n",
        "      <th></th>\n",
        "      <th>A</th>\n",
        "      <th>C</th>\n",
        "      <th>D</th>\n",
        "    </tr>\n",
        "  </thead>\n",
        "  <tbody>\n",
        "    <tr>\n",
        "      <th>count</th>\n",
        "      <td> 4</td>\n",
        "      <td>  4.000000</td>\n",
        "      <td> 4.000000</td>\n",
        "    </tr>\n",
        "    <tr>\n",
        "      <th>mean</th>\n",
        "      <td> 1</td>\n",
        "      <td> 25.000000</td>\n",
        "      <td> 1.500000</td>\n",
        "    </tr>\n",
        "    <tr>\n",
        "      <th>std</th>\n",
        "      <td> 0</td>\n",
        "      <td> 12.909944</td>\n",
        "      <td> 1.290994</td>\n",
        "    </tr>\n",
        "    <tr>\n",
        "      <th>min</th>\n",
        "      <td> 1</td>\n",
        "      <td> 10.000000</td>\n",
        "      <td> 0.000000</td>\n",
        "    </tr>\n",
        "    <tr>\n",
        "      <th>25%</th>\n",
        "      <td> 1</td>\n",
        "      <td> 17.500000</td>\n",
        "      <td> 0.750000</td>\n",
        "    </tr>\n",
        "    <tr>\n",
        "      <th>50%</th>\n",
        "      <td> 1</td>\n",
        "      <td> 25.000000</td>\n",
        "      <td> 1.500000</td>\n",
        "    </tr>\n",
        "    <tr>\n",
        "      <th>75%</th>\n",
        "      <td> 1</td>\n",
        "      <td> 32.500000</td>\n",
        "      <td> 2.250000</td>\n",
        "    </tr>\n",
        "    <tr>\n",
        "      <th>max</th>\n",
        "      <td> 1</td>\n",
        "      <td> 40.000000</td>\n",
        "      <td> 3.000000</td>\n",
        "    </tr>\n",
        "  </tbody>\n",
        "</table>\n",
        "</div>"
       ],
       "metadata": {},
       "output_type": "pyout",
       "prompt_number": 122,
       "text": [
        "       A          C         D\n",
        "count  4   4.000000  4.000000\n",
        "mean   1  25.000000  1.500000\n",
        "std    0  12.909944  1.290994\n",
        "min    1  10.000000  0.000000\n",
        "25%    1  17.500000  0.750000\n",
        "50%    1  25.000000  1.500000\n",
        "75%    1  32.500000  2.250000\n",
        "max    1  40.000000  3.000000"
       ]
      }
     ],
     "prompt_number": 122
    },
    {
     "cell_type": "code",
     "collapsed": false,
     "input": [
      "df.T"
     ],
     "language": "python",
     "metadata": {},
     "outputs": [
      {
       "html": [
        "<div style=\"max-height:1000px;max-width:1500px;overflow:auto;\">\n",
        "<table border=\"1\" class=\"dataframe\">\n",
        "  <thead>\n",
        "    <tr style=\"text-align: right;\">\n",
        "      <th></th>\n",
        "      <th>row0</th>\n",
        "      <th>row1</th>\n",
        "      <th>row2</th>\n",
        "      <th>row3</th>\n",
        "    </tr>\n",
        "  </thead>\n",
        "  <tbody>\n",
        "    <tr>\n",
        "      <th>A</th>\n",
        "      <td>                   1</td>\n",
        "      <td>                   1</td>\n",
        "      <td>                   1</td>\n",
        "      <td>                   1</td>\n",
        "    </tr>\n",
        "    <tr>\n",
        "      <th>B</th>\n",
        "      <td> 2013-01-02 00:00:00</td>\n",
        "      <td> 2013-01-02 00:00:00</td>\n",
        "      <td> 2013-01-02 00:00:00</td>\n",
        "      <td> 2013-01-02 00:00:00</td>\n",
        "    </tr>\n",
        "    <tr>\n",
        "      <th>C</th>\n",
        "      <td>                  10</td>\n",
        "      <td>                  20</td>\n",
        "      <td>                  30</td>\n",
        "      <td>                  40</td>\n",
        "    </tr>\n",
        "    <tr>\n",
        "      <th>D</th>\n",
        "      <td>                   0</td>\n",
        "      <td>                   1</td>\n",
        "      <td>                   2</td>\n",
        "      <td>                   3</td>\n",
        "    </tr>\n",
        "    <tr>\n",
        "      <th>E</th>\n",
        "      <td>                test</td>\n",
        "      <td>               train</td>\n",
        "      <td>                test</td>\n",
        "      <td>               train</td>\n",
        "    </tr>\n",
        "    <tr>\n",
        "      <th>F</th>\n",
        "      <td>                 foo</td>\n",
        "      <td>                 foo</td>\n",
        "      <td>                 foo</td>\n",
        "      <td>                 foo</td>\n",
        "    </tr>\n",
        "  </tbody>\n",
        "</table>\n",
        "</div>"
       ],
       "metadata": {},
       "output_type": "pyout",
       "prompt_number": 123,
       "text": [
        "                  row0                 row1                 row2  \\\n",
        "A                    1                    1                    1   \n",
        "B  2013-01-02 00:00:00  2013-01-02 00:00:00  2013-01-02 00:00:00   \n",
        "C                   10                   20                   30   \n",
        "D                    0                    1                    2   \n",
        "E                 test                train                 test   \n",
        "F                  foo                  foo                  foo   \n",
        "\n",
        "                  row3  \n",
        "A                    1  \n",
        "B  2013-01-02 00:00:00  \n",
        "C                   40  \n",
        "D                    3  \n",
        "E                train  \n",
        "F                  foo  "
       ]
      }
     ],
     "prompt_number": 123
    },
    {
     "cell_type": "code",
     "collapsed": false,
     "input": [
      "df.sort_index(axis=0, ascending=False) #Sort by row name (axis 0)"
     ],
     "language": "python",
     "metadata": {},
     "outputs": [
      {
       "html": [
        "<div style=\"max-height:1000px;max-width:1500px;overflow:auto;\">\n",
        "<table border=\"1\" class=\"dataframe\">\n",
        "  <thead>\n",
        "    <tr style=\"text-align: right;\">\n",
        "      <th></th>\n",
        "      <th>A</th>\n",
        "      <th>B</th>\n",
        "      <th>C</th>\n",
        "      <th>D</th>\n",
        "      <th>E</th>\n",
        "      <th>F</th>\n",
        "    </tr>\n",
        "  </thead>\n",
        "  <tbody>\n",
        "    <tr>\n",
        "      <th>row3</th>\n",
        "      <td> 1</td>\n",
        "      <td>2013-01-02</td>\n",
        "      <td> 40</td>\n",
        "      <td> 3</td>\n",
        "      <td> train</td>\n",
        "      <td> foo</td>\n",
        "    </tr>\n",
        "    <tr>\n",
        "      <th>row2</th>\n",
        "      <td> 1</td>\n",
        "      <td>2013-01-02</td>\n",
        "      <td> 30</td>\n",
        "      <td> 2</td>\n",
        "      <td>  test</td>\n",
        "      <td> foo</td>\n",
        "    </tr>\n",
        "    <tr>\n",
        "      <th>row1</th>\n",
        "      <td> 1</td>\n",
        "      <td>2013-01-02</td>\n",
        "      <td> 20</td>\n",
        "      <td> 1</td>\n",
        "      <td> train</td>\n",
        "      <td> foo</td>\n",
        "    </tr>\n",
        "    <tr>\n",
        "      <th>row0</th>\n",
        "      <td> 1</td>\n",
        "      <td>2013-01-02</td>\n",
        "      <td> 10</td>\n",
        "      <td> 0</td>\n",
        "      <td>  test</td>\n",
        "      <td> foo</td>\n",
        "    </tr>\n",
        "  </tbody>\n",
        "</table>\n",
        "</div>"
       ],
       "metadata": {},
       "output_type": "pyout",
       "prompt_number": 124,
       "text": [
        "      A          B   C  D      E    F\n",
        "row3  1 2013-01-02  40  3  train  foo\n",
        "row2  1 2013-01-02  30  2   test  foo\n",
        "row1  1 2013-01-02  20  1  train  foo\n",
        "row0  1 2013-01-02  10  0   test  foo"
       ]
      }
     ],
     "prompt_number": 124
    },
    {
     "cell_type": "code",
     "collapsed": false,
     "input": [
      "df.sort_index(axis=1, ascending=False) #Sort by column name (axis 1)"
     ],
     "language": "python",
     "metadata": {},
     "outputs": [
      {
       "html": [
        "<div style=\"max-height:1000px;max-width:1500px;overflow:auto;\">\n",
        "<table border=\"1\" class=\"dataframe\">\n",
        "  <thead>\n",
        "    <tr style=\"text-align: right;\">\n",
        "      <th></th>\n",
        "      <th>F</th>\n",
        "      <th>E</th>\n",
        "      <th>D</th>\n",
        "      <th>C</th>\n",
        "      <th>B</th>\n",
        "      <th>A</th>\n",
        "    </tr>\n",
        "  </thead>\n",
        "  <tbody>\n",
        "    <tr>\n",
        "      <th>row0</th>\n",
        "      <td> foo</td>\n",
        "      <td>  test</td>\n",
        "      <td> 0</td>\n",
        "      <td> 10</td>\n",
        "      <td>2013-01-02</td>\n",
        "      <td> 1</td>\n",
        "    </tr>\n",
        "    <tr>\n",
        "      <th>row1</th>\n",
        "      <td> foo</td>\n",
        "      <td> train</td>\n",
        "      <td> 1</td>\n",
        "      <td> 20</td>\n",
        "      <td>2013-01-02</td>\n",
        "      <td> 1</td>\n",
        "    </tr>\n",
        "    <tr>\n",
        "      <th>row2</th>\n",
        "      <td> foo</td>\n",
        "      <td>  test</td>\n",
        "      <td> 2</td>\n",
        "      <td> 30</td>\n",
        "      <td>2013-01-02</td>\n",
        "      <td> 1</td>\n",
        "    </tr>\n",
        "    <tr>\n",
        "      <th>row3</th>\n",
        "      <td> foo</td>\n",
        "      <td> train</td>\n",
        "      <td> 3</td>\n",
        "      <td> 40</td>\n",
        "      <td>2013-01-02</td>\n",
        "      <td> 1</td>\n",
        "    </tr>\n",
        "  </tbody>\n",
        "</table>\n",
        "</div>"
       ],
       "metadata": {},
       "output_type": "pyout",
       "prompt_number": 125,
       "text": [
        "        F      E  D   C          B  A\n",
        "row0  foo   test  0  10 2013-01-02  1\n",
        "row1  foo  train  1  20 2013-01-02  1\n",
        "row2  foo   test  2  30 2013-01-02  1\n",
        "row3  foo  train  3  40 2013-01-02  1"
       ]
      }
     ],
     "prompt_number": 125
    },
    {
     "cell_type": "code",
     "collapsed": false,
     "input": [
      "df.sort('D',ascending=False) # Descending sort with column D"
     ],
     "language": "python",
     "metadata": {},
     "outputs": [
      {
       "html": [
        "<div style=\"max-height:1000px;max-width:1500px;overflow:auto;\">\n",
        "<table border=\"1\" class=\"dataframe\">\n",
        "  <thead>\n",
        "    <tr style=\"text-align: right;\">\n",
        "      <th></th>\n",
        "      <th>A</th>\n",
        "      <th>B</th>\n",
        "      <th>C</th>\n",
        "      <th>D</th>\n",
        "      <th>E</th>\n",
        "      <th>F</th>\n",
        "    </tr>\n",
        "  </thead>\n",
        "  <tbody>\n",
        "    <tr>\n",
        "      <th>row3</th>\n",
        "      <td> 1</td>\n",
        "      <td>2013-01-02</td>\n",
        "      <td> 40</td>\n",
        "      <td> 3</td>\n",
        "      <td> train</td>\n",
        "      <td> foo</td>\n",
        "    </tr>\n",
        "    <tr>\n",
        "      <th>row2</th>\n",
        "      <td> 1</td>\n",
        "      <td>2013-01-02</td>\n",
        "      <td> 30</td>\n",
        "      <td> 2</td>\n",
        "      <td>  test</td>\n",
        "      <td> foo</td>\n",
        "    </tr>\n",
        "    <tr>\n",
        "      <th>row1</th>\n",
        "      <td> 1</td>\n",
        "      <td>2013-01-02</td>\n",
        "      <td> 20</td>\n",
        "      <td> 1</td>\n",
        "      <td> train</td>\n",
        "      <td> foo</td>\n",
        "    </tr>\n",
        "    <tr>\n",
        "      <th>row0</th>\n",
        "      <td> 1</td>\n",
        "      <td>2013-01-02</td>\n",
        "      <td> 10</td>\n",
        "      <td> 0</td>\n",
        "      <td>  test</td>\n",
        "      <td> foo</td>\n",
        "    </tr>\n",
        "  </tbody>\n",
        "</table>\n",
        "</div>"
       ],
       "metadata": {},
       "output_type": "pyout",
       "prompt_number": 126,
       "text": [
        "      A          B   C  D      E    F\n",
        "row3  1 2013-01-02  40  3  train  foo\n",
        "row2  1 2013-01-02  30  2   test  foo\n",
        "row1  1 2013-01-02  20  1  train  foo\n",
        "row0  1 2013-01-02  10  0   test  foo"
       ]
      }
     ],
     "prompt_number": 126
    },
    {
     "cell_type": "markdown",
     "metadata": {},
     "source": [
      "While standard Python / Numpy expressions for selecting and setting are intuitive and come in handy for interactive work, for production code, we recommend the optimized pandas data access methods, .at, .iat, .loc, .iloc and .ix."
     ]
    },
    {
     "cell_type": "code",
     "collapsed": false,
     "input": [
      "df['C']"
     ],
     "language": "python",
     "metadata": {},
     "outputs": [
      {
       "metadata": {},
       "output_type": "pyout",
       "prompt_number": 127,
       "text": [
        "row0    10\n",
        "row1    20\n",
        "row2    30\n",
        "row3    40\n",
        "Name: C, dtype: float32"
       ]
      }
     ],
     "prompt_number": 127
    },
    {
     "cell_type": "code",
     "collapsed": false,
     "input": [
      "df[0:3] # Rows 0, 1, 2"
     ],
     "language": "python",
     "metadata": {},
     "outputs": [
      {
       "html": [
        "<div style=\"max-height:1000px;max-width:1500px;overflow:auto;\">\n",
        "<table border=\"1\" class=\"dataframe\">\n",
        "  <thead>\n",
        "    <tr style=\"text-align: right;\">\n",
        "      <th></th>\n",
        "      <th>A</th>\n",
        "      <th>B</th>\n",
        "      <th>C</th>\n",
        "      <th>D</th>\n",
        "      <th>E</th>\n",
        "      <th>F</th>\n",
        "    </tr>\n",
        "  </thead>\n",
        "  <tbody>\n",
        "    <tr>\n",
        "      <th>row0</th>\n",
        "      <td> 1</td>\n",
        "      <td>2013-01-02</td>\n",
        "      <td> 10</td>\n",
        "      <td> 0</td>\n",
        "      <td>  test</td>\n",
        "      <td> foo</td>\n",
        "    </tr>\n",
        "    <tr>\n",
        "      <th>row1</th>\n",
        "      <td> 1</td>\n",
        "      <td>2013-01-02</td>\n",
        "      <td> 20</td>\n",
        "      <td> 1</td>\n",
        "      <td> train</td>\n",
        "      <td> foo</td>\n",
        "    </tr>\n",
        "    <tr>\n",
        "      <th>row2</th>\n",
        "      <td> 1</td>\n",
        "      <td>2013-01-02</td>\n",
        "      <td> 30</td>\n",
        "      <td> 2</td>\n",
        "      <td>  test</td>\n",
        "      <td> foo</td>\n",
        "    </tr>\n",
        "  </tbody>\n",
        "</table>\n",
        "</div>"
       ],
       "metadata": {},
       "output_type": "pyout",
       "prompt_number": 128,
       "text": [
        "      A          B   C  D      E    F\n",
        "row0  1 2013-01-02  10  0   test  foo\n",
        "row1  1 2013-01-02  20  1  train  foo\n",
        "row2  1 2013-01-02  30  2   test  foo"
       ]
      }
     ],
     "prompt_number": 128
    },
    {
     "cell_type": "code",
     "collapsed": false,
     "input": [
      "df['row1':'row3']"
     ],
     "language": "python",
     "metadata": {},
     "outputs": [
      {
       "html": [
        "<div style=\"max-height:1000px;max-width:1500px;overflow:auto;\">\n",
        "<table border=\"1\" class=\"dataframe\">\n",
        "  <thead>\n",
        "    <tr style=\"text-align: right;\">\n",
        "      <th></th>\n",
        "      <th>A</th>\n",
        "      <th>B</th>\n",
        "      <th>C</th>\n",
        "      <th>D</th>\n",
        "      <th>E</th>\n",
        "      <th>F</th>\n",
        "    </tr>\n",
        "  </thead>\n",
        "  <tbody>\n",
        "    <tr>\n",
        "      <th>row1</th>\n",
        "      <td> 1</td>\n",
        "      <td>2013-01-02</td>\n",
        "      <td> 20</td>\n",
        "      <td> 1</td>\n",
        "      <td> train</td>\n",
        "      <td> foo</td>\n",
        "    </tr>\n",
        "    <tr>\n",
        "      <th>row2</th>\n",
        "      <td> 1</td>\n",
        "      <td>2013-01-02</td>\n",
        "      <td> 30</td>\n",
        "      <td> 2</td>\n",
        "      <td>  test</td>\n",
        "      <td> foo</td>\n",
        "    </tr>\n",
        "    <tr>\n",
        "      <th>row3</th>\n",
        "      <td> 1</td>\n",
        "      <td>2013-01-02</td>\n",
        "      <td> 40</td>\n",
        "      <td> 3</td>\n",
        "      <td> train</td>\n",
        "      <td> foo</td>\n",
        "    </tr>\n",
        "  </tbody>\n",
        "</table>\n",
        "</div>"
       ],
       "metadata": {},
       "output_type": "pyout",
       "prompt_number": 129,
       "text": [
        "      A          B   C  D      E    F\n",
        "row1  1 2013-01-02  20  1  train  foo\n",
        "row2  1 2013-01-02  30  2   test  foo\n",
        "row3  1 2013-01-02  40  3  train  foo"
       ]
      }
     ],
     "prompt_number": 129
    },
    {
     "cell_type": "markdown",
     "metadata": {},
     "source": [
      "## Selection by label"
     ]
    },
    {
     "cell_type": "raw",
     "metadata": {},
     "source": [
      "loc = by label names (index or row names and columns names)\n",
      "iloc = by index number (nth row and nth column)"
     ]
    },
    {
     "cell_type": "code",
     "collapsed": false,
     "input": [
      "df.loc[['row1','row2']]"
     ],
     "language": "python",
     "metadata": {},
     "outputs": [
      {
       "html": [
        "<div style=\"max-height:1000px;max-width:1500px;overflow:auto;\">\n",
        "<table border=\"1\" class=\"dataframe\">\n",
        "  <thead>\n",
        "    <tr style=\"text-align: right;\">\n",
        "      <th></th>\n",
        "      <th>A</th>\n",
        "      <th>B</th>\n",
        "      <th>C</th>\n",
        "      <th>D</th>\n",
        "      <th>E</th>\n",
        "      <th>F</th>\n",
        "    </tr>\n",
        "  </thead>\n",
        "  <tbody>\n",
        "    <tr>\n",
        "      <th>row1</th>\n",
        "      <td> 1</td>\n",
        "      <td>2013-01-02</td>\n",
        "      <td> 20</td>\n",
        "      <td> 1</td>\n",
        "      <td> train</td>\n",
        "      <td> foo</td>\n",
        "    </tr>\n",
        "    <tr>\n",
        "      <th>row2</th>\n",
        "      <td> 1</td>\n",
        "      <td>2013-01-02</td>\n",
        "      <td> 30</td>\n",
        "      <td> 2</td>\n",
        "      <td>  test</td>\n",
        "      <td> foo</td>\n",
        "    </tr>\n",
        "  </tbody>\n",
        "</table>\n",
        "</div>"
       ],
       "metadata": {},
       "output_type": "pyout",
       "prompt_number": 130,
       "text": [
        "      A          B   C  D      E    F\n",
        "row1  1 2013-01-02  20  1  train  foo\n",
        "row2  1 2013-01-02  30  2   test  foo"
       ]
      }
     ],
     "prompt_number": 130
    },
    {
     "cell_type": "code",
     "collapsed": false,
     "input": [
      "df.loc[:,['A','B']]"
     ],
     "language": "python",
     "metadata": {},
     "outputs": [
      {
       "html": [
        "<div style=\"max-height:1000px;max-width:1500px;overflow:auto;\">\n",
        "<table border=\"1\" class=\"dataframe\">\n",
        "  <thead>\n",
        "    <tr style=\"text-align: right;\">\n",
        "      <th></th>\n",
        "      <th>A</th>\n",
        "      <th>B</th>\n",
        "    </tr>\n",
        "  </thead>\n",
        "  <tbody>\n",
        "    <tr>\n",
        "      <th>row0</th>\n",
        "      <td> 1</td>\n",
        "      <td>2013-01-02</td>\n",
        "    </tr>\n",
        "    <tr>\n",
        "      <th>row1</th>\n",
        "      <td> 1</td>\n",
        "      <td>2013-01-02</td>\n",
        "    </tr>\n",
        "    <tr>\n",
        "      <th>row2</th>\n",
        "      <td> 1</td>\n",
        "      <td>2013-01-02</td>\n",
        "    </tr>\n",
        "    <tr>\n",
        "      <th>row3</th>\n",
        "      <td> 1</td>\n",
        "      <td>2013-01-02</td>\n",
        "    </tr>\n",
        "  </tbody>\n",
        "</table>\n",
        "</div>"
       ],
       "metadata": {},
       "output_type": "pyout",
       "prompt_number": 131,
       "text": [
        "      A          B\n",
        "row0  1 2013-01-02\n",
        "row1  1 2013-01-02\n",
        "row2  1 2013-01-02\n",
        "row3  1 2013-01-02"
       ]
      }
     ],
     "prompt_number": 131
    },
    {
     "cell_type": "code",
     "collapsed": false,
     "input": [
      "df.loc[['row1','row2'],['A','C']]"
     ],
     "language": "python",
     "metadata": {},
     "outputs": [
      {
       "html": [
        "<div style=\"max-height:1000px;max-width:1500px;overflow:auto;\">\n",
        "<table border=\"1\" class=\"dataframe\">\n",
        "  <thead>\n",
        "    <tr style=\"text-align: right;\">\n",
        "      <th></th>\n",
        "      <th>A</th>\n",
        "      <th>C</th>\n",
        "    </tr>\n",
        "  </thead>\n",
        "  <tbody>\n",
        "    <tr>\n",
        "      <th>row1</th>\n",
        "      <td> 1</td>\n",
        "      <td> 20</td>\n",
        "    </tr>\n",
        "    <tr>\n",
        "      <th>row2</th>\n",
        "      <td> 1</td>\n",
        "      <td> 30</td>\n",
        "    </tr>\n",
        "  </tbody>\n",
        "</table>\n",
        "</div>"
       ],
       "metadata": {},
       "output_type": "pyout",
       "prompt_number": 132,
       "text": [
        "      A   C\n",
        "row1  1  20\n",
        "row2  1  30"
       ]
      }
     ],
     "prompt_number": 132
    },
    {
     "cell_type": "markdown",
     "metadata": {},
     "source": [
      "## Selection by Position"
     ]
    },
    {
     "cell_type": "raw",
     "metadata": {},
     "source": [
      "loc = by label names (index or row names and columns names)\n",
      "iloc = by index number (nth row and nth column)"
     ]
    },
    {
     "cell_type": "code",
     "collapsed": false,
     "input": [
      "df"
     ],
     "language": "python",
     "metadata": {},
     "outputs": [
      {
       "html": [
        "<div style=\"max-height:1000px;max-width:1500px;overflow:auto;\">\n",
        "<table border=\"1\" class=\"dataframe\">\n",
        "  <thead>\n",
        "    <tr style=\"text-align: right;\">\n",
        "      <th></th>\n",
        "      <th>A</th>\n",
        "      <th>B</th>\n",
        "      <th>C</th>\n",
        "      <th>D</th>\n",
        "      <th>E</th>\n",
        "      <th>F</th>\n",
        "    </tr>\n",
        "  </thead>\n",
        "  <tbody>\n",
        "    <tr>\n",
        "      <th>row0</th>\n",
        "      <td> 1</td>\n",
        "      <td>2013-01-02</td>\n",
        "      <td> 10</td>\n",
        "      <td> 0</td>\n",
        "      <td>  test</td>\n",
        "      <td> foo</td>\n",
        "    </tr>\n",
        "    <tr>\n",
        "      <th>row1</th>\n",
        "      <td> 1</td>\n",
        "      <td>2013-01-02</td>\n",
        "      <td> 20</td>\n",
        "      <td> 1</td>\n",
        "      <td> train</td>\n",
        "      <td> foo</td>\n",
        "    </tr>\n",
        "    <tr>\n",
        "      <th>row2</th>\n",
        "      <td> 1</td>\n",
        "      <td>2013-01-02</td>\n",
        "      <td> 30</td>\n",
        "      <td> 2</td>\n",
        "      <td>  test</td>\n",
        "      <td> foo</td>\n",
        "    </tr>\n",
        "    <tr>\n",
        "      <th>row3</th>\n",
        "      <td> 1</td>\n",
        "      <td>2013-01-02</td>\n",
        "      <td> 40</td>\n",
        "      <td> 3</td>\n",
        "      <td> train</td>\n",
        "      <td> foo</td>\n",
        "    </tr>\n",
        "  </tbody>\n",
        "</table>\n",
        "</div>"
       ],
       "metadata": {},
       "output_type": "pyout",
       "prompt_number": 133,
       "text": [
        "      A          B   C  D      E    F\n",
        "row0  1 2013-01-02  10  0   test  foo\n",
        "row1  1 2013-01-02  20  1  train  foo\n",
        "row2  1 2013-01-02  30  2   test  foo\n",
        "row3  1 2013-01-02  40  3  train  foo"
       ]
      }
     ],
     "prompt_number": 133
    },
    {
     "cell_type": "code",
     "collapsed": false,
     "input": [
      "df.iloc[3] # Row number 3 (label row3)"
     ],
     "language": "python",
     "metadata": {},
     "outputs": [
      {
       "metadata": {},
       "output_type": "pyout",
       "prompt_number": 134,
       "text": [
        "A                      1\n",
        "B    2013-01-02 00:00:00\n",
        "C                     40\n",
        "D                      3\n",
        "E                  train\n",
        "F                    foo\n",
        "Name: row3, dtype: object"
       ]
      }
     ],
     "prompt_number": 134
    },
    {
     "cell_type": "code",
     "collapsed": false,
     "input": [
      "df.iloc[3,:2] # Row 3, first 2 columns"
     ],
     "language": "python",
     "metadata": {},
     "outputs": [
      {
       "metadata": {},
       "output_type": "pyout",
       "prompt_number": 139,
       "text": [
        "A                      1\n",
        "B    2013-01-02 00:00:00\n",
        "Name: row3, dtype: object"
       ]
      }
     ],
     "prompt_number": 139
    },
    {
     "cell_type": "markdown",
     "metadata": {},
     "source": [
      "## Boolean Indexing"
     ]
    },
    {
     "cell_type": "code",
     "collapsed": false,
     "input": [
      "df[df.C > 10]"
     ],
     "language": "python",
     "metadata": {},
     "outputs": [
      {
       "html": [
        "<div style=\"max-height:1000px;max-width:1500px;overflow:auto;\">\n",
        "<table border=\"1\" class=\"dataframe\">\n",
        "  <thead>\n",
        "    <tr style=\"text-align: right;\">\n",
        "      <th></th>\n",
        "      <th>A</th>\n",
        "      <th>B</th>\n",
        "      <th>C</th>\n",
        "      <th>D</th>\n",
        "      <th>E</th>\n",
        "      <th>F</th>\n",
        "    </tr>\n",
        "  </thead>\n",
        "  <tbody>\n",
        "    <tr>\n",
        "      <th>row1</th>\n",
        "      <td> 1</td>\n",
        "      <td>2013-01-02</td>\n",
        "      <td> 20</td>\n",
        "      <td> 1</td>\n",
        "      <td> train</td>\n",
        "      <td> foo</td>\n",
        "    </tr>\n",
        "    <tr>\n",
        "      <th>row2</th>\n",
        "      <td> 1</td>\n",
        "      <td>2013-01-02</td>\n",
        "      <td> 30</td>\n",
        "      <td> 2</td>\n",
        "      <td>  test</td>\n",
        "      <td> foo</td>\n",
        "    </tr>\n",
        "    <tr>\n",
        "      <th>row3</th>\n",
        "      <td> 1</td>\n",
        "      <td>2013-01-02</td>\n",
        "      <td> 40</td>\n",
        "      <td> 3</td>\n",
        "      <td> train</td>\n",
        "      <td> foo</td>\n",
        "    </tr>\n",
        "  </tbody>\n",
        "</table>\n",
        "</div>"
       ],
       "metadata": {},
       "output_type": "pyout",
       "prompt_number": 142,
       "text": [
        "      A          B   C  D      E    F\n",
        "row1  1 2013-01-02  20  1  train  foo\n",
        "row2  1 2013-01-02  30  2   test  foo\n",
        "row3  1 2013-01-02  40  3  train  foo"
       ]
      }
     ],
     "prompt_number": 142
    },
    {
     "cell_type": "code",
     "collapsed": false,
     "input": [
      "df[df['C'].isin([10,20])]"
     ],
     "language": "python",
     "metadata": {},
     "outputs": [
      {
       "html": [
        "<div style=\"max-height:1000px;max-width:1500px;overflow:auto;\">\n",
        "<table border=\"1\" class=\"dataframe\">\n",
        "  <thead>\n",
        "    <tr style=\"text-align: right;\">\n",
        "      <th></th>\n",
        "      <th>A</th>\n",
        "      <th>B</th>\n",
        "      <th>C</th>\n",
        "      <th>D</th>\n",
        "      <th>E</th>\n",
        "      <th>F</th>\n",
        "    </tr>\n",
        "  </thead>\n",
        "  <tbody>\n",
        "    <tr>\n",
        "      <th>row0</th>\n",
        "      <td> 1</td>\n",
        "      <td>2013-01-02</td>\n",
        "      <td> 10</td>\n",
        "      <td> 0</td>\n",
        "      <td>  test</td>\n",
        "      <td> foo</td>\n",
        "    </tr>\n",
        "    <tr>\n",
        "      <th>row1</th>\n",
        "      <td> 1</td>\n",
        "      <td>2013-01-02</td>\n",
        "      <td> 20</td>\n",
        "      <td> 1</td>\n",
        "      <td> train</td>\n",
        "      <td> foo</td>\n",
        "    </tr>\n",
        "  </tbody>\n",
        "</table>\n",
        "</div>"
       ],
       "metadata": {},
       "output_type": "pyout",
       "prompt_number": 152,
       "text": [
        "      A          B   C  D      E    F\n",
        "row0  1 2013-01-02  10  0   test  foo\n",
        "row1  1 2013-01-02  20  1  train  foo"
       ]
      }
     ],
     "prompt_number": 152
    },
    {
     "cell_type": "code",
     "collapsed": false,
     "input": [
      "df1 = df.reindex(index=['row2','row3','row1','row1'], columns=list(df.columns) + ['G'])\n",
      "df1"
     ],
     "language": "python",
     "metadata": {},
     "outputs": [
      {
       "html": [
        "<div style=\"max-height:1000px;max-width:1500px;overflow:auto;\">\n",
        "<table border=\"1\" class=\"dataframe\">\n",
        "  <thead>\n",
        "    <tr style=\"text-align: right;\">\n",
        "      <th></th>\n",
        "      <th>A</th>\n",
        "      <th>B</th>\n",
        "      <th>C</th>\n",
        "      <th>D</th>\n",
        "      <th>E</th>\n",
        "      <th>F</th>\n",
        "      <th>G</th>\n",
        "    </tr>\n",
        "  </thead>\n",
        "  <tbody>\n",
        "    <tr>\n",
        "      <th>row2</th>\n",
        "      <td> 1</td>\n",
        "      <td>2013-01-02</td>\n",
        "      <td> 30</td>\n",
        "      <td> 2</td>\n",
        "      <td>  test</td>\n",
        "      <td> foo</td>\n",
        "      <td>NaN</td>\n",
        "    </tr>\n",
        "    <tr>\n",
        "      <th>row3</th>\n",
        "      <td> 1</td>\n",
        "      <td>2013-01-02</td>\n",
        "      <td> 40</td>\n",
        "      <td> 3</td>\n",
        "      <td> train</td>\n",
        "      <td> foo</td>\n",
        "      <td>NaN</td>\n",
        "    </tr>\n",
        "    <tr>\n",
        "      <th>row1</th>\n",
        "      <td> 1</td>\n",
        "      <td>2013-01-02</td>\n",
        "      <td> 20</td>\n",
        "      <td> 1</td>\n",
        "      <td> train</td>\n",
        "      <td> foo</td>\n",
        "      <td>NaN</td>\n",
        "    </tr>\n",
        "    <tr>\n",
        "      <th>row1</th>\n",
        "      <td> 1</td>\n",
        "      <td>2013-01-02</td>\n",
        "      <td> 20</td>\n",
        "      <td> 1</td>\n",
        "      <td> train</td>\n",
        "      <td> foo</td>\n",
        "      <td>NaN</td>\n",
        "    </tr>\n",
        "  </tbody>\n",
        "</table>\n",
        "</div>"
       ],
       "metadata": {},
       "output_type": "pyout",
       "prompt_number": 158,
       "text": [
        "      A          B   C  D      E    F   G\n",
        "row2  1 2013-01-02  30  2   test  foo NaN\n",
        "row3  1 2013-01-02  40  3  train  foo NaN\n",
        "row1  1 2013-01-02  20  1  train  foo NaN\n",
        "row1  1 2013-01-02  20  1  train  foo NaN"
       ]
      }
     ],
     "prompt_number": 158
    },
    {
     "cell_type": "code",
     "collapsed": false,
     "input": [
      "df1.loc['row1','G'] = 3"
     ],
     "language": "python",
     "metadata": {},
     "outputs": [],
     "prompt_number": 167
    },
    {
     "cell_type": "code",
     "collapsed": false,
     "input": [
      "df1"
     ],
     "language": "python",
     "metadata": {},
     "outputs": [
      {
       "html": [
        "<div style=\"max-height:1000px;max-width:1500px;overflow:auto;\">\n",
        "<table border=\"1\" class=\"dataframe\">\n",
        "  <thead>\n",
        "    <tr style=\"text-align: right;\">\n",
        "      <th></th>\n",
        "      <th>A</th>\n",
        "      <th>B</th>\n",
        "      <th>C</th>\n",
        "      <th>D</th>\n",
        "      <th>E</th>\n",
        "      <th>F</th>\n",
        "      <th>G</th>\n",
        "    </tr>\n",
        "  </thead>\n",
        "  <tbody>\n",
        "    <tr>\n",
        "      <th>row2</th>\n",
        "      <td> 1</td>\n",
        "      <td>2013-01-02</td>\n",
        "      <td> 30</td>\n",
        "      <td> 2</td>\n",
        "      <td>  test</td>\n",
        "      <td> foo</td>\n",
        "      <td>NaN</td>\n",
        "    </tr>\n",
        "    <tr>\n",
        "      <th>row3</th>\n",
        "      <td> 1</td>\n",
        "      <td>2013-01-02</td>\n",
        "      <td> 40</td>\n",
        "      <td> 3</td>\n",
        "      <td> train</td>\n",
        "      <td> foo</td>\n",
        "      <td>NaN</td>\n",
        "    </tr>\n",
        "    <tr>\n",
        "      <th>row1</th>\n",
        "      <td> 1</td>\n",
        "      <td>2013-01-02</td>\n",
        "      <td> 20</td>\n",
        "      <td> 1</td>\n",
        "      <td> train</td>\n",
        "      <td> foo</td>\n",
        "      <td>  3</td>\n",
        "    </tr>\n",
        "    <tr>\n",
        "      <th>row1</th>\n",
        "      <td> 1</td>\n",
        "      <td>2013-01-02</td>\n",
        "      <td> 20</td>\n",
        "      <td> 1</td>\n",
        "      <td> train</td>\n",
        "      <td> foo</td>\n",
        "      <td>  3</td>\n",
        "    </tr>\n",
        "  </tbody>\n",
        "</table>\n",
        "</div>"
       ],
       "metadata": {},
       "output_type": "pyout",
       "prompt_number": 168,
       "text": [
        "      A          B   C  D      E    F   G\n",
        "row2  1 2013-01-02  30  2   test  foo NaN\n",
        "row3  1 2013-01-02  40  3  train  foo NaN\n",
        "row1  1 2013-01-02  20  1  train  foo   3\n",
        "row1  1 2013-01-02  20  1  train  foo   3"
       ]
      }
     ],
     "prompt_number": 168
    },
    {
     "cell_type": "code",
     "collapsed": false,
     "input": [
      "df1.dropna(how='any')"
     ],
     "language": "python",
     "metadata": {},
     "outputs": [
      {
       "html": [
        "<div style=\"max-height:1000px;max-width:1500px;overflow:auto;\">\n",
        "<table border=\"1\" class=\"dataframe\">\n",
        "  <thead>\n",
        "    <tr style=\"text-align: right;\">\n",
        "      <th></th>\n",
        "      <th>A</th>\n",
        "      <th>B</th>\n",
        "      <th>C</th>\n",
        "      <th>D</th>\n",
        "      <th>E</th>\n",
        "      <th>F</th>\n",
        "      <th>G</th>\n",
        "    </tr>\n",
        "  </thead>\n",
        "  <tbody>\n",
        "    <tr>\n",
        "      <th>row1</th>\n",
        "      <td> 1</td>\n",
        "      <td>2013-01-02</td>\n",
        "      <td> 20</td>\n",
        "      <td> 1</td>\n",
        "      <td> train</td>\n",
        "      <td> foo</td>\n",
        "      <td> 3</td>\n",
        "    </tr>\n",
        "    <tr>\n",
        "      <th>row1</th>\n",
        "      <td> 1</td>\n",
        "      <td>2013-01-02</td>\n",
        "      <td> 20</td>\n",
        "      <td> 1</td>\n",
        "      <td> train</td>\n",
        "      <td> foo</td>\n",
        "      <td> 3</td>\n",
        "    </tr>\n",
        "  </tbody>\n",
        "</table>\n",
        "</div>"
       ],
       "metadata": {},
       "output_type": "pyout",
       "prompt_number": 169,
       "text": [
        "      A          B   C  D      E    F  G\n",
        "row1  1 2013-01-02  20  1  train  foo  3\n",
        "row1  1 2013-01-02  20  1  train  foo  3"
       ]
      }
     ],
     "prompt_number": 169
    },
    {
     "cell_type": "markdown",
     "metadata": {},
     "source": [
      "## Pandas: Operations"
     ]
    },
    {
     "cell_type": "code",
     "collapsed": false,
     "input": [
      "df = pd.DataFrame(np.arange(20).reshape(5,4),columns=['a','b','c','d'], \\\n",
      "                  index=pd.date_range('20130102', periods=5))"
     ],
     "language": "python",
     "metadata": {},
     "outputs": [],
     "prompt_number": 242
    },
    {
     "cell_type": "code",
     "collapsed": false,
     "input": [
      "df"
     ],
     "language": "python",
     "metadata": {},
     "outputs": [
      {
       "html": [
        "<div style=\"max-height:1000px;max-width:1500px;overflow:auto;\">\n",
        "<table border=\"1\" class=\"dataframe\">\n",
        "  <thead>\n",
        "    <tr style=\"text-align: right;\">\n",
        "      <th></th>\n",
        "      <th>a</th>\n",
        "      <th>b</th>\n",
        "      <th>c</th>\n",
        "      <th>d</th>\n",
        "    </tr>\n",
        "  </thead>\n",
        "  <tbody>\n",
        "    <tr>\n",
        "      <th>2013-01-02</th>\n",
        "      <td>  0</td>\n",
        "      <td>  1</td>\n",
        "      <td>  2</td>\n",
        "      <td>  3</td>\n",
        "    </tr>\n",
        "    <tr>\n",
        "      <th>2013-01-03</th>\n",
        "      <td>  4</td>\n",
        "      <td>  5</td>\n",
        "      <td>  6</td>\n",
        "      <td>  7</td>\n",
        "    </tr>\n",
        "    <tr>\n",
        "      <th>2013-01-04</th>\n",
        "      <td>  8</td>\n",
        "      <td>  9</td>\n",
        "      <td> 10</td>\n",
        "      <td> 11</td>\n",
        "    </tr>\n",
        "    <tr>\n",
        "      <th>2013-01-05</th>\n",
        "      <td> 12</td>\n",
        "      <td> 13</td>\n",
        "      <td> 14</td>\n",
        "      <td> 15</td>\n",
        "    </tr>\n",
        "    <tr>\n",
        "      <th>2013-01-06</th>\n",
        "      <td> 16</td>\n",
        "      <td> 17</td>\n",
        "      <td> 18</td>\n",
        "      <td> 19</td>\n",
        "    </tr>\n",
        "  </tbody>\n",
        "</table>\n",
        "</div>"
       ],
       "metadata": {},
       "output_type": "pyout",
       "prompt_number": 243,
       "text": [
        "             a   b   c   d\n",
        "2013-01-02   0   1   2   3\n",
        "2013-01-03   4   5   6   7\n",
        "2013-01-04   8   9  10  11\n",
        "2013-01-05  12  13  14  15\n",
        "2013-01-06  16  17  18  19"
       ]
      }
     ],
     "prompt_number": 243
    },
    {
     "cell_type": "code",
     "collapsed": false,
     "input": [
      "df.mean()"
     ],
     "language": "python",
     "metadata": {},
     "outputs": [
      {
       "metadata": {},
       "output_type": "pyout",
       "prompt_number": 244,
       "text": [
        "a     8\n",
        "b     9\n",
        "c    10\n",
        "d    11\n",
        "dtype: float64"
       ]
      }
     ],
     "prompt_number": 244
    },
    {
     "cell_type": "code",
     "collapsed": false,
     "input": [
      "df.mean(1) # Row-wise"
     ],
     "language": "python",
     "metadata": {},
     "outputs": [
      {
       "metadata": {},
       "output_type": "pyout",
       "prompt_number": 245,
       "text": [
        "2013-01-02     1.5\n",
        "2013-01-03     5.5\n",
        "2013-01-04     9.5\n",
        "2013-01-05    13.5\n",
        "2013-01-06    17.5\n",
        "Freq: D, dtype: float64"
       ]
      }
     ],
     "prompt_number": 245
    },
    {
     "cell_type": "code",
     "collapsed": false,
     "input": [
      "df.index"
     ],
     "language": "python",
     "metadata": {},
     "outputs": [
      {
       "metadata": {},
       "output_type": "pyout",
       "prompt_number": 246,
       "text": [
        "<class 'pandas.tseries.index.DatetimeIndex'>\n",
        "[2013-01-02, ..., 2013-01-06]\n",
        "Length: 5, Freq: D, Timezone: None"
       ]
      }
     ],
     "prompt_number": 246
    },
    {
     "cell_type": "code",
     "collapsed": false,
     "input": [
      "s = pd.Series([1,3,5,np.nan,6], index=df.index).shift(2)"
     ],
     "language": "python",
     "metadata": {},
     "outputs": [],
     "prompt_number": 247
    },
    {
     "cell_type": "code",
     "collapsed": false,
     "input": [
      "s"
     ],
     "language": "python",
     "metadata": {},
     "outputs": [
      {
       "metadata": {},
       "output_type": "pyout",
       "prompt_number": 248,
       "text": [
        "2013-01-02   NaN\n",
        "2013-01-03   NaN\n",
        "2013-01-04     1\n",
        "2013-01-05     3\n",
        "2013-01-06     5\n",
        "Freq: D, dtype: float64"
       ]
      }
     ],
     "prompt_number": 248
    },
    {
     "cell_type": "code",
     "collapsed": false,
     "input": [
      "df.sub(s, axis='index')"
     ],
     "language": "python",
     "metadata": {},
     "outputs": [
      {
       "html": [
        "<div style=\"max-height:1000px;max-width:1500px;overflow:auto;\">\n",
        "<table border=\"1\" class=\"dataframe\">\n",
        "  <thead>\n",
        "    <tr style=\"text-align: right;\">\n",
        "      <th></th>\n",
        "      <th>a</th>\n",
        "      <th>b</th>\n",
        "      <th>c</th>\n",
        "      <th>d</th>\n",
        "    </tr>\n",
        "  </thead>\n",
        "  <tbody>\n",
        "    <tr>\n",
        "      <th>2013-01-02</th>\n",
        "      <td>NaN</td>\n",
        "      <td>NaN</td>\n",
        "      <td>NaN</td>\n",
        "      <td>NaN</td>\n",
        "    </tr>\n",
        "    <tr>\n",
        "      <th>2013-01-03</th>\n",
        "      <td>NaN</td>\n",
        "      <td>NaN</td>\n",
        "      <td>NaN</td>\n",
        "      <td>NaN</td>\n",
        "    </tr>\n",
        "    <tr>\n",
        "      <th>2013-01-04</th>\n",
        "      <td>  7</td>\n",
        "      <td>  8</td>\n",
        "      <td>  9</td>\n",
        "      <td> 10</td>\n",
        "    </tr>\n",
        "    <tr>\n",
        "      <th>2013-01-05</th>\n",
        "      <td>  9</td>\n",
        "      <td> 10</td>\n",
        "      <td> 11</td>\n",
        "      <td> 12</td>\n",
        "    </tr>\n",
        "    <tr>\n",
        "      <th>2013-01-06</th>\n",
        "      <td> 11</td>\n",
        "      <td> 12</td>\n",
        "      <td> 13</td>\n",
        "      <td> 14</td>\n",
        "    </tr>\n",
        "  </tbody>\n",
        "</table>\n",
        "</div>"
       ],
       "metadata": {},
       "output_type": "pyout",
       "prompt_number": 249,
       "text": [
        "             a   b   c   d\n",
        "2013-01-02 NaN NaN NaN NaN\n",
        "2013-01-03 NaN NaN NaN NaN\n",
        "2013-01-04   7   8   9  10\n",
        "2013-01-05   9  10  11  12\n",
        "2013-01-06  11  12  13  14"
       ]
      }
     ],
     "prompt_number": 249
    },
    {
     "cell_type": "code",
     "collapsed": false,
     "input": [
      "df"
     ],
     "language": "python",
     "metadata": {},
     "outputs": [
      {
       "html": [
        "<div style=\"max-height:1000px;max-width:1500px;overflow:auto;\">\n",
        "<table border=\"1\" class=\"dataframe\">\n",
        "  <thead>\n",
        "    <tr style=\"text-align: right;\">\n",
        "      <th></th>\n",
        "      <th>a</th>\n",
        "      <th>b</th>\n",
        "      <th>c</th>\n",
        "      <th>d</th>\n",
        "    </tr>\n",
        "  </thead>\n",
        "  <tbody>\n",
        "    <tr>\n",
        "      <th>2013-01-02</th>\n",
        "      <td>  0</td>\n",
        "      <td>  1</td>\n",
        "      <td>  2</td>\n",
        "      <td>  3</td>\n",
        "    </tr>\n",
        "    <tr>\n",
        "      <th>2013-01-03</th>\n",
        "      <td>  4</td>\n",
        "      <td>  5</td>\n",
        "      <td>  6</td>\n",
        "      <td>  7</td>\n",
        "    </tr>\n",
        "    <tr>\n",
        "      <th>2013-01-04</th>\n",
        "      <td>  8</td>\n",
        "      <td>  9</td>\n",
        "      <td> 10</td>\n",
        "      <td> 11</td>\n",
        "    </tr>\n",
        "    <tr>\n",
        "      <th>2013-01-05</th>\n",
        "      <td> 12</td>\n",
        "      <td> 13</td>\n",
        "      <td> 14</td>\n",
        "      <td> 15</td>\n",
        "    </tr>\n",
        "    <tr>\n",
        "      <th>2013-01-06</th>\n",
        "      <td> 16</td>\n",
        "      <td> 17</td>\n",
        "      <td> 18</td>\n",
        "      <td> 19</td>\n",
        "    </tr>\n",
        "  </tbody>\n",
        "</table>\n",
        "</div>"
       ],
       "metadata": {},
       "output_type": "pyout",
       "prompt_number": 250,
       "text": [
        "             a   b   c   d\n",
        "2013-01-02   0   1   2   3\n",
        "2013-01-03   4   5   6   7\n",
        "2013-01-04   8   9  10  11\n",
        "2013-01-05  12  13  14  15\n",
        "2013-01-06  16  17  18  19"
       ]
      }
     ],
     "prompt_number": 250
    },
    {
     "cell_type": "code",
     "collapsed": false,
     "input": [
      "df.apply(lambda x: x.max())"
     ],
     "language": "python",
     "metadata": {},
     "outputs": [
      {
       "metadata": {},
       "output_type": "pyout",
       "prompt_number": 251,
       "text": [
        "a    16\n",
        "b    17\n",
        "c    18\n",
        "d    19\n",
        "dtype: int64"
       ]
      }
     ],
     "prompt_number": 251
    },
    {
     "cell_type": "code",
     "collapsed": false,
     "input": [
      "df['e'] = [\"abc\",\"def\",\"ghi\",\"jkl\",\"mno\"]\n",
      "df"
     ],
     "language": "python",
     "metadata": {},
     "outputs": [
      {
       "html": [
        "<div style=\"max-height:1000px;max-width:1500px;overflow:auto;\">\n",
        "<table border=\"1\" class=\"dataframe\">\n",
        "  <thead>\n",
        "    <tr style=\"text-align: right;\">\n",
        "      <th></th>\n",
        "      <th>a</th>\n",
        "      <th>b</th>\n",
        "      <th>c</th>\n",
        "      <th>d</th>\n",
        "      <th>e</th>\n",
        "    </tr>\n",
        "  </thead>\n",
        "  <tbody>\n",
        "    <tr>\n",
        "      <th>2013-01-02</th>\n",
        "      <td>  0</td>\n",
        "      <td>  1</td>\n",
        "      <td>  2</td>\n",
        "      <td>  3</td>\n",
        "      <td> abc</td>\n",
        "    </tr>\n",
        "    <tr>\n",
        "      <th>2013-01-03</th>\n",
        "      <td>  4</td>\n",
        "      <td>  5</td>\n",
        "      <td>  6</td>\n",
        "      <td>  7</td>\n",
        "      <td> def</td>\n",
        "    </tr>\n",
        "    <tr>\n",
        "      <th>2013-01-04</th>\n",
        "      <td>  8</td>\n",
        "      <td>  9</td>\n",
        "      <td> 10</td>\n",
        "      <td> 11</td>\n",
        "      <td> ghi</td>\n",
        "    </tr>\n",
        "    <tr>\n",
        "      <th>2013-01-05</th>\n",
        "      <td> 12</td>\n",
        "      <td> 13</td>\n",
        "      <td> 14</td>\n",
        "      <td> 15</td>\n",
        "      <td> jkl</td>\n",
        "    </tr>\n",
        "    <tr>\n",
        "      <th>2013-01-06</th>\n",
        "      <td> 16</td>\n",
        "      <td> 17</td>\n",
        "      <td> 18</td>\n",
        "      <td> 19</td>\n",
        "      <td> mno</td>\n",
        "    </tr>\n",
        "  </tbody>\n",
        "</table>\n",
        "</div>"
       ],
       "metadata": {},
       "output_type": "pyout",
       "prompt_number": 252,
       "text": [
        "             a   b   c   d    e\n",
        "2013-01-02   0   1   2   3  abc\n",
        "2013-01-03   4   5   6   7  def\n",
        "2013-01-04   8   9  10  11  ghi\n",
        "2013-01-05  12  13  14  15  jkl\n",
        "2013-01-06  16  17  18  19  mno"
       ]
      }
     ],
     "prompt_number": 252
    },
    {
     "cell_type": "code",
     "collapsed": false,
     "input": [
      "# Strings\n",
      "df.e.str.upper()"
     ],
     "language": "python",
     "metadata": {},
     "outputs": [
      {
       "metadata": {},
       "output_type": "pyout",
       "prompt_number": 253,
       "text": [
        "2013-01-02    ABC\n",
        "2013-01-03    DEF\n",
        "2013-01-04    GHI\n",
        "2013-01-05    JKL\n",
        "2013-01-06    MNO\n",
        "Freq: D, Name: e, dtype: object"
       ]
      }
     ],
     "prompt_number": 253
    },
    {
     "cell_type": "code",
     "collapsed": false,
     "input": [
      "df"
     ],
     "language": "python",
     "metadata": {},
     "outputs": [
      {
       "html": [
        "<div style=\"max-height:1000px;max-width:1500px;overflow:auto;\">\n",
        "<table border=\"1\" class=\"dataframe\">\n",
        "  <thead>\n",
        "    <tr style=\"text-align: right;\">\n",
        "      <th></th>\n",
        "      <th>a</th>\n",
        "      <th>b</th>\n",
        "      <th>c</th>\n",
        "      <th>d</th>\n",
        "      <th>e</th>\n",
        "    </tr>\n",
        "  </thead>\n",
        "  <tbody>\n",
        "    <tr>\n",
        "      <th>2013-01-02</th>\n",
        "      <td>  0</td>\n",
        "      <td>  1</td>\n",
        "      <td>  2</td>\n",
        "      <td>  3</td>\n",
        "      <td> abc</td>\n",
        "    </tr>\n",
        "    <tr>\n",
        "      <th>2013-01-03</th>\n",
        "      <td>  4</td>\n",
        "      <td>  5</td>\n",
        "      <td>  6</td>\n",
        "      <td>  7</td>\n",
        "      <td> def</td>\n",
        "    </tr>\n",
        "    <tr>\n",
        "      <th>2013-01-04</th>\n",
        "      <td>  8</td>\n",
        "      <td>  9</td>\n",
        "      <td> 10</td>\n",
        "      <td> 11</td>\n",
        "      <td> ghi</td>\n",
        "    </tr>\n",
        "    <tr>\n",
        "      <th>2013-01-05</th>\n",
        "      <td> 12</td>\n",
        "      <td> 13</td>\n",
        "      <td> 14</td>\n",
        "      <td> 15</td>\n",
        "      <td> jkl</td>\n",
        "    </tr>\n",
        "    <tr>\n",
        "      <th>2013-01-06</th>\n",
        "      <td> 16</td>\n",
        "      <td> 17</td>\n",
        "      <td> 18</td>\n",
        "      <td> 19</td>\n",
        "      <td> mno</td>\n",
        "    </tr>\n",
        "  </tbody>\n",
        "</table>\n",
        "</div>"
       ],
       "metadata": {},
       "output_type": "pyout",
       "prompt_number": 254,
       "text": [
        "             a   b   c   d    e\n",
        "2013-01-02   0   1   2   3  abc\n",
        "2013-01-03   4   5   6   7  def\n",
        "2013-01-04   8   9  10  11  ghi\n",
        "2013-01-05  12  13  14  15  jkl\n",
        "2013-01-06  16  17  18  19  mno"
       ]
      }
     ],
     "prompt_number": 254
    },
    {
     "cell_type": "code",
     "collapsed": false,
     "input": [
      "# Concatenation\n",
      "p = [df[:2],df[4:]]\n",
      "p"
     ],
     "language": "python",
     "metadata": {},
     "outputs": [
      {
       "metadata": {},
       "output_type": "pyout",
       "prompt_number": 255,
       "text": [
        "[            a  b  c  d    e\n",
        " 2013-01-02  0  1  2  3  abc\n",
        " 2013-01-03  4  5  6  7  def,              a   b   c   d    e\n",
        " 2013-01-06  16  17  18  19  mno]"
       ]
      }
     ],
     "prompt_number": 255
    },
    {
     "cell_type": "code",
     "collapsed": false,
     "input": [
      "pd.concat(p)"
     ],
     "language": "python",
     "metadata": {},
     "outputs": [
      {
       "html": [
        "<div style=\"max-height:1000px;max-width:1500px;overflow:auto;\">\n",
        "<table border=\"1\" class=\"dataframe\">\n",
        "  <thead>\n",
        "    <tr style=\"text-align: right;\">\n",
        "      <th></th>\n",
        "      <th>a</th>\n",
        "      <th>b</th>\n",
        "      <th>c</th>\n",
        "      <th>d</th>\n",
        "      <th>e</th>\n",
        "    </tr>\n",
        "  </thead>\n",
        "  <tbody>\n",
        "    <tr>\n",
        "      <th>2013-01-02</th>\n",
        "      <td>  0</td>\n",
        "      <td>  1</td>\n",
        "      <td>  2</td>\n",
        "      <td>  3</td>\n",
        "      <td> abc</td>\n",
        "    </tr>\n",
        "    <tr>\n",
        "      <th>2013-01-03</th>\n",
        "      <td>  4</td>\n",
        "      <td>  5</td>\n",
        "      <td>  6</td>\n",
        "      <td>  7</td>\n",
        "      <td> def</td>\n",
        "    </tr>\n",
        "    <tr>\n",
        "      <th>2013-01-06</th>\n",
        "      <td> 16</td>\n",
        "      <td> 17</td>\n",
        "      <td> 18</td>\n",
        "      <td> 19</td>\n",
        "      <td> mno</td>\n",
        "    </tr>\n",
        "  </tbody>\n",
        "</table>\n",
        "</div>"
       ],
       "metadata": {},
       "output_type": "pyout",
       "prompt_number": 256,
       "text": [
        "             a   b   c   d    e\n",
        "2013-01-02   0   1   2   3  abc\n",
        "2013-01-03   4   5   6   7  def\n",
        "2013-01-06  16  17  18  19  mno"
       ]
      }
     ],
     "prompt_number": 256
    },
    {
     "cell_type": "code",
     "collapsed": false,
     "input": [
      "# Joins\n",
      "\n",
      "left  = pd.DataFrame({'key': ['foo', 'bar'], 'lval': [1, 2]})\n",
      "right = pd.DataFrame({'key': ['foo', 'bar'], 'rval': [4, 5]})\n",
      "\n",
      "print left\n",
      "print\n",
      "print right"
     ],
     "language": "python",
     "metadata": {},
     "outputs": [
      {
       "output_type": "stream",
       "stream": "stdout",
       "text": [
        "   key  lval\n",
        "0  foo     1\n",
        "1  bar     2\n",
        "\n",
        "   key  rval\n",
        "0  foo     4\n",
        "1  bar     5\n"
       ]
      }
     ],
     "prompt_number": 257
    },
    {
     "cell_type": "code",
     "collapsed": false,
     "input": [
      "pd.merge(left, right, on='key')"
     ],
     "language": "python",
     "metadata": {},
     "outputs": [
      {
       "html": [
        "<div style=\"max-height:1000px;max-width:1500px;overflow:auto;\">\n",
        "<table border=\"1\" class=\"dataframe\">\n",
        "  <thead>\n",
        "    <tr style=\"text-align: right;\">\n",
        "      <th></th>\n",
        "      <th>key</th>\n",
        "      <th>lval</th>\n",
        "      <th>rval</th>\n",
        "    </tr>\n",
        "  </thead>\n",
        "  <tbody>\n",
        "    <tr>\n",
        "      <th>0</th>\n",
        "      <td> foo</td>\n",
        "      <td> 1</td>\n",
        "      <td> 4</td>\n",
        "    </tr>\n",
        "    <tr>\n",
        "      <th>1</th>\n",
        "      <td> bar</td>\n",
        "      <td> 2</td>\n",
        "      <td> 5</td>\n",
        "    </tr>\n",
        "  </tbody>\n",
        "</table>\n",
        "</div>"
       ],
       "metadata": {},
       "output_type": "pyout",
       "prompt_number": 258,
       "text": [
        "   key  lval  rval\n",
        "0  foo     1     4\n",
        "1  bar     2     5"
       ]
      }
     ],
     "prompt_number": 258
    },
    {
     "cell_type": "code",
     "collapsed": false,
     "input": [
      "# Append\n",
      "df.append(pd.concat(p))"
     ],
     "language": "python",
     "metadata": {},
     "outputs": [
      {
       "html": [
        "<div style=\"max-height:1000px;max-width:1500px;overflow:auto;\">\n",
        "<table border=\"1\" class=\"dataframe\">\n",
        "  <thead>\n",
        "    <tr style=\"text-align: right;\">\n",
        "      <th></th>\n",
        "      <th>a</th>\n",
        "      <th>b</th>\n",
        "      <th>c</th>\n",
        "      <th>d</th>\n",
        "      <th>e</th>\n",
        "    </tr>\n",
        "  </thead>\n",
        "  <tbody>\n",
        "    <tr>\n",
        "      <th>2013-01-02</th>\n",
        "      <td>  0</td>\n",
        "      <td>  1</td>\n",
        "      <td>  2</td>\n",
        "      <td>  3</td>\n",
        "      <td> abc</td>\n",
        "    </tr>\n",
        "    <tr>\n",
        "      <th>2013-01-03</th>\n",
        "      <td>  4</td>\n",
        "      <td>  5</td>\n",
        "      <td>  6</td>\n",
        "      <td>  7</td>\n",
        "      <td> def</td>\n",
        "    </tr>\n",
        "    <tr>\n",
        "      <th>2013-01-04</th>\n",
        "      <td>  8</td>\n",
        "      <td>  9</td>\n",
        "      <td> 10</td>\n",
        "      <td> 11</td>\n",
        "      <td> ghi</td>\n",
        "    </tr>\n",
        "    <tr>\n",
        "      <th>2013-01-05</th>\n",
        "      <td> 12</td>\n",
        "      <td> 13</td>\n",
        "      <td> 14</td>\n",
        "      <td> 15</td>\n",
        "      <td> jkl</td>\n",
        "    </tr>\n",
        "    <tr>\n",
        "      <th>2013-01-06</th>\n",
        "      <td> 16</td>\n",
        "      <td> 17</td>\n",
        "      <td> 18</td>\n",
        "      <td> 19</td>\n",
        "      <td> mno</td>\n",
        "    </tr>\n",
        "    <tr>\n",
        "      <th>2013-01-02</th>\n",
        "      <td>  0</td>\n",
        "      <td>  1</td>\n",
        "      <td>  2</td>\n",
        "      <td>  3</td>\n",
        "      <td> abc</td>\n",
        "    </tr>\n",
        "    <tr>\n",
        "      <th>2013-01-03</th>\n",
        "      <td>  4</td>\n",
        "      <td>  5</td>\n",
        "      <td>  6</td>\n",
        "      <td>  7</td>\n",
        "      <td> def</td>\n",
        "    </tr>\n",
        "    <tr>\n",
        "      <th>2013-01-06</th>\n",
        "      <td> 16</td>\n",
        "      <td> 17</td>\n",
        "      <td> 18</td>\n",
        "      <td> 19</td>\n",
        "      <td> mno</td>\n",
        "    </tr>\n",
        "  </tbody>\n",
        "</table>\n",
        "</div>"
       ],
       "metadata": {},
       "output_type": "pyout",
       "prompt_number": 259,
       "text": [
        "             a   b   c   d    e\n",
        "2013-01-02   0   1   2   3  abc\n",
        "2013-01-03   4   5   6   7  def\n",
        "2013-01-04   8   9  10  11  ghi\n",
        "2013-01-05  12  13  14  15  jkl\n",
        "2013-01-06  16  17  18  19  mno\n",
        "2013-01-02   0   1   2   3  abc\n",
        "2013-01-03   4   5   6   7  def\n",
        "2013-01-06  16  17  18  19  mno"
       ]
      }
     ],
     "prompt_number": 259
    },
    {
     "cell_type": "markdown",
     "metadata": {},
     "source": [
      "## Grouping"
     ]
    },
    {
     "cell_type": "code",
     "collapsed": false,
     "input": [
      "df['f'] = [1,1,2,3,3]\n",
      "del df['e']\n",
      "df"
     ],
     "language": "python",
     "metadata": {},
     "outputs": [
      {
       "html": [
        "<div style=\"max-height:1000px;max-width:1500px;overflow:auto;\">\n",
        "<table border=\"1\" class=\"dataframe\">\n",
        "  <thead>\n",
        "    <tr style=\"text-align: right;\">\n",
        "      <th></th>\n",
        "      <th>a</th>\n",
        "      <th>b</th>\n",
        "      <th>c</th>\n",
        "      <th>d</th>\n",
        "      <th>f</th>\n",
        "    </tr>\n",
        "  </thead>\n",
        "  <tbody>\n",
        "    <tr>\n",
        "      <th>2013-01-02</th>\n",
        "      <td>  0</td>\n",
        "      <td>  1</td>\n",
        "      <td>  2</td>\n",
        "      <td>  3</td>\n",
        "      <td> 1</td>\n",
        "    </tr>\n",
        "    <tr>\n",
        "      <th>2013-01-03</th>\n",
        "      <td>  4</td>\n",
        "      <td>  5</td>\n",
        "      <td>  6</td>\n",
        "      <td>  7</td>\n",
        "      <td> 1</td>\n",
        "    </tr>\n",
        "    <tr>\n",
        "      <th>2013-01-04</th>\n",
        "      <td>  8</td>\n",
        "      <td>  9</td>\n",
        "      <td> 10</td>\n",
        "      <td> 11</td>\n",
        "      <td> 2</td>\n",
        "    </tr>\n",
        "    <tr>\n",
        "      <th>2013-01-05</th>\n",
        "      <td> 12</td>\n",
        "      <td> 13</td>\n",
        "      <td> 14</td>\n",
        "      <td> 15</td>\n",
        "      <td> 3</td>\n",
        "    </tr>\n",
        "    <tr>\n",
        "      <th>2013-01-06</th>\n",
        "      <td> 16</td>\n",
        "      <td> 17</td>\n",
        "      <td> 18</td>\n",
        "      <td> 19</td>\n",
        "      <td> 3</td>\n",
        "    </tr>\n",
        "  </tbody>\n",
        "</table>\n",
        "</div>"
       ],
       "metadata": {},
       "output_type": "pyout",
       "prompt_number": 261,
       "text": [
        "             a   b   c   d  f\n",
        "2013-01-02   0   1   2   3  1\n",
        "2013-01-03   4   5   6   7  1\n",
        "2013-01-04   8   9  10  11  2\n",
        "2013-01-05  12  13  14  15  3\n",
        "2013-01-06  16  17  18  19  3"
       ]
      }
     ],
     "prompt_number": 261
    },
    {
     "cell_type": "code",
     "collapsed": false,
     "input": [
      "df.groupby('f').sum()"
     ],
     "language": "python",
     "metadata": {},
     "outputs": [
      {
       "html": [
        "<div style=\"max-height:1000px;max-width:1500px;overflow:auto;\">\n",
        "<table border=\"1\" class=\"dataframe\">\n",
        "  <thead>\n",
        "    <tr style=\"text-align: right;\">\n",
        "      <th></th>\n",
        "      <th>a</th>\n",
        "      <th>b</th>\n",
        "      <th>c</th>\n",
        "      <th>d</th>\n",
        "    </tr>\n",
        "    <tr>\n",
        "      <th>f</th>\n",
        "      <th></th>\n",
        "      <th></th>\n",
        "      <th></th>\n",
        "      <th></th>\n",
        "    </tr>\n",
        "  </thead>\n",
        "  <tbody>\n",
        "    <tr>\n",
        "      <th>1</th>\n",
        "      <td>  4</td>\n",
        "      <td>  6</td>\n",
        "      <td>  8</td>\n",
        "      <td> 10</td>\n",
        "    </tr>\n",
        "    <tr>\n",
        "      <th>2</th>\n",
        "      <td>  8</td>\n",
        "      <td>  9</td>\n",
        "      <td> 10</td>\n",
        "      <td> 11</td>\n",
        "    </tr>\n",
        "    <tr>\n",
        "      <th>3</th>\n",
        "      <td> 28</td>\n",
        "      <td> 30</td>\n",
        "      <td> 32</td>\n",
        "      <td> 34</td>\n",
        "    </tr>\n",
        "  </tbody>\n",
        "</table>\n",
        "</div>"
       ],
       "metadata": {},
       "output_type": "pyout",
       "prompt_number": 262,
       "text": [
        "    a   b   c   d\n",
        "f                \n",
        "1   4   6   8  10\n",
        "2   8   9  10  11\n",
        "3  28  30  32  34"
       ]
      }
     ],
     "prompt_number": 262
    },
    {
     "cell_type": "code",
     "collapsed": false,
     "input": [
      "df['g'] = ['A','B','B','C','D']\n",
      "df"
     ],
     "language": "python",
     "metadata": {},
     "outputs": [
      {
       "html": [
        "<div style=\"max-height:1000px;max-width:1500px;overflow:auto;\">\n",
        "<table border=\"1\" class=\"dataframe\">\n",
        "  <thead>\n",
        "    <tr style=\"text-align: right;\">\n",
        "      <th></th>\n",
        "      <th>a</th>\n",
        "      <th>b</th>\n",
        "      <th>c</th>\n",
        "      <th>d</th>\n",
        "      <th>f</th>\n",
        "      <th>g</th>\n",
        "    </tr>\n",
        "  </thead>\n",
        "  <tbody>\n",
        "    <tr>\n",
        "      <th>2013-01-02</th>\n",
        "      <td>  0</td>\n",
        "      <td>  1</td>\n",
        "      <td>  2</td>\n",
        "      <td>  3</td>\n",
        "      <td> 1</td>\n",
        "      <td> A</td>\n",
        "    </tr>\n",
        "    <tr>\n",
        "      <th>2013-01-03</th>\n",
        "      <td>  4</td>\n",
        "      <td>  5</td>\n",
        "      <td>  6</td>\n",
        "      <td>  7</td>\n",
        "      <td> 1</td>\n",
        "      <td> B</td>\n",
        "    </tr>\n",
        "    <tr>\n",
        "      <th>2013-01-04</th>\n",
        "      <td>  8</td>\n",
        "      <td>  9</td>\n",
        "      <td> 10</td>\n",
        "      <td> 11</td>\n",
        "      <td> 2</td>\n",
        "      <td> B</td>\n",
        "    </tr>\n",
        "    <tr>\n",
        "      <th>2013-01-05</th>\n",
        "      <td> 12</td>\n",
        "      <td> 13</td>\n",
        "      <td> 14</td>\n",
        "      <td> 15</td>\n",
        "      <td> 3</td>\n",
        "      <td> C</td>\n",
        "    </tr>\n",
        "    <tr>\n",
        "      <th>2013-01-06</th>\n",
        "      <td> 16</td>\n",
        "      <td> 17</td>\n",
        "      <td> 18</td>\n",
        "      <td> 19</td>\n",
        "      <td> 3</td>\n",
        "      <td> D</td>\n",
        "    </tr>\n",
        "  </tbody>\n",
        "</table>\n",
        "</div>"
       ],
       "metadata": {},
       "output_type": "pyout",
       "prompt_number": 264,
       "text": [
        "             a   b   c   d  f  g\n",
        "2013-01-02   0   1   2   3  1  A\n",
        "2013-01-03   4   5   6   7  1  B\n",
        "2013-01-04   8   9  10  11  2  B\n",
        "2013-01-05  12  13  14  15  3  C\n",
        "2013-01-06  16  17  18  19  3  D"
       ]
      }
     ],
     "prompt_number": 264
    },
    {
     "cell_type": "code",
     "collapsed": false,
     "input": [
      "df.groupby(['f','g']).sum()"
     ],
     "language": "python",
     "metadata": {},
     "outputs": [
      {
       "html": [
        "<div style=\"max-height:1000px;max-width:1500px;overflow:auto;\">\n",
        "<table border=\"1\" class=\"dataframe\">\n",
        "  <thead>\n",
        "    <tr style=\"text-align: right;\">\n",
        "      <th></th>\n",
        "      <th></th>\n",
        "      <th>a</th>\n",
        "      <th>b</th>\n",
        "      <th>c</th>\n",
        "      <th>d</th>\n",
        "    </tr>\n",
        "    <tr>\n",
        "      <th>f</th>\n",
        "      <th>g</th>\n",
        "      <th></th>\n",
        "      <th></th>\n",
        "      <th></th>\n",
        "      <th></th>\n",
        "    </tr>\n",
        "  </thead>\n",
        "  <tbody>\n",
        "    <tr>\n",
        "      <th rowspan=\"2\" valign=\"top\">1</th>\n",
        "      <th>A</th>\n",
        "      <td>  0</td>\n",
        "      <td>  1</td>\n",
        "      <td>  2</td>\n",
        "      <td>  3</td>\n",
        "    </tr>\n",
        "    <tr>\n",
        "      <th>B</th>\n",
        "      <td>  4</td>\n",
        "      <td>  5</td>\n",
        "      <td>  6</td>\n",
        "      <td>  7</td>\n",
        "    </tr>\n",
        "    <tr>\n",
        "      <th>2</th>\n",
        "      <th>B</th>\n",
        "      <td>  8</td>\n",
        "      <td>  9</td>\n",
        "      <td> 10</td>\n",
        "      <td> 11</td>\n",
        "    </tr>\n",
        "    <tr>\n",
        "      <th rowspan=\"2\" valign=\"top\">3</th>\n",
        "      <th>C</th>\n",
        "      <td> 12</td>\n",
        "      <td> 13</td>\n",
        "      <td> 14</td>\n",
        "      <td> 15</td>\n",
        "    </tr>\n",
        "    <tr>\n",
        "      <th>D</th>\n",
        "      <td> 16</td>\n",
        "      <td> 17</td>\n",
        "      <td> 18</td>\n",
        "      <td> 19</td>\n",
        "    </tr>\n",
        "  </tbody>\n",
        "</table>\n",
        "</div>"
       ],
       "metadata": {},
       "output_type": "pyout",
       "prompt_number": 265,
       "text": [
        "      a   b   c   d\n",
        "f g                \n",
        "1 A   0   1   2   3\n",
        "  B   4   5   6   7\n",
        "2 B   8   9  10  11\n",
        "3 C  12  13  14  15\n",
        "  D  16  17  18  19"
       ]
      }
     ],
     "prompt_number": 265
    },
    {
     "cell_type": "code",
     "collapsed": false,
     "input": [
      "# Pivot Table\n",
      "pd.pivot_table(df, values='d', index=['a', 'b'], columns=['c']).fillna(0)"
     ],
     "language": "python",
     "metadata": {},
     "outputs": [
      {
       "html": [
        "<div style=\"max-height:1000px;max-width:1500px;overflow:auto;\">\n",
        "<table border=\"1\" class=\"dataframe\">\n",
        "  <thead>\n",
        "    <tr style=\"text-align: right;\">\n",
        "      <th></th>\n",
        "      <th>c</th>\n",
        "      <th>2</th>\n",
        "      <th>6</th>\n",
        "      <th>10</th>\n",
        "      <th>14</th>\n",
        "      <th>18</th>\n",
        "    </tr>\n",
        "    <tr>\n",
        "      <th>a</th>\n",
        "      <th>b</th>\n",
        "      <th></th>\n",
        "      <th></th>\n",
        "      <th></th>\n",
        "      <th></th>\n",
        "      <th></th>\n",
        "    </tr>\n",
        "  </thead>\n",
        "  <tbody>\n",
        "    <tr>\n",
        "      <th>0 </th>\n",
        "      <th>1 </th>\n",
        "      <td> 3</td>\n",
        "      <td> 0</td>\n",
        "      <td>  0</td>\n",
        "      <td>  0</td>\n",
        "      <td>  0</td>\n",
        "    </tr>\n",
        "    <tr>\n",
        "      <th>4 </th>\n",
        "      <th>5 </th>\n",
        "      <td> 0</td>\n",
        "      <td> 7</td>\n",
        "      <td>  0</td>\n",
        "      <td>  0</td>\n",
        "      <td>  0</td>\n",
        "    </tr>\n",
        "    <tr>\n",
        "      <th>8 </th>\n",
        "      <th>9 </th>\n",
        "      <td> 0</td>\n",
        "      <td> 0</td>\n",
        "      <td> 11</td>\n",
        "      <td>  0</td>\n",
        "      <td>  0</td>\n",
        "    </tr>\n",
        "    <tr>\n",
        "      <th>12</th>\n",
        "      <th>13</th>\n",
        "      <td> 0</td>\n",
        "      <td> 0</td>\n",
        "      <td>  0</td>\n",
        "      <td> 15</td>\n",
        "      <td>  0</td>\n",
        "    </tr>\n",
        "    <tr>\n",
        "      <th>16</th>\n",
        "      <th>17</th>\n",
        "      <td> 0</td>\n",
        "      <td> 0</td>\n",
        "      <td>  0</td>\n",
        "      <td>  0</td>\n",
        "      <td> 19</td>\n",
        "    </tr>\n",
        "  </tbody>\n",
        "</table>\n",
        "</div>"
       ],
       "metadata": {},
       "output_type": "pyout",
       "prompt_number": 273,
       "text": [
        "c      2   6   10  14  18\n",
        "a  b                     \n",
        "0  1    3   0   0   0   0\n",
        "4  5    0   7   0   0   0\n",
        "8  9    0   0  11   0   0\n",
        "12 13   0   0   0  15   0\n",
        "16 17   0   0   0   0  19"
       ]
      }
     ],
     "prompt_number": 273
    },
    {
     "cell_type": "code",
     "collapsed": false,
     "input": [
      "df.stack().unstack()"
     ],
     "language": "python",
     "metadata": {},
     "outputs": [
      {
       "html": [
        "<div style=\"max-height:1000px;max-width:1500px;overflow:auto;\">\n",
        "<table border=\"1\" class=\"dataframe\">\n",
        "  <thead>\n",
        "    <tr style=\"text-align: right;\">\n",
        "      <th></th>\n",
        "      <th>a</th>\n",
        "      <th>b</th>\n",
        "      <th>c</th>\n",
        "      <th>d</th>\n",
        "      <th>f</th>\n",
        "      <th>g</th>\n",
        "    </tr>\n",
        "  </thead>\n",
        "  <tbody>\n",
        "    <tr>\n",
        "      <th>2013-01-02</th>\n",
        "      <td>  0</td>\n",
        "      <td>  1</td>\n",
        "      <td>  2</td>\n",
        "      <td>  3</td>\n",
        "      <td> 1</td>\n",
        "      <td> A</td>\n",
        "    </tr>\n",
        "    <tr>\n",
        "      <th>2013-01-03</th>\n",
        "      <td>  4</td>\n",
        "      <td>  5</td>\n",
        "      <td>  6</td>\n",
        "      <td>  7</td>\n",
        "      <td> 1</td>\n",
        "      <td> B</td>\n",
        "    </tr>\n",
        "    <tr>\n",
        "      <th>2013-01-04</th>\n",
        "      <td>  8</td>\n",
        "      <td>  9</td>\n",
        "      <td> 10</td>\n",
        "      <td> 11</td>\n",
        "      <td> 2</td>\n",
        "      <td> B</td>\n",
        "    </tr>\n",
        "    <tr>\n",
        "      <th>2013-01-05</th>\n",
        "      <td> 12</td>\n",
        "      <td> 13</td>\n",
        "      <td> 14</td>\n",
        "      <td> 15</td>\n",
        "      <td> 3</td>\n",
        "      <td> C</td>\n",
        "    </tr>\n",
        "    <tr>\n",
        "      <th>2013-01-06</th>\n",
        "      <td> 16</td>\n",
        "      <td> 17</td>\n",
        "      <td> 18</td>\n",
        "      <td> 19</td>\n",
        "      <td> 3</td>\n",
        "      <td> D</td>\n",
        "    </tr>\n",
        "  </tbody>\n",
        "</table>\n",
        "</div>"
       ],
       "metadata": {},
       "output_type": "pyout",
       "prompt_number": 267,
       "text": [
        "             a   b   c   d  f  g\n",
        "2013-01-02   0   1   2   3  1  A\n",
        "2013-01-03   4   5   6   7  1  B\n",
        "2013-01-04   8   9  10  11  2  B\n",
        "2013-01-05  12  13  14  15  3  C\n",
        "2013-01-06  16  17  18  19  3  D"
       ]
      }
     ],
     "prompt_number": 267
    },
    {
     "cell_type": "code",
     "collapsed": false,
     "input": [
      "## Time Series"
     ],
     "language": "python",
     "metadata": {},
     "outputs": [],
     "prompt_number": 274
    },
    {
     "cell_type": "code",
     "collapsed": false,
     "input": [
      "ts = df['a']\n",
      "ts.index = pd.date_range('1/1/2012', periods=5, freq='M')\n",
      "ts"
     ],
     "language": "python",
     "metadata": {},
     "outputs": [
      {
       "metadata": {},
       "output_type": "pyout",
       "prompt_number": 281,
       "text": [
        "2012-01-31     0\n",
        "2012-02-29     4\n",
        "2012-03-31     8\n",
        "2012-04-30    12\n",
        "2012-05-31    16\n",
        "Freq: M, Name: a, dtype: int64"
       ]
      }
     ],
     "prompt_number": 281
    },
    {
     "cell_type": "code",
     "collapsed": false,
     "input": [
      "ts.to_period()"
     ],
     "language": "python",
     "metadata": {},
     "outputs": [
      {
       "metadata": {},
       "output_type": "pyout",
       "prompt_number": 282,
       "text": [
        "2012-01     0\n",
        "2012-02     4\n",
        "2012-03     8\n",
        "2012-04    12\n",
        "2012-05    16\n",
        "Freq: M, Name: a, dtype: int64"
       ]
      }
     ],
     "prompt_number": 282
    },
    {
     "cell_type": "markdown",
     "metadata": {},
     "source": [
      "## Plotting"
     ]
    },
    {
     "cell_type": "code",
     "collapsed": false,
     "input": [
      "ts = pd.Series(np.random.randn(1000), index=pd.date_range('1/1/2000', periods=1000))\n",
      "ts.plot()"
     ],
     "language": "python",
     "metadata": {},
     "outputs": [
      {
       "metadata": {},
       "output_type": "pyout",
       "prompt_number": 294,
       "text": [
        "<matplotlib.axes._subplots.AxesSubplot at 0x107897610>"
       ]
      },
      {
       "metadata": {},
       "output_type": "display_data",
       "png": "[encoded data removed]",
       "text": [
        "<matplotlib.figure.Figure at 0x1078bab90>"
       ]
      }
     ],
     "prompt_number": 294
    },
    {
     "cell_type": "code",
     "collapsed": false,
     "input": [
      "ts.cumsum().plot()"
     ],
     "language": "python",
     "metadata": {},
     "outputs": [
      {
       "metadata": {},
       "output_type": "pyout",
       "prompt_number": 295,
       "text": [
        "<matplotlib.axes._subplots.AxesSubplot at 0x1079fb6d0>"
       ]
      },
      {
       "metadata": {},
       "output_type": "display_data",
       "png": "[encoded data removed]",
       "text": [
        "<matplotlib.figure.Figure at 0x1078bda10>"
       ]
      }
     ],
     "prompt_number": 295
    },
    {
     "cell_type": "code",
     "collapsed": false,
     "input": [
      "df = pd.DataFrame(np.random.randn(1000, 4), index=ts.index,\n",
      "    columns=['A', 'B', 'C', 'D'])\n",
      "\n",
      "df = df.cumsum()\n",
      "\n",
      "plt.figure(); df.plot(); plt.legend(loc='best')"
     ],
     "language": "python",
     "metadata": {},
     "outputs": [
      {
       "output_type": "stream",
       "stream": "stdout",
       "text": [
        "ERROR! Session/line number was not unique in database. History logging moved to new session 30\n"
       ]
      },
      {
       "metadata": {},
       "output_type": "pyout",
       "prompt_number": 297,
       "text": [
        "<matplotlib.legend.Legend at 0x114c1a590>"
       ]
      },
      {
       "metadata": {},
       "output_type": "display_data",
       "text": [
        "<matplotlib.figure.Figure at 0x1074fd990>"
       ]
      },
      {
       "metadata": {},
       "output_type": "display_data",
       "png": "[encoded data removed]",
       "text": [
        "<matplotlib.figure.Figure at 0x114c1a610>"
       ]
      }
     ],
     "prompt_number": 297
    },
    {
     "cell_type": "markdown",
     "metadata": {},
     "source": [
      "## Reading/Writing to CSV"
     ]
    },
    {
     "cell_type": "code",
     "collapsed": false,
     "input": [
      "df.to_csv('foo.csv')"
     ],
     "language": "python",
     "metadata": {},
     "outputs": [],
     "prompt_number": 298
    },
    {
     "cell_type": "code",
     "collapsed": false,
     "input": [
      "pd.read_csv('foo.csv').head()"
     ],
     "language": "python",
     "metadata": {},
     "outputs": [
      {
       "html": [
        "<div style=\"max-height:1000px;max-width:1500px;overflow:auto;\">\n",
        "<table border=\"1\" class=\"dataframe\">\n",
        "  <thead>\n",
        "    <tr style=\"text-align: right;\">\n",
        "      <th></th>\n",
        "      <th>Unnamed: 0</th>\n",
        "      <th>A</th>\n",
        "      <th>B</th>\n",
        "      <th>C</th>\n",
        "      <th>D</th>\n",
        "    </tr>\n",
        "  </thead>\n",
        "  <tbody>\n",
        "    <tr>\n",
        "      <th>0</th>\n",
        "      <td> 2000-01-01</td>\n",
        "      <td> 1.317700</td>\n",
        "      <td>-0.730972</td>\n",
        "      <td>-2.000372</td>\n",
        "      <td> 0.034372</td>\n",
        "    </tr>\n",
        "    <tr>\n",
        "      <th>1</th>\n",
        "      <td> 2000-01-02</td>\n",
        "      <td> 1.930825</td>\n",
        "      <td>-0.038522</td>\n",
        "      <td>-1.754463</td>\n",
        "      <td> 0.718792</td>\n",
        "    </tr>\n",
        "    <tr>\n",
        "      <th>2</th>\n",
        "      <td> 2000-01-03</td>\n",
        "      <td> 2.252592</td>\n",
        "      <td> 0.469272</td>\n",
        "      <td>-0.400884</td>\n",
        "      <td> 0.637370</td>\n",
        "    </tr>\n",
        "    <tr>\n",
        "      <th>3</th>\n",
        "      <td> 2000-01-04</td>\n",
        "      <td> 1.603888</td>\n",
        "      <td> 1.108212</td>\n",
        "      <td>-0.050282</td>\n",
        "      <td> 1.324160</td>\n",
        "    </tr>\n",
        "    <tr>\n",
        "      <th>4</th>\n",
        "      <td> 2000-01-05</td>\n",
        "      <td> 1.417782</td>\n",
        "      <td>-0.206523</td>\n",
        "      <td> 1.337776</td>\n",
        "      <td> 2.157044</td>\n",
        "    </tr>\n",
        "  </tbody>\n",
        "</table>\n",
        "</div>"
       ],
       "metadata": {},
       "output_type": "pyout",
       "prompt_number": 299,
       "text": [
        "   Unnamed: 0         A         B         C         D\n",
        "0  2000-01-01  1.317700 -0.730972 -2.000372  0.034372\n",
        "1  2000-01-02  1.930825 -0.038522 -1.754463  0.718792\n",
        "2  2000-01-03  2.252592  0.469272 -0.400884  0.637370\n",
        "3  2000-01-04  1.603888  1.108212 -0.050282  1.324160\n",
        "4  2000-01-05  1.417782 -0.206523  1.337776  2.157044"
       ]
      }
     ],
     "prompt_number": 299
    },
    {
     "cell_type": "markdown",
     "metadata": {},
     "source": [
      "## Some more Pandas"
     ]
    },
    {
     "cell_type": "code",
     "collapsed": false,
     "input": [
      "# Multi-Index Queries\n",
      "\n",
      "# The indexes act as if they are column labels\n",
      "\n",
      "# You can also use the levels of a DataFrame with a MultiIndex as if \n",
      "# they were columns in the frame:\n"
     ],
     "language": "python",
     "metadata": {},
     "outputs": [],
     "prompt_number": 301
    },
    {
     "cell_type": "code",
     "collapsed": false,
     "input": [
      "n = 10\n",
      "colours = np.random.choice(['red', 'green'], size=n)\n",
      "foods = np.random.choice(['beans', 'peppers'], size=n)\n",
      "values = np.random.randint(1,5,n)\n",
      "\n",
      "print colours\n",
      "print foods\n",
      "print values"
     ],
     "language": "python",
     "metadata": {},
     "outputs": [
      {
       "output_type": "stream",
       "stream": "stdout",
       "text": [
        "['red' 'red' 'red' 'red' 'red' 'green' 'red' 'green' 'red' 'red']\n",
        "['beans' 'peppers' 'beans' 'peppers' 'peppers' 'peppers' 'beans' 'beans'\n",
        " 'beans' 'beans']\n",
        "[4 2 3 2 4 2 1 4 3 2]\n"
       ]
      }
     ],
     "prompt_number": 378
    },
    {
     "cell_type": "code",
     "collapsed": false,
     "input": [
      "index = pd.MultiIndex.from_arrays([colours, foods], names=['colour', 'food'])\n",
      "index"
     ],
     "language": "python",
     "metadata": {},
     "outputs": [
      {
       "metadata": {},
       "output_type": "pyout",
       "prompt_number": 379,
       "text": [
        "MultiIndex(levels=[[u'green', u'red'], [u'beans', u'peppers']],\n",
        "           labels=[[1, 1, 1, 1, 1, 0, 1, 0, 1, 1], [0, 1, 0, 1, 1, 1, 0, 0, 0, 0]],\n",
        "           names=[u'colour', u'food'])"
       ]
      }
     ],
     "prompt_number": 379
    },
    {
     "cell_type": "code",
     "collapsed": false,
     "input": [
      "df = pd.DataFrame(values, index=index, columns=['a'])\n",
      "print df # Empty values indicate continuation of the previous value"
     ],
     "language": "python",
     "metadata": {},
     "outputs": [
      {
       "output_type": "stream",
       "stream": "stdout",
       "text": [
        "                a\n",
        "colour food      \n",
        "red    beans    4\n",
        "       peppers  2\n",
        "       beans    3\n",
        "       peppers  2\n",
        "       peppers  4\n",
        "green  peppers  2\n",
        "red    beans    1\n",
        "green  beans    4\n",
        "red    beans    3\n",
        "       beans    2\n"
       ]
      }
     ],
     "prompt_number": 380
    },
    {
     "cell_type": "code",
     "collapsed": false,
     "input": [
      "df.query('colour == \"red\"')"
     ],
     "language": "python",
     "metadata": {},
     "outputs": [
      {
       "html": [
        "<div style=\"max-height:1000px;max-width:1500px;overflow:auto;\">\n",
        "<table border=\"1\" class=\"dataframe\">\n",
        "  <thead>\n",
        "    <tr style=\"text-align: right;\">\n",
        "      <th></th>\n",
        "      <th></th>\n",
        "      <th>a</th>\n",
        "    </tr>\n",
        "    <tr>\n",
        "      <th>colour</th>\n",
        "      <th>food</th>\n",
        "      <th></th>\n",
        "    </tr>\n",
        "  </thead>\n",
        "  <tbody>\n",
        "    <tr>\n",
        "      <th rowspan=\"8\" valign=\"top\">red</th>\n",
        "      <th>beans</th>\n",
        "      <td> 4</td>\n",
        "    </tr>\n",
        "    <tr>\n",
        "      <th>peppers</th>\n",
        "      <td> 2</td>\n",
        "    </tr>\n",
        "    <tr>\n",
        "      <th>beans</th>\n",
        "      <td> 3</td>\n",
        "    </tr>\n",
        "    <tr>\n",
        "      <th>peppers</th>\n",
        "      <td> 2</td>\n",
        "    </tr>\n",
        "    <tr>\n",
        "      <th>peppers</th>\n",
        "      <td> 4</td>\n",
        "    </tr>\n",
        "    <tr>\n",
        "      <th>beans</th>\n",
        "      <td> 1</td>\n",
        "    </tr>\n",
        "    <tr>\n",
        "      <th>beans</th>\n",
        "      <td> 3</td>\n",
        "    </tr>\n",
        "    <tr>\n",
        "      <th>beans</th>\n",
        "      <td> 2</td>\n",
        "    </tr>\n",
        "  </tbody>\n",
        "</table>\n",
        "</div>"
       ],
       "metadata": {},
       "output_type": "pyout",
       "prompt_number": 381,
       "text": [
        "                a\n",
        "colour food      \n",
        "red    beans    4\n",
        "       peppers  2\n",
        "       beans    3\n",
        "       peppers  2\n",
        "       peppers  4\n",
        "       beans    1\n",
        "       beans    3\n",
        "       beans    2"
       ]
      }
     ],
     "prompt_number": 381
    },
    {
     "cell_type": "code",
     "collapsed": false,
     "input": [
      "df.duplicated('a')"
     ],
     "language": "python",
     "metadata": {},
     "outputs": [
      {
       "metadata": {},
       "output_type": "pyout",
       "prompt_number": 382,
       "text": [
        "colour  food   \n",
        "red     beans      False\n",
        "        peppers    False\n",
        "        beans      False\n",
        "        peppers     True\n",
        "        peppers     True\n",
        "green   peppers     True\n",
        "red     beans      False\n",
        "green   beans       True\n",
        "red     beans       True\n",
        "        beans       True\n",
        "dtype: bool"
       ]
      }
     ],
     "prompt_number": 382
    },
    {
     "cell_type": "code",
     "collapsed": false,
     "input": [
      "df.drop_duplicates('a',take_last=True)"
     ],
     "language": "python",
     "metadata": {},
     "outputs": [
      {
       "html": [
        "<div style=\"max-height:1000px;max-width:1500px;overflow:auto;\">\n",
        "<table border=\"1\" class=\"dataframe\">\n",
        "  <thead>\n",
        "    <tr style=\"text-align: right;\">\n",
        "      <th></th>\n",
        "      <th></th>\n",
        "      <th>a</th>\n",
        "    </tr>\n",
        "    <tr>\n",
        "      <th>colour</th>\n",
        "      <th>food</th>\n",
        "      <th></th>\n",
        "    </tr>\n",
        "  </thead>\n",
        "  <tbody>\n",
        "    <tr>\n",
        "      <th>red</th>\n",
        "      <th>beans</th>\n",
        "      <td> 1</td>\n",
        "    </tr>\n",
        "    <tr>\n",
        "      <th>green</th>\n",
        "      <th>beans</th>\n",
        "      <td> 4</td>\n",
        "    </tr>\n",
        "    <tr>\n",
        "      <th rowspan=\"2\" valign=\"top\">red</th>\n",
        "      <th>beans</th>\n",
        "      <td> 3</td>\n",
        "    </tr>\n",
        "    <tr>\n",
        "      <th>beans</th>\n",
        "      <td> 2</td>\n",
        "    </tr>\n",
        "  </tbody>\n",
        "</table>\n",
        "</div>"
       ],
       "metadata": {},
       "output_type": "pyout",
       "prompt_number": 383,
       "text": [
        "              a\n",
        "colour food    \n",
        "red    beans  1\n",
        "green  beans  4\n",
        "red    beans  3\n",
        "       beans  2"
       ]
      }
     ],
     "prompt_number": 383
    },
    {
     "cell_type": "code",
     "collapsed": false,
     "input": [
      "df['b'] = np.random.randn(10)\n",
      "df['c'] = np.random.randn(10)\n",
      "\n",
      "df['f'] = [v for i,v in df.index]\n",
      "df"
     ],
     "language": "python",
     "metadata": {},
     "outputs": [
      {
       "html": [
        "<div style=\"max-height:1000px;max-width:1500px;overflow:auto;\">\n",
        "<table border=\"1\" class=\"dataframe\">\n",
        "  <thead>\n",
        "    <tr style=\"text-align: right;\">\n",
        "      <th></th>\n",
        "      <th></th>\n",
        "      <th>a</th>\n",
        "      <th>b</th>\n",
        "      <th>c</th>\n",
        "      <th>f</th>\n",
        "    </tr>\n",
        "    <tr>\n",
        "      <th>colour</th>\n",
        "      <th>food</th>\n",
        "      <th></th>\n",
        "      <th></th>\n",
        "      <th></th>\n",
        "      <th></th>\n",
        "    </tr>\n",
        "  </thead>\n",
        "  <tbody>\n",
        "    <tr>\n",
        "      <th rowspan=\"5\" valign=\"top\">red</th>\n",
        "      <th>beans</th>\n",
        "      <td> 4</td>\n",
        "      <td> 0.500858</td>\n",
        "      <td>-0.786186</td>\n",
        "      <td>   beans</td>\n",
        "    </tr>\n",
        "    <tr>\n",
        "      <th>peppers</th>\n",
        "      <td> 2</td>\n",
        "      <td> 0.824805</td>\n",
        "      <td>-0.592932</td>\n",
        "      <td> peppers</td>\n",
        "    </tr>\n",
        "    <tr>\n",
        "      <th>beans</th>\n",
        "      <td> 3</td>\n",
        "      <td>-0.166176</td>\n",
        "      <td>-0.032692</td>\n",
        "      <td>   beans</td>\n",
        "    </tr>\n",
        "    <tr>\n",
        "      <th>peppers</th>\n",
        "      <td> 2</td>\n",
        "      <td> 0.228065</td>\n",
        "      <td>-0.243296</td>\n",
        "      <td> peppers</td>\n",
        "    </tr>\n",
        "    <tr>\n",
        "      <th>peppers</th>\n",
        "      <td> 4</td>\n",
        "      <td>-2.072612</td>\n",
        "      <td>-2.334635</td>\n",
        "      <td> peppers</td>\n",
        "    </tr>\n",
        "    <tr>\n",
        "      <th>green</th>\n",
        "      <th>peppers</th>\n",
        "      <td> 2</td>\n",
        "      <td>-0.628687</td>\n",
        "      <td> 0.172926</td>\n",
        "      <td> peppers</td>\n",
        "    </tr>\n",
        "    <tr>\n",
        "      <th>red</th>\n",
        "      <th>beans</th>\n",
        "      <td> 1</td>\n",
        "      <td>-1.285939</td>\n",
        "      <td> 0.938825</td>\n",
        "      <td>   beans</td>\n",
        "    </tr>\n",
        "    <tr>\n",
        "      <th>green</th>\n",
        "      <th>beans</th>\n",
        "      <td> 4</td>\n",
        "      <td> 0.195802</td>\n",
        "      <td>-0.061679</td>\n",
        "      <td>   beans</td>\n",
        "    </tr>\n",
        "    <tr>\n",
        "      <th rowspan=\"2\" valign=\"top\">red</th>\n",
        "      <th>beans</th>\n",
        "      <td> 3</td>\n",
        "      <td>-0.062958</td>\n",
        "      <td> 0.572977</td>\n",
        "      <td>   beans</td>\n",
        "    </tr>\n",
        "    <tr>\n",
        "      <th>beans</th>\n",
        "      <td> 2</td>\n",
        "      <td> 0.253937</td>\n",
        "      <td>-0.262891</td>\n",
        "      <td>   beans</td>\n",
        "    </tr>\n",
        "  </tbody>\n",
        "</table>\n",
        "</div>"
       ],
       "metadata": {},
       "output_type": "pyout",
       "prompt_number": 387,
       "text": [
        "                a         b         c        f\n",
        "colour food                                   \n",
        "red    beans    4  0.500858 -0.786186    beans\n",
        "       peppers  2  0.824805 -0.592932  peppers\n",
        "       beans    3 -0.166176 -0.032692    beans\n",
        "       peppers  2  0.228065 -0.243296  peppers\n",
        "       peppers  4 -2.072612 -2.334635  peppers\n",
        "green  peppers  2 -0.628687  0.172926  peppers\n",
        "red    beans    1 -1.285939  0.938825    beans\n",
        "green  beans    4  0.195802 -0.061679    beans\n",
        "red    beans    3 -0.062958  0.572977    beans\n",
        "       beans    2  0.253937 -0.262891    beans"
       ]
      }
     ],
     "prompt_number": 387
    },
    {
     "cell_type": "markdown",
     "metadata": {},
     "source": [
      "## Group-By & Aggregation"
     ]
    },
    {
     "cell_type": "code",
     "collapsed": false,
     "input": [
      "grouped = df.groupby('f')"
     ],
     "language": "python",
     "metadata": {},
     "outputs": [],
     "prompt_number": 388
    },
    {
     "cell_type": "code",
     "collapsed": false,
     "input": [
      "for name, group in grouped:\n",
      "    print\"------\"\n",
      "    print \"NAME\"\n",
      "    print(name)\n",
      "    print \"GROUP\"\n",
      "    print(group)"
     ],
     "language": "python",
     "metadata": {},
     "outputs": [
      {
       "output_type": "stream",
       "stream": "stdout",
       "text": [
        "------\n",
        "NAME\n",
        "beans\n",
        "GROUP\n",
        "              a         b         c      f\n",
        "colour food                               \n",
        "red    beans  4  0.500858 -0.786186  beans\n",
        "       beans  3 -0.166176 -0.032692  beans\n",
        "       beans  1 -1.285939  0.938825  beans\n",
        "green  beans  4  0.195802 -0.061679  beans\n",
        "red    beans  3 -0.062958  0.572977  beans\n",
        "       beans  2  0.253937 -0.262891  beans\n",
        "------\n",
        "NAME\n",
        "peppers\n",
        "GROUP\n",
        "                a         b         c        f\n",
        "colour food                                   \n",
        "red    peppers  2  0.824805 -0.592932  peppers\n",
        "       peppers  2  0.228065 -0.243296  peppers\n",
        "       peppers  4 -2.072612 -2.334635  peppers\n",
        "green  peppers  2 -0.628687  0.172926  peppers\n"
       ]
      }
     ],
     "prompt_number": 389
    },
    {
     "cell_type": "code",
     "collapsed": false,
     "input": [
      "grouped.aggregate(np.sum)"
     ],
     "language": "python",
     "metadata": {},
     "outputs": [
      {
       "html": [
        "<div style=\"max-height:1000px;max-width:1500px;overflow:auto;\">\n",
        "<table border=\"1\" class=\"dataframe\">\n",
        "  <thead>\n",
        "    <tr style=\"text-align: right;\">\n",
        "      <th></th>\n",
        "      <th>a</th>\n",
        "      <th>b</th>\n",
        "      <th>c</th>\n",
        "    </tr>\n",
        "    <tr>\n",
        "      <th>f</th>\n",
        "      <th></th>\n",
        "      <th></th>\n",
        "      <th></th>\n",
        "    </tr>\n",
        "  </thead>\n",
        "  <tbody>\n",
        "    <tr>\n",
        "      <th>beans</th>\n",
        "      <td> 17</td>\n",
        "      <td>-0.564476</td>\n",
        "      <td> 0.368353</td>\n",
        "    </tr>\n",
        "    <tr>\n",
        "      <th>peppers</th>\n",
        "      <td> 10</td>\n",
        "      <td>-1.648429</td>\n",
        "      <td>-2.997938</td>\n",
        "    </tr>\n",
        "  </tbody>\n",
        "</table>\n",
        "</div>"
       ],
       "metadata": {},
       "output_type": "pyout",
       "prompt_number": 390,
       "text": [
        "          a         b         c\n",
        "f                              \n",
        "beans    17 -0.564476  0.368353\n",
        "peppers  10 -1.648429 -2.997938"
       ]
      }
     ],
     "prompt_number": 390
    },
    {
     "cell_type": "code",
     "collapsed": false,
     "input": [
      "grouped = df.groupby(['a', 'f'])"
     ],
     "language": "python",
     "metadata": {},
     "outputs": [],
     "prompt_number": 391
    },
    {
     "cell_type": "code",
     "collapsed": false,
     "input": [
      "for name, group in grouped:\n",
      "    print\"------\"\n",
      "    print \"NAME\"\n",
      "    print(name)\n",
      "    print \"GROUP\"\n",
      "    print(group)"
     ],
     "language": "python",
     "metadata": {},
     "outputs": [
      {
       "output_type": "stream",
       "stream": "stdout",
       "text": [
        "------\n",
        "NAME\n",
        "(1, 'beans')\n",
        "GROUP\n",
        "              a         b         c      f\n",
        "colour food                               \n",
        "red    beans  1 -1.285939  0.938825  beans\n",
        "------\n",
        "NAME\n",
        "(2, 'beans')\n",
        "GROUP\n",
        "              a         b         c      f\n",
        "colour food                               \n",
        "red    beans  2  0.253937 -0.262891  beans\n",
        "------\n",
        "NAME\n",
        "(2, 'peppers')\n",
        "GROUP\n",
        "                a         b         c        f\n",
        "colour food                                   \n",
        "red    peppers  2  0.824805 -0.592932  peppers\n",
        "       peppers  2  0.228065 -0.243296  peppers\n",
        "green  peppers  2 -0.628687  0.172926  peppers\n",
        "------\n",
        "NAME\n",
        "(3, 'beans')\n",
        "GROUP\n",
        "              a         b         c      f\n",
        "colour food                               \n",
        "red    beans  3 -0.166176 -0.032692  beans\n",
        "       beans  3 -0.062958  0.572977  beans\n",
        "------\n",
        "NAME\n",
        "(4, 'beans')\n",
        "GROUP\n",
        "              a         b         c      f\n",
        "colour food                               \n",
        "red    beans  4  0.500858 -0.786186  beans\n",
        "green  beans  4  0.195802 -0.061679  beans\n",
        "------\n",
        "NAME\n",
        "(4, 'peppers')\n",
        "GROUP\n",
        "                a         b         c        f\n",
        "colour food                                   \n",
        "red    peppers  4 -2.072612 -2.334635  peppers\n"
       ]
      }
     ],
     "prompt_number": 392
    },
    {
     "cell_type": "code",
     "collapsed": false,
     "input": [
      "grouped.size()"
     ],
     "language": "python",
     "metadata": {},
     "outputs": [
      {
       "metadata": {},
       "output_type": "pyout",
       "prompt_number": 393,
       "text": [
        "a  f      \n",
        "1  beans      1\n",
        "2  beans      1\n",
        "   peppers    3\n",
        "3  beans      2\n",
        "4  beans      2\n",
        "   peppers    1\n",
        "dtype: int64"
       ]
      }
     ],
     "prompt_number": 393
    },
    {
     "cell_type": "code",
     "collapsed": false,
     "input": [
      "grouped.aggregate(np.sum)"
     ],
     "language": "python",
     "metadata": {},
     "outputs": [
      {
       "html": [
        "<div style=\"max-height:1000px;max-width:1500px;overflow:auto;\">\n",
        "<table border=\"1\" class=\"dataframe\">\n",
        "  <thead>\n",
        "    <tr style=\"text-align: right;\">\n",
        "      <th></th>\n",
        "      <th></th>\n",
        "      <th>b</th>\n",
        "      <th>c</th>\n",
        "    </tr>\n",
        "    <tr>\n",
        "      <th>a</th>\n",
        "      <th>f</th>\n",
        "      <th></th>\n",
        "      <th></th>\n",
        "    </tr>\n",
        "  </thead>\n",
        "  <tbody>\n",
        "    <tr>\n",
        "      <th>1</th>\n",
        "      <th>beans</th>\n",
        "      <td>-1.285939</td>\n",
        "      <td> 0.938825</td>\n",
        "    </tr>\n",
        "    <tr>\n",
        "      <th rowspan=\"2\" valign=\"top\">2</th>\n",
        "      <th>beans</th>\n",
        "      <td> 0.253937</td>\n",
        "      <td>-0.262891</td>\n",
        "    </tr>\n",
        "    <tr>\n",
        "      <th>peppers</th>\n",
        "      <td> 0.424183</td>\n",
        "      <td>-0.663302</td>\n",
        "    </tr>\n",
        "    <tr>\n",
        "      <th>3</th>\n",
        "      <th>beans</th>\n",
        "      <td>-0.229134</td>\n",
        "      <td> 0.540285</td>\n",
        "    </tr>\n",
        "    <tr>\n",
        "      <th rowspan=\"2\" valign=\"top\">4</th>\n",
        "      <th>beans</th>\n",
        "      <td> 0.696660</td>\n",
        "      <td>-0.847865</td>\n",
        "    </tr>\n",
        "    <tr>\n",
        "      <th>peppers</th>\n",
        "      <td>-2.072612</td>\n",
        "      <td>-2.334635</td>\n",
        "    </tr>\n",
        "  </tbody>\n",
        "</table>\n",
        "</div>"
       ],
       "metadata": {},
       "output_type": "pyout",
       "prompt_number": 394,
       "text": [
        "                  b         c\n",
        "a f                          \n",
        "1 beans   -1.285939  0.938825\n",
        "2 beans    0.253937 -0.262891\n",
        "  peppers  0.424183 -0.663302\n",
        "3 beans   -0.229134  0.540285\n",
        "4 beans    0.696660 -0.847865\n",
        "  peppers -2.072612 -2.334635"
       ]
      }
     ],
     "prompt_number": 394
    },
    {
     "cell_type": "code",
     "collapsed": false,
     "input": [
      "grouped.describe()"
     ],
     "language": "python",
     "metadata": {},
     "outputs": [
      {
       "html": [
        "<div style=\"max-height:1000px;max-width:1500px;overflow:auto;\">\n",
        "<table border=\"1\" class=\"dataframe\">\n",
        "  <thead>\n",
        "    <tr style=\"text-align: right;\">\n",
        "      <th></th>\n",
        "      <th></th>\n",
        "      <th></th>\n",
        "      <th>b</th>\n",
        "      <th>c</th>\n",
        "    </tr>\n",
        "    <tr>\n",
        "      <th>a</th>\n",
        "      <th>f</th>\n",
        "      <th></th>\n",
        "      <th></th>\n",
        "      <th></th>\n",
        "    </tr>\n",
        "  </thead>\n",
        "  <tbody>\n",
        "    <tr>\n",
        "      <th rowspan=\"8\" valign=\"top\">1</th>\n",
        "      <th rowspan=\"8\" valign=\"top\">beans</th>\n",
        "      <th>count</th>\n",
        "      <td> 1.000000</td>\n",
        "      <td> 1.000000</td>\n",
        "    </tr>\n",
        "    <tr>\n",
        "      <th>mean</th>\n",
        "      <td>-1.285939</td>\n",
        "      <td> 0.938825</td>\n",
        "    </tr>\n",
        "    <tr>\n",
        "      <th>std</th>\n",
        "      <td>      NaN</td>\n",
        "      <td>      NaN</td>\n",
        "    </tr>\n",
        "    <tr>\n",
        "      <th>min</th>\n",
        "      <td>-1.285939</td>\n",
        "      <td> 0.938825</td>\n",
        "    </tr>\n",
        "    <tr>\n",
        "      <th>25%</th>\n",
        "      <td>-1.285939</td>\n",
        "      <td> 0.938825</td>\n",
        "    </tr>\n",
        "    <tr>\n",
        "      <th>50%</th>\n",
        "      <td>-1.285939</td>\n",
        "      <td> 0.938825</td>\n",
        "    </tr>\n",
        "    <tr>\n",
        "      <th>75%</th>\n",
        "      <td>-1.285939</td>\n",
        "      <td> 0.938825</td>\n",
        "    </tr>\n",
        "    <tr>\n",
        "      <th>max</th>\n",
        "      <td>-1.285939</td>\n",
        "      <td> 0.938825</td>\n",
        "    </tr>\n",
        "    <tr>\n",
        "      <th rowspan=\"16\" valign=\"top\">2</th>\n",
        "      <th rowspan=\"8\" valign=\"top\">beans</th>\n",
        "      <th>count</th>\n",
        "      <td> 1.000000</td>\n",
        "      <td> 1.000000</td>\n",
        "    </tr>\n",
        "    <tr>\n",
        "      <th>mean</th>\n",
        "      <td> 0.253937</td>\n",
        "      <td>-0.262891</td>\n",
        "    </tr>\n",
        "    <tr>\n",
        "      <th>std</th>\n",
        "      <td>      NaN</td>\n",
        "      <td>      NaN</td>\n",
        "    </tr>\n",
        "    <tr>\n",
        "      <th>min</th>\n",
        "      <td> 0.253937</td>\n",
        "      <td>-0.262891</td>\n",
        "    </tr>\n",
        "    <tr>\n",
        "      <th>25%</th>\n",
        "      <td> 0.253937</td>\n",
        "      <td>-0.262891</td>\n",
        "    </tr>\n",
        "    <tr>\n",
        "      <th>50%</th>\n",
        "      <td> 0.253937</td>\n",
        "      <td>-0.262891</td>\n",
        "    </tr>\n",
        "    <tr>\n",
        "      <th>75%</th>\n",
        "      <td> 0.253937</td>\n",
        "      <td>-0.262891</td>\n",
        "    </tr>\n",
        "    <tr>\n",
        "      <th>max</th>\n",
        "      <td> 0.253937</td>\n",
        "      <td>-0.262891</td>\n",
        "    </tr>\n",
        "    <tr>\n",
        "      <th rowspan=\"8\" valign=\"top\">peppers</th>\n",
        "      <th>count</th>\n",
        "      <td> 3.000000</td>\n",
        "      <td> 3.000000</td>\n",
        "    </tr>\n",
        "    <tr>\n",
        "      <th>mean</th>\n",
        "      <td> 0.141394</td>\n",
        "      <td>-0.221101</td>\n",
        "    </tr>\n",
        "    <tr>\n",
        "      <th>std</th>\n",
        "      <td> 0.730612</td>\n",
        "      <td> 0.383411</td>\n",
        "    </tr>\n",
        "    <tr>\n",
        "      <th>min</th>\n",
        "      <td>-0.628687</td>\n",
        "      <td>-0.592932</td>\n",
        "    </tr>\n",
        "    <tr>\n",
        "      <th>25%</th>\n",
        "      <td>-0.200311</td>\n",
        "      <td>-0.418114</td>\n",
        "    </tr>\n",
        "    <tr>\n",
        "      <th>50%</th>\n",
        "      <td> 0.228065</td>\n",
        "      <td>-0.243296</td>\n",
        "    </tr>\n",
        "    <tr>\n",
        "      <th>75%</th>\n",
        "      <td> 0.526435</td>\n",
        "      <td>-0.035185</td>\n",
        "    </tr>\n",
        "    <tr>\n",
        "      <th>max</th>\n",
        "      <td> 0.824805</td>\n",
        "      <td> 0.172926</td>\n",
        "    </tr>\n",
        "    <tr>\n",
        "      <th rowspan=\"8\" valign=\"top\">3</th>\n",
        "      <th rowspan=\"8\" valign=\"top\">beans</th>\n",
        "      <th>count</th>\n",
        "      <td> 2.000000</td>\n",
        "      <td> 2.000000</td>\n",
        "    </tr>\n",
        "    <tr>\n",
        "      <th>mean</th>\n",
        "      <td>-0.114567</td>\n",
        "      <td> 0.270142</td>\n",
        "    </tr>\n",
        "    <tr>\n",
        "      <th>std</th>\n",
        "      <td> 0.072986</td>\n",
        "      <td> 0.428273</td>\n",
        "    </tr>\n",
        "    <tr>\n",
        "      <th>min</th>\n",
        "      <td>-0.166176</td>\n",
        "      <td>-0.032692</td>\n",
        "    </tr>\n",
        "    <tr>\n",
        "      <th>25%</th>\n",
        "      <td>-0.140372</td>\n",
        "      <td> 0.118725</td>\n",
        "    </tr>\n",
        "    <tr>\n",
        "      <th>50%</th>\n",
        "      <td>-0.114567</td>\n",
        "      <td> 0.270142</td>\n",
        "    </tr>\n",
        "    <tr>\n",
        "      <th>75%</th>\n",
        "      <td>-0.088763</td>\n",
        "      <td> 0.421560</td>\n",
        "    </tr>\n",
        "    <tr>\n",
        "      <th>max</th>\n",
        "      <td>-0.062958</td>\n",
        "      <td> 0.572977</td>\n",
        "    </tr>\n",
        "    <tr>\n",
        "      <th rowspan=\"16\" valign=\"top\">4</th>\n",
        "      <th rowspan=\"8\" valign=\"top\">beans</th>\n",
        "      <th>count</th>\n",
        "      <td> 2.000000</td>\n",
        "      <td> 2.000000</td>\n",
        "    </tr>\n",
        "    <tr>\n",
        "      <th>mean</th>\n",
        "      <td> 0.348330</td>\n",
        "      <td>-0.423933</td>\n",
        "    </tr>\n",
        "    <tr>\n",
        "      <th>std</th>\n",
        "      <td> 0.215707</td>\n",
        "      <td> 0.512304</td>\n",
        "    </tr>\n",
        "    <tr>\n",
        "      <th>min</th>\n",
        "      <td> 0.195802</td>\n",
        "      <td>-0.786186</td>\n",
        "    </tr>\n",
        "    <tr>\n",
        "      <th>25%</th>\n",
        "      <td> 0.272066</td>\n",
        "      <td>-0.605059</td>\n",
        "    </tr>\n",
        "    <tr>\n",
        "      <th>50%</th>\n",
        "      <td> 0.348330</td>\n",
        "      <td>-0.423933</td>\n",
        "    </tr>\n",
        "    <tr>\n",
        "      <th>75%</th>\n",
        "      <td> 0.424594</td>\n",
        "      <td>-0.242806</td>\n",
        "    </tr>\n",
        "    <tr>\n",
        "      <th>max</th>\n",
        "      <td> 0.500858</td>\n",
        "      <td>-0.061679</td>\n",
        "    </tr>\n",
        "    <tr>\n",
        "      <th rowspan=\"8\" valign=\"top\">peppers</th>\n",
        "      <th>count</th>\n",
        "      <td> 1.000000</td>\n",
        "      <td> 1.000000</td>\n",
        "    </tr>\n",
        "    <tr>\n",
        "      <th>mean</th>\n",
        "      <td>-2.072612</td>\n",
        "      <td>-2.334635</td>\n",
        "    </tr>\n",
        "    <tr>\n",
        "      <th>std</th>\n",
        "      <td>      NaN</td>\n",
        "      <td>      NaN</td>\n",
        "    </tr>\n",
        "    <tr>\n",
        "      <th>min</th>\n",
        "      <td>-2.072612</td>\n",
        "      <td>-2.334635</td>\n",
        "    </tr>\n",
        "    <tr>\n",
        "      <th>25%</th>\n",
        "      <td>-2.072612</td>\n",
        "      <td>-2.334635</td>\n",
        "    </tr>\n",
        "    <tr>\n",
        "      <th>50%</th>\n",
        "      <td>-2.072612</td>\n",
        "      <td>-2.334635</td>\n",
        "    </tr>\n",
        "    <tr>\n",
        "      <th>75%</th>\n",
        "      <td>-2.072612</td>\n",
        "      <td>-2.334635</td>\n",
        "    </tr>\n",
        "    <tr>\n",
        "      <th>max</th>\n",
        "      <td>-2.072612</td>\n",
        "      <td>-2.334635</td>\n",
        "    </tr>\n",
        "  </tbody>\n",
        "</table>\n",
        "</div>"
       ],
       "metadata": {},
       "output_type": "pyout",
       "prompt_number": 395,
       "text": [
        "                        b         c\n",
        "a f                                \n",
        "1 beans   count  1.000000  1.000000\n",
        "          mean  -1.285939  0.938825\n",
        "          std         NaN       NaN\n",
        "          min   -1.285939  0.938825\n",
        "          25%   -1.285939  0.938825\n",
        "          50%   -1.285939  0.938825\n",
        "          75%   -1.285939  0.938825\n",
        "          max   -1.285939  0.938825\n",
        "2 beans   count  1.000000  1.000000\n",
        "          mean   0.253937 -0.262891\n",
        "          std         NaN       NaN\n",
        "          min    0.253937 -0.262891\n",
        "          25%    0.253937 -0.262891\n",
        "          50%    0.253937 -0.262891\n",
        "          75%    0.253937 -0.262891\n",
        "          max    0.253937 -0.262891\n",
        "  peppers count  3.000000  3.000000\n",
        "          mean   0.141394 -0.221101\n",
        "          std    0.730612  0.383411\n",
        "          min   -0.628687 -0.592932\n",
        "          25%   -0.200311 -0.418114\n",
        "          50%    0.228065 -0.243296\n",
        "          75%    0.526435 -0.035185\n",
        "          max    0.824805  0.172926\n",
        "3 beans   count  2.000000  2.000000\n",
        "          mean  -0.114567  0.270142\n",
        "          std    0.072986  0.428273\n",
        "          min   -0.166176 -0.032692\n",
        "          25%   -0.140372  0.118725\n",
        "          50%   -0.114567  0.270142\n",
        "          75%   -0.088763  0.421560\n",
        "          max   -0.062958  0.572977\n",
        "4 beans   count  2.000000  2.000000\n",
        "          mean   0.348330 -0.423933\n",
        "          std    0.215707  0.512304\n",
        "          min    0.195802 -0.786186\n",
        "          25%    0.272066 -0.605059\n",
        "          50%    0.348330 -0.423933\n",
        "          75%    0.424594 -0.242806\n",
        "          max    0.500858 -0.061679\n",
        "  peppers count  1.000000  1.000000\n",
        "          mean  -2.072612 -2.334635\n",
        "          std         NaN       NaN\n",
        "          min   -2.072612 -2.334635\n",
        "          25%   -2.072612 -2.334635\n",
        "          50%   -2.072612 -2.334635\n",
        "          75%   -2.072612 -2.334635\n",
        "          max   -2.072612 -2.334635"
       ]
      }
     ],
     "prompt_number": 395
    },
    {
     "cell_type": "code",
     "collapsed": false,
     "input": [
      "# Using agg\n",
      "# Take the values of b and calculate sum, mean and sd for all groups\n",
      "\n",
      "grouped['b'].agg([np.sum, np.mean, np.std])"
     ],
     "language": "python",
     "metadata": {},
     "outputs": [
      {
       "html": [
        "<div style=\"max-height:1000px;max-width:1500px;overflow:auto;\">\n",
        "<table border=\"1\" class=\"dataframe\">\n",
        "  <thead>\n",
        "    <tr style=\"text-align: right;\">\n",
        "      <th></th>\n",
        "      <th></th>\n",
        "      <th>sum</th>\n",
        "      <th>mean</th>\n",
        "      <th>std</th>\n",
        "    </tr>\n",
        "    <tr>\n",
        "      <th>a</th>\n",
        "      <th>f</th>\n",
        "      <th></th>\n",
        "      <th></th>\n",
        "      <th></th>\n",
        "    </tr>\n",
        "  </thead>\n",
        "  <tbody>\n",
        "    <tr>\n",
        "      <th>1</th>\n",
        "      <th>beans</th>\n",
        "      <td>-1.285939</td>\n",
        "      <td>-1.285939</td>\n",
        "      <td>      NaN</td>\n",
        "    </tr>\n",
        "    <tr>\n",
        "      <th rowspan=\"2\" valign=\"top\">2</th>\n",
        "      <th>beans</th>\n",
        "      <td> 0.253937</td>\n",
        "      <td> 0.253937</td>\n",
        "      <td>      NaN</td>\n",
        "    </tr>\n",
        "    <tr>\n",
        "      <th>peppers</th>\n",
        "      <td> 0.424183</td>\n",
        "      <td> 0.141394</td>\n",
        "      <td> 0.730612</td>\n",
        "    </tr>\n",
        "    <tr>\n",
        "      <th>3</th>\n",
        "      <th>beans</th>\n",
        "      <td>-0.229134</td>\n",
        "      <td>-0.114567</td>\n",
        "      <td> 0.072986</td>\n",
        "    </tr>\n",
        "    <tr>\n",
        "      <th rowspan=\"2\" valign=\"top\">4</th>\n",
        "      <th>beans</th>\n",
        "      <td> 0.696660</td>\n",
        "      <td> 0.348330</td>\n",
        "      <td> 0.215707</td>\n",
        "    </tr>\n",
        "    <tr>\n",
        "      <th>peppers</th>\n",
        "      <td>-2.072612</td>\n",
        "      <td>-2.072612</td>\n",
        "      <td>      NaN</td>\n",
        "    </tr>\n",
        "  </tbody>\n",
        "</table>\n",
        "</div>"
       ],
       "metadata": {},
       "output_type": "pyout",
       "prompt_number": 396,
       "text": [
        "                sum      mean       std\n",
        "a f                                    \n",
        "1 beans   -1.285939 -1.285939       NaN\n",
        "2 beans    0.253937  0.253937       NaN\n",
        "  peppers  0.424183  0.141394  0.730612\n",
        "3 beans   -0.229134 -0.114567  0.072986\n",
        "4 beans    0.696660  0.348330  0.215707\n",
        "  peppers -2.072612 -2.072612       NaN"
       ]
      }
     ],
     "prompt_number": 396
    },
    {
     "cell_type": "code",
     "collapsed": false,
     "input": [
      "grouped.agg([np.sum, np.mean, np.std])"
     ],
     "language": "python",
     "metadata": {},
     "outputs": [
      {
       "html": [
        "<div style=\"max-height:1000px;max-width:1500px;overflow:auto;\">\n",
        "<table border=\"1\" class=\"dataframe\">\n",
        "  <thead>\n",
        "    <tr>\n",
        "      <th></th>\n",
        "      <th></th>\n",
        "      <th colspan=\"3\" halign=\"left\">b</th>\n",
        "    </tr>\n",
        "    <tr>\n",
        "      <th></th>\n",
        "      <th></th>\n",
        "      <th>sum</th>\n",
        "      <th>mean</th>\n",
        "      <th>std</th>\n",
        "    </tr>\n",
        "    <tr>\n",
        "      <th>a</th>\n",
        "      <th>f</th>\n",
        "      <th></th>\n",
        "      <th></th>\n",
        "      <th></th>\n",
        "    </tr>\n",
        "  </thead>\n",
        "  <tbody>\n",
        "    <tr>\n",
        "      <th>1</th>\n",
        "      <th>peppers</th>\n",
        "      <td> 0.985400</td>\n",
        "      <td> 0.246350</td>\n",
        "      <td> 0.352823</td>\n",
        "    </tr>\n",
        "    <tr>\n",
        "      <th>2</th>\n",
        "      <th>beans</th>\n",
        "      <td> 0.817507</td>\n",
        "      <td> 0.817507</td>\n",
        "      <td>      NaN</td>\n",
        "    </tr>\n",
        "    <tr>\n",
        "      <th>3</th>\n",
        "      <th>beans</th>\n",
        "      <td>-2.219867</td>\n",
        "      <td>-1.109934</td>\n",
        "      <td> 1.744846</td>\n",
        "    </tr>\n",
        "    <tr>\n",
        "      <th rowspan=\"2\" valign=\"top\">4</th>\n",
        "      <th>beans</th>\n",
        "      <td>-0.797550</td>\n",
        "      <td>-0.797550</td>\n",
        "      <td>      NaN</td>\n",
        "    </tr>\n",
        "    <tr>\n",
        "      <th>peppers</th>\n",
        "      <td>-0.038064</td>\n",
        "      <td>-0.019032</td>\n",
        "      <td> 0.817897</td>\n",
        "    </tr>\n",
        "  </tbody>\n",
        "</table>\n",
        "</div>"
       ],
       "metadata": {},
       "output_type": "pyout",
       "prompt_number": 373,
       "text": [
        "                  b                    \n",
        "                sum      mean       std\n",
        "a f                                    \n",
        "1 peppers  0.985400  0.246350  0.352823\n",
        "2 beans    0.817507  0.817507       NaN\n",
        "3 beans   -2.219867 -1.109934  1.744846\n",
        "4 beans   -0.797550 -0.797550       NaN\n",
        "  peppers -0.038064 -0.019032  0.817897"
       ]
      }
     ],
     "prompt_number": 373
    },
    {
     "cell_type": "code",
     "collapsed": false,
     "input": [
      "grouped['b'].agg({'result1' : np.sum,'result2' : np.mean})"
     ],
     "language": "python",
     "metadata": {},
     "outputs": [
      {
       "html": [
        "<div style=\"max-height:1000px;max-width:1500px;overflow:auto;\">\n",
        "<table border=\"1\" class=\"dataframe\">\n",
        "  <thead>\n",
        "    <tr style=\"text-align: right;\">\n",
        "      <th></th>\n",
        "      <th></th>\n",
        "      <th>result2</th>\n",
        "      <th>result1</th>\n",
        "    </tr>\n",
        "    <tr>\n",
        "      <th>a</th>\n",
        "      <th>f</th>\n",
        "      <th></th>\n",
        "      <th></th>\n",
        "    </tr>\n",
        "  </thead>\n",
        "  <tbody>\n",
        "    <tr>\n",
        "      <th>1</th>\n",
        "      <th>peppers</th>\n",
        "      <td> 0.246350</td>\n",
        "      <td> 0.985400</td>\n",
        "    </tr>\n",
        "    <tr>\n",
        "      <th>2</th>\n",
        "      <th>beans</th>\n",
        "      <td> 0.817507</td>\n",
        "      <td> 0.817507</td>\n",
        "    </tr>\n",
        "    <tr>\n",
        "      <th>3</th>\n",
        "      <th>beans</th>\n",
        "      <td>-1.109934</td>\n",
        "      <td>-2.219867</td>\n",
        "    </tr>\n",
        "    <tr>\n",
        "      <th rowspan=\"2\" valign=\"top\">4</th>\n",
        "      <th>beans</th>\n",
        "      <td>-0.797550</td>\n",
        "      <td>-0.797550</td>\n",
        "    </tr>\n",
        "    <tr>\n",
        "      <th>peppers</th>\n",
        "      <td>-0.019032</td>\n",
        "      <td>-0.038064</td>\n",
        "    </tr>\n",
        "  </tbody>\n",
        "</table>\n",
        "</div>"
       ],
       "metadata": {},
       "output_type": "pyout",
       "prompt_number": 374,
       "text": [
        "            result2   result1\n",
        "a f                          \n",
        "1 peppers  0.246350  0.985400\n",
        "2 beans    0.817507  0.817507\n",
        "3 beans   -1.109934 -2.219867\n",
        "4 beans   -0.797550 -0.797550\n",
        "  peppers -0.019032 -0.038064"
       ]
      }
     ],
     "prompt_number": 374
    },
    {
     "cell_type": "code",
     "collapsed": false,
     "input": [
      "grouped.agg({'b' : 'sum', 'c' : 'std'})"
     ],
     "language": "python",
     "metadata": {},
     "outputs": [
      {
       "html": [
        "<div style=\"max-height:1000px;max-width:1500px;overflow:auto;\">\n",
        "<table border=\"1\" class=\"dataframe\">\n",
        "  <thead>\n",
        "    <tr style=\"text-align: right;\">\n",
        "      <th></th>\n",
        "      <th></th>\n",
        "      <th>c</th>\n",
        "      <th>b</th>\n",
        "    </tr>\n",
        "    <tr>\n",
        "      <th>a</th>\n",
        "      <th>f</th>\n",
        "      <th></th>\n",
        "      <th></th>\n",
        "    </tr>\n",
        "  </thead>\n",
        "  <tbody>\n",
        "    <tr>\n",
        "      <th>1</th>\n",
        "      <th>beans</th>\n",
        "      <td>      NaN</td>\n",
        "      <td>-1.285939</td>\n",
        "    </tr>\n",
        "    <tr>\n",
        "      <th rowspan=\"2\" valign=\"top\">2</th>\n",
        "      <th>beans</th>\n",
        "      <td>      NaN</td>\n",
        "      <td> 0.253937</td>\n",
        "    </tr>\n",
        "    <tr>\n",
        "      <th>peppers</th>\n",
        "      <td> 0.383411</td>\n",
        "      <td> 0.424183</td>\n",
        "    </tr>\n",
        "    <tr>\n",
        "      <th>3</th>\n",
        "      <th>beans</th>\n",
        "      <td> 0.428273</td>\n",
        "      <td>-0.229134</td>\n",
        "    </tr>\n",
        "    <tr>\n",
        "      <th rowspan=\"2\" valign=\"top\">4</th>\n",
        "      <th>beans</th>\n",
        "      <td> 0.512304</td>\n",
        "      <td> 0.696660</td>\n",
        "    </tr>\n",
        "    <tr>\n",
        "      <th>peppers</th>\n",
        "      <td>      NaN</td>\n",
        "      <td>-2.072612</td>\n",
        "    </tr>\n",
        "  </tbody>\n",
        "</table>\n",
        "</div>"
       ],
       "metadata": {},
       "output_type": "pyout",
       "prompt_number": 397,
       "text": [
        "                  c         b\n",
        "a f                          \n",
        "1 beans         NaN -1.285939\n",
        "2 beans         NaN  0.253937\n",
        "  peppers  0.383411  0.424183\n",
        "3 beans    0.428273 -0.229134\n",
        "4 beans    0.512304  0.696660\n",
        "  peppers       NaN -2.072612"
       ]
      }
     ],
     "prompt_number": 397
    },
    {
     "cell_type": "code",
     "collapsed": false,
     "input": [
      "# With dropna\n",
      "grouped.agg({'b' : 'sum', 'c' : 'std'}).dropna()"
     ],
     "language": "python",
     "metadata": {},
     "outputs": [
      {
       "html": [
        "<div style=\"max-height:1000px;max-width:1500px;overflow:auto;\">\n",
        "<table border=\"1\" class=\"dataframe\">\n",
        "  <thead>\n",
        "    <tr style=\"text-align: right;\">\n",
        "      <th></th>\n",
        "      <th></th>\n",
        "      <th>c</th>\n",
        "      <th>b</th>\n",
        "    </tr>\n",
        "    <tr>\n",
        "      <th>a</th>\n",
        "      <th>f</th>\n",
        "      <th></th>\n",
        "      <th></th>\n",
        "    </tr>\n",
        "  </thead>\n",
        "  <tbody>\n",
        "    <tr>\n",
        "      <th>2</th>\n",
        "      <th>peppers</th>\n",
        "      <td> 0.383411</td>\n",
        "      <td> 0.424183</td>\n",
        "    </tr>\n",
        "    <tr>\n",
        "      <th>3</th>\n",
        "      <th>beans</th>\n",
        "      <td> 0.428273</td>\n",
        "      <td>-0.229134</td>\n",
        "    </tr>\n",
        "    <tr>\n",
        "      <th>4</th>\n",
        "      <th>beans</th>\n",
        "      <td> 0.512304</td>\n",
        "      <td> 0.696660</td>\n",
        "    </tr>\n",
        "  </tbody>\n",
        "</table>\n",
        "</div>"
       ],
       "metadata": {},
       "output_type": "pyout",
       "prompt_number": 398,
       "text": [
        "                  c         b\n",
        "a f                          \n",
        "2 peppers  0.383411  0.424183\n",
        "3 beans    0.428273 -0.229134\n",
        "4 beans    0.512304  0.696660"
       ]
      }
     ],
     "prompt_number": 398
    },
    {
     "cell_type": "code",
     "collapsed": false,
     "input": [
      "# With transform + lambda\n",
      "# For each group, take the values of b and apply lambda function\n",
      "\n",
      "grouped['b'].transform(lambda x: x - x.mean())"
     ],
     "language": "python",
     "metadata": {},
     "outputs": [
      {
       "metadata": {},
       "output_type": "pyout",
       "prompt_number": 402,
       "text": [
        "colour  food   \n",
        "red     beans      0.152528\n",
        "        peppers    0.683410\n",
        "        beans     -0.051609\n",
        "        peppers    0.086671\n",
        "        peppers    0.000000\n",
        "green   peppers   -0.770082\n",
        "red     beans      0.000000\n",
        "green   beans     -0.152528\n",
        "red     beans      0.051609\n",
        "        beans      0.000000\n",
        "Name: b, dtype: float64"
       ]
      }
     ],
     "prompt_number": 402
    },
    {
     "cell_type": "markdown",
     "metadata": {},
     "source": [
      "## Data Reshaping"
     ]
    },
    {
     "cell_type": "code",
     "collapsed": false,
     "input": [
      "columns = pd.MultiIndex.from_tuples([\n",
      "    ('A', 'cat', 'long'), ('B', 'cat', 'long'),\n",
      "    ('A', 'dog', 'short'), ('B', 'dog', 'short')\n",
      "    ],\n",
      "    names=['exp', 'animal', 'hair_length'])\n",
      "\n",
      "df = pd.DataFrame(np.random.randn(4, 4), columns=columns)\n",
      "df"
     ],
     "language": "python",
     "metadata": {},
     "outputs": [
      {
       "html": [
        "<div style=\"max-height:1000px;max-width:1500px;overflow:auto;\">\n",
        "<table border=\"1\" class=\"dataframe\">\n",
        "  <thead>\n",
        "    <tr>\n",
        "      <th>exp</th>\n",
        "      <th>A</th>\n",
        "      <th>B</th>\n",
        "      <th>A</th>\n",
        "      <th>B</th>\n",
        "    </tr>\n",
        "    <tr>\n",
        "      <th>animal</th>\n",
        "      <th>cat</th>\n",
        "      <th>cat</th>\n",
        "      <th>dog</th>\n",
        "      <th>dog</th>\n",
        "    </tr>\n",
        "    <tr>\n",
        "      <th>hair_length</th>\n",
        "      <th>long</th>\n",
        "      <th>long</th>\n",
        "      <th>short</th>\n",
        "      <th>short</th>\n",
        "    </tr>\n",
        "  </thead>\n",
        "  <tbody>\n",
        "    <tr>\n",
        "      <th>0</th>\n",
        "      <td> 0.343966</td>\n",
        "      <td> 0.408047</td>\n",
        "      <td> 0.953394</td>\n",
        "      <td> 1.218290</td>\n",
        "    </tr>\n",
        "    <tr>\n",
        "      <th>1</th>\n",
        "      <td> 1.802875</td>\n",
        "      <td> 0.140051</td>\n",
        "      <td>-0.278050</td>\n",
        "      <td> 0.117082</td>\n",
        "    </tr>\n",
        "    <tr>\n",
        "      <th>2</th>\n",
        "      <td>-0.358171</td>\n",
        "      <td> 0.655995</td>\n",
        "      <td> 0.422782</td>\n",
        "      <td> 1.648356</td>\n",
        "    </tr>\n",
        "    <tr>\n",
        "      <th>3</th>\n",
        "      <td> 0.286311</td>\n",
        "      <td> 1.038947</td>\n",
        "      <td> 0.835631</td>\n",
        "      <td>-0.409278</td>\n",
        "    </tr>\n",
        "  </tbody>\n",
        "</table>\n",
        "</div>"
       ],
       "metadata": {},
       "output_type": "pyout",
       "prompt_number": 404,
       "text": [
        "exp                 A         B         A         B\n",
        "animal            cat       cat       dog       dog\n",
        "hair_length      long      long     short     short\n",
        "0            0.343966  0.408047  0.953394  1.218290\n",
        "1            1.802875  0.140051 -0.278050  0.117082\n",
        "2           -0.358171  0.655995  0.422782  1.648356\n",
        "3            0.286311  1.038947  0.835631 -0.409278"
       ]
      }
     ],
     "prompt_number": 404
    },
    {
     "cell_type": "code",
     "collapsed": false,
     "input": [
      "df.stack(level=['animal', 'hair_length'])"
     ],
     "language": "python",
     "metadata": {},
     "outputs": [
      {
       "html": [
        "<div style=\"max-height:1000px;max-width:1500px;overflow:auto;\">\n",
        "<table border=\"1\" class=\"dataframe\">\n",
        "  <thead>\n",
        "    <tr style=\"text-align: right;\">\n",
        "      <th></th>\n",
        "      <th></th>\n",
        "      <th>exp</th>\n",
        "      <th>A</th>\n",
        "      <th>B</th>\n",
        "    </tr>\n",
        "    <tr>\n",
        "      <th></th>\n",
        "      <th>animal</th>\n",
        "      <th>hair_length</th>\n",
        "      <th></th>\n",
        "      <th></th>\n",
        "    </tr>\n",
        "  </thead>\n",
        "  <tbody>\n",
        "    <tr>\n",
        "      <th rowspan=\"2\" valign=\"top\">0</th>\n",
        "      <th>cat</th>\n",
        "      <th>long</th>\n",
        "      <td> 0.343966</td>\n",
        "      <td> 0.408047</td>\n",
        "    </tr>\n",
        "    <tr>\n",
        "      <th>dog</th>\n",
        "      <th>short</th>\n",
        "      <td> 0.953394</td>\n",
        "      <td> 1.218290</td>\n",
        "    </tr>\n",
        "    <tr>\n",
        "      <th rowspan=\"2\" valign=\"top\">1</th>\n",
        "      <th>cat</th>\n",
        "      <th>long</th>\n",
        "      <td> 1.802875</td>\n",
        "      <td> 0.140051</td>\n",
        "    </tr>\n",
        "    <tr>\n",
        "      <th>dog</th>\n",
        "      <th>short</th>\n",
        "      <td>-0.278050</td>\n",
        "      <td> 0.117082</td>\n",
        "    </tr>\n",
        "    <tr>\n",
        "      <th rowspan=\"2\" valign=\"top\">2</th>\n",
        "      <th>cat</th>\n",
        "      <th>long</th>\n",
        "      <td>-0.358171</td>\n",
        "      <td> 0.655995</td>\n",
        "    </tr>\n",
        "    <tr>\n",
        "      <th>dog</th>\n",
        "      <th>short</th>\n",
        "      <td> 0.422782</td>\n",
        "      <td> 1.648356</td>\n",
        "    </tr>\n",
        "    <tr>\n",
        "      <th rowspan=\"2\" valign=\"top\">3</th>\n",
        "      <th>cat</th>\n",
        "      <th>long</th>\n",
        "      <td> 0.286311</td>\n",
        "      <td> 1.038947</td>\n",
        "    </tr>\n",
        "    <tr>\n",
        "      <th>dog</th>\n",
        "      <th>short</th>\n",
        "      <td> 0.835631</td>\n",
        "      <td>-0.409278</td>\n",
        "    </tr>\n",
        "  </tbody>\n",
        "</table>\n",
        "</div>"
       ],
       "metadata": {},
       "output_type": "pyout",
       "prompt_number": 405,
       "text": [
        "exp                          A         B\n",
        "  animal hair_length                    \n",
        "0 cat    long         0.343966  0.408047\n",
        "  dog    short        0.953394  1.218290\n",
        "1 cat    long         1.802875  0.140051\n",
        "  dog    short       -0.278050  0.117082\n",
        "2 cat    long        -0.358171  0.655995\n",
        "  dog    short        0.422782  1.648356\n",
        "3 cat    long         0.286311  1.038947\n",
        "  dog    short        0.835631 -0.409278"
       ]
      }
     ],
     "prompt_number": 405
    },
    {
     "cell_type": "code",
     "collapsed": false,
     "input": [
      "# df.stack(level=['animal', 'hair_length'])\n",
      "# from above is equivalent to:\n",
      "# df.stack(level=[1, 2])"
     ],
     "language": "python",
     "metadata": {},
     "outputs": [],
     "prompt_number": 406
    },
    {
     "cell_type": "code",
     "collapsed": false,
     "input": [
      "# Using melt"
     ],
     "language": "python",
     "metadata": {},
     "outputs": [],
     "prompt_number": 407
    },
    {
     "cell_type": "code",
     "collapsed": false,
     "input": [
      "cheese = pd.DataFrame({'first' : ['John', 'Mary'],\n",
      "                        'last' : ['Doe', 'Bo'],\n",
      "                        'height' : [5.5, 6.0],\n",
      "                        'weight' : [130, 150]})\n",
      "cheese"
     ],
     "language": "python",
     "metadata": {},
     "outputs": [
      {
       "html": [
        "<div style=\"max-height:1000px;max-width:1500px;overflow:auto;\">\n",
        "<table border=\"1\" class=\"dataframe\">\n",
        "  <thead>\n",
        "    <tr style=\"text-align: right;\">\n",
        "      <th></th>\n",
        "      <th>first</th>\n",
        "      <th>height</th>\n",
        "      <th>last</th>\n",
        "      <th>weight</th>\n",
        "    </tr>\n",
        "  </thead>\n",
        "  <tbody>\n",
        "    <tr>\n",
        "      <th>0</th>\n",
        "      <td> John</td>\n",
        "      <td> 5.5</td>\n",
        "      <td> Doe</td>\n",
        "      <td> 130</td>\n",
        "    </tr>\n",
        "    <tr>\n",
        "      <th>1</th>\n",
        "      <td> Mary</td>\n",
        "      <td> 6.0</td>\n",
        "      <td>  Bo</td>\n",
        "      <td> 150</td>\n",
        "    </tr>\n",
        "  </tbody>\n",
        "</table>\n",
        "</div>"
       ],
       "metadata": {},
       "output_type": "pyout",
       "prompt_number": 408,
       "text": [
        "  first  height last  weight\n",
        "0  John     5.5  Doe     130\n",
        "1  Mary     6.0   Bo     150"
       ]
      }
     ],
     "prompt_number": 408
    },
    {
     "cell_type": "code",
     "collapsed": false,
     "input": [
      "pd.melt(cheese, id_vars=['first', 'last'])"
     ],
     "language": "python",
     "metadata": {},
     "outputs": [
      {
       "html": [
        "<div style=\"max-height:1000px;max-width:1500px;overflow:auto;\">\n",
        "<table border=\"1\" class=\"dataframe\">\n",
        "  <thead>\n",
        "    <tr style=\"text-align: right;\">\n",
        "      <th></th>\n",
        "      <th>first</th>\n",
        "      <th>last</th>\n",
        "      <th>variable</th>\n",
        "      <th>value</th>\n",
        "    </tr>\n",
        "  </thead>\n",
        "  <tbody>\n",
        "    <tr>\n",
        "      <th>0</th>\n",
        "      <td> John</td>\n",
        "      <td> Doe</td>\n",
        "      <td> height</td>\n",
        "      <td>   5.5</td>\n",
        "    </tr>\n",
        "    <tr>\n",
        "      <th>1</th>\n",
        "      <td> Mary</td>\n",
        "      <td>  Bo</td>\n",
        "      <td> height</td>\n",
        "      <td>   6.0</td>\n",
        "    </tr>\n",
        "    <tr>\n",
        "      <th>2</th>\n",
        "      <td> John</td>\n",
        "      <td> Doe</td>\n",
        "      <td> weight</td>\n",
        "      <td> 130.0</td>\n",
        "    </tr>\n",
        "    <tr>\n",
        "      <th>3</th>\n",
        "      <td> Mary</td>\n",
        "      <td>  Bo</td>\n",
        "      <td> weight</td>\n",
        "      <td> 150.0</td>\n",
        "    </tr>\n",
        "  </tbody>\n",
        "</table>\n",
        "</div>"
       ],
       "metadata": {},
       "output_type": "pyout",
       "prompt_number": 409,
       "text": [
        "  first last variable  value\n",
        "0  John  Doe   height    5.5\n",
        "1  Mary   Bo   height    6.0\n",
        "2  John  Doe   weight  130.0\n",
        "3  Mary   Bo   weight  150.0"
       ]
      }
     ],
     "prompt_number": 409
    },
    {
     "cell_type": "code",
     "collapsed": false,
     "input": [
      "pd.melt(cheese, id_vars=['first', 'last'], var_name='quantity')"
     ],
     "language": "python",
     "metadata": {},
     "outputs": [
      {
       "html": [
        "<div style=\"max-height:1000px;max-width:1500px;overflow:auto;\">\n",
        "<table border=\"1\" class=\"dataframe\">\n",
        "  <thead>\n",
        "    <tr style=\"text-align: right;\">\n",
        "      <th></th>\n",
        "      <th>first</th>\n",
        "      <th>last</th>\n",
        "      <th>quantity</th>\n",
        "      <th>value</th>\n",
        "    </tr>\n",
        "  </thead>\n",
        "  <tbody>\n",
        "    <tr>\n",
        "      <th>0</th>\n",
        "      <td> John</td>\n",
        "      <td> Doe</td>\n",
        "      <td> height</td>\n",
        "      <td>   5.5</td>\n",
        "    </tr>\n",
        "    <tr>\n",
        "      <th>1</th>\n",
        "      <td> Mary</td>\n",
        "      <td>  Bo</td>\n",
        "      <td> height</td>\n",
        "      <td>   6.0</td>\n",
        "    </tr>\n",
        "    <tr>\n",
        "      <th>2</th>\n",
        "      <td> John</td>\n",
        "      <td> Doe</td>\n",
        "      <td> weight</td>\n",
        "      <td> 130.0</td>\n",
        "    </tr>\n",
        "    <tr>\n",
        "      <th>3</th>\n",
        "      <td> Mary</td>\n",
        "      <td>  Bo</td>\n",
        "      <td> weight</td>\n",
        "      <td> 150.0</td>\n",
        "    </tr>\n",
        "  </tbody>\n",
        "</table>\n",
        "</div>"
       ],
       "metadata": {},
       "output_type": "pyout",
       "prompt_number": 410,
       "text": [
        "  first last quantity  value\n",
        "0  John  Doe   height    5.5\n",
        "1  Mary   Bo   height    6.0\n",
        "2  John  Doe   weight  130.0\n",
        "3  Mary   Bo   weight  150.0"
       ]
      }
     ],
     "prompt_number": 410
    },
    {
     "cell_type": "code",
     "collapsed": false,
     "input": [
      "df = pd.DataFrame({'A': ['one', 'one', 'two', 'three'] * 6,\n",
      "'B': ['A', 'B', 'C'] * 8,\n",
      "'C': ['foo', 'foo', 'foo', 'bar', 'bar', 'bar'] * 4,\n",
      "'D': np.random.randn(24),\n",
      "'E': np.random.randn(24),\n",
      "'F': [datetime.datetime(2013, i, 1) for i in range(1, 13)] +\n",
      "     [datetime.datetime(2013, i, 15) for i in range(1, 13)]})\n",
      "\n",
      "df.head()"
     ],
     "language": "python",
     "metadata": {},
     "outputs": [
      {
       "html": [
        "<div style=\"max-height:1000px;max-width:1500px;overflow:auto;\">\n",
        "<table border=\"1\" class=\"dataframe\">\n",
        "  <thead>\n",
        "    <tr style=\"text-align: right;\">\n",
        "      <th></th>\n",
        "      <th>A</th>\n",
        "      <th>B</th>\n",
        "      <th>C</th>\n",
        "      <th>D</th>\n",
        "      <th>E</th>\n",
        "      <th>F</th>\n",
        "    </tr>\n",
        "  </thead>\n",
        "  <tbody>\n",
        "    <tr>\n",
        "      <th>0</th>\n",
        "      <td>   one</td>\n",
        "      <td> A</td>\n",
        "      <td> foo</td>\n",
        "      <td>-0.276676</td>\n",
        "      <td> 2.511611</td>\n",
        "      <td>2013-01-01</td>\n",
        "    </tr>\n",
        "    <tr>\n",
        "      <th>1</th>\n",
        "      <td>   one</td>\n",
        "      <td> B</td>\n",
        "      <td> foo</td>\n",
        "      <td>-0.299423</td>\n",
        "      <td>-2.460268</td>\n",
        "      <td>2013-02-01</td>\n",
        "    </tr>\n",
        "    <tr>\n",
        "      <th>2</th>\n",
        "      <td>   two</td>\n",
        "      <td> C</td>\n",
        "      <td> foo</td>\n",
        "      <td> 0.599075</td>\n",
        "      <td> 1.142600</td>\n",
        "      <td>2013-03-01</td>\n",
        "    </tr>\n",
        "    <tr>\n",
        "      <th>3</th>\n",
        "      <td> three</td>\n",
        "      <td> A</td>\n",
        "      <td> bar</td>\n",
        "      <td> 0.552153</td>\n",
        "      <td>-0.009627</td>\n",
        "      <td>2013-04-01</td>\n",
        "    </tr>\n",
        "    <tr>\n",
        "      <th>4</th>\n",
        "      <td>   one</td>\n",
        "      <td> B</td>\n",
        "      <td> bar</td>\n",
        "      <td>-0.090170</td>\n",
        "      <td> 0.129949</td>\n",
        "      <td>2013-05-01</td>\n",
        "    </tr>\n",
        "  </tbody>\n",
        "</table>\n",
        "</div>"
       ],
       "metadata": {},
       "output_type": "pyout",
       "prompt_number": 413,
       "text": [
        "       A  B    C         D         E          F\n",
        "0    one  A  foo -0.276676  2.511611 2013-01-01\n",
        "1    one  B  foo -0.299423 -2.460268 2013-02-01\n",
        "2    two  C  foo  0.599075  1.142600 2013-03-01\n",
        "3  three  A  bar  0.552153 -0.009627 2013-04-01\n",
        "4    one  B  bar -0.090170  0.129949 2013-05-01"
       ]
      }
     ],
     "prompt_number": 413
    },
    {
     "cell_type": "code",
     "collapsed": false,
     "input": [
      "# We can produce pivot tables from this quite easily\n",
      "pd.pivot_table(df, values='D', index=['A', 'B'], columns=['C'])"
     ],
     "language": "python",
     "metadata": {},
     "outputs": [
      {
       "html": [
        "<div style=\"max-height:1000px;max-width:1500px;overflow:auto;\">\n",
        "<table border=\"1\" class=\"dataframe\">\n",
        "  <thead>\n",
        "    <tr style=\"text-align: right;\">\n",
        "      <th></th>\n",
        "      <th>C</th>\n",
        "      <th>bar</th>\n",
        "      <th>foo</th>\n",
        "    </tr>\n",
        "    <tr>\n",
        "      <th>A</th>\n",
        "      <th>B</th>\n",
        "      <th></th>\n",
        "      <th></th>\n",
        "    </tr>\n",
        "  </thead>\n",
        "  <tbody>\n",
        "    <tr>\n",
        "      <th rowspan=\"3\" valign=\"top\">one</th>\n",
        "      <th>A</th>\n",
        "      <td>-0.744271</td>\n",
        "      <td> 0.836950</td>\n",
        "    </tr>\n",
        "    <tr>\n",
        "      <th>B</th>\n",
        "      <td> 1.164146</td>\n",
        "      <td> 0.129797</td>\n",
        "    </tr>\n",
        "    <tr>\n",
        "      <th>C</th>\n",
        "      <td>-0.909697</td>\n",
        "      <td> 0.123557</td>\n",
        "    </tr>\n",
        "    <tr>\n",
        "      <th rowspan=\"3\" valign=\"top\">three</th>\n",
        "      <th>A</th>\n",
        "      <td> 0.301477</td>\n",
        "      <td>      NaN</td>\n",
        "    </tr>\n",
        "    <tr>\n",
        "      <th>B</th>\n",
        "      <td>      NaN</td>\n",
        "      <td>-0.108100</td>\n",
        "    </tr>\n",
        "    <tr>\n",
        "      <th>C</th>\n",
        "      <td> 0.338824</td>\n",
        "      <td>      NaN</td>\n",
        "    </tr>\n",
        "    <tr>\n",
        "      <th rowspan=\"3\" valign=\"top\">two</th>\n",
        "      <th>A</th>\n",
        "      <td>      NaN</td>\n",
        "      <td> 0.941226</td>\n",
        "    </tr>\n",
        "    <tr>\n",
        "      <th>B</th>\n",
        "      <td>-0.501592</td>\n",
        "      <td>      NaN</td>\n",
        "    </tr>\n",
        "    <tr>\n",
        "      <th>C</th>\n",
        "      <td>      NaN</td>\n",
        "      <td>-0.814634</td>\n",
        "    </tr>\n",
        "  </tbody>\n",
        "</table>\n",
        "</div>"
       ],
       "metadata": {},
       "output_type": "pyout",
       "prompt_number": 414,
       "text": [
        "C             bar       foo\n",
        "A     B                    \n",
        "one   A -0.744271  0.836950\n",
        "      B  1.164146  0.129797\n",
        "      C -0.909697  0.123557\n",
        "three A  0.301477       NaN\n",
        "      B       NaN -0.108100\n",
        "      C  0.338824       NaN\n",
        "two   A       NaN  0.941226\n",
        "      B -0.501592       NaN\n",
        "      C       NaN -0.814634"
       ]
      }
     ],
     "prompt_number": 414
    },
    {
     "cell_type": "code",
     "collapsed": false,
     "input": [
      "pd.pivot_table(df, values='D', index=['B'], columns=['A', 'C'], \n",
      "               aggfunc=np.sum)"
     ],
     "language": "python",
     "metadata": {},
     "outputs": [
      {
       "html": [
        "<div style=\"max-height:1000px;max-width:1500px;overflow:auto;\">\n",
        "<table border=\"1\" class=\"dataframe\">\n",
        "  <thead>\n",
        "    <tr>\n",
        "      <th>A</th>\n",
        "      <th colspan=\"2\" halign=\"left\">one</th>\n",
        "      <th colspan=\"2\" halign=\"left\">three</th>\n",
        "      <th colspan=\"2\" halign=\"left\">two</th>\n",
        "    </tr>\n",
        "    <tr>\n",
        "      <th>C</th>\n",
        "      <th>bar</th>\n",
        "      <th>foo</th>\n",
        "      <th>bar</th>\n",
        "      <th>foo</th>\n",
        "      <th>bar</th>\n",
        "      <th>foo</th>\n",
        "    </tr>\n",
        "    <tr>\n",
        "      <th>B</th>\n",
        "      <th></th>\n",
        "      <th></th>\n",
        "      <th></th>\n",
        "      <th></th>\n",
        "      <th></th>\n",
        "      <th></th>\n",
        "    </tr>\n",
        "  </thead>\n",
        "  <tbody>\n",
        "    <tr>\n",
        "      <th>A</th>\n",
        "      <td>-1.488543</td>\n",
        "      <td> 1.673899</td>\n",
        "      <td> 0.602954</td>\n",
        "      <td>    NaN</td>\n",
        "      <td>      NaN</td>\n",
        "      <td> 1.882453</td>\n",
        "    </tr>\n",
        "    <tr>\n",
        "      <th>B</th>\n",
        "      <td> 2.328292</td>\n",
        "      <td> 0.259595</td>\n",
        "      <td>      NaN</td>\n",
        "      <td>-0.2162</td>\n",
        "      <td>-1.003184</td>\n",
        "      <td>      NaN</td>\n",
        "    </tr>\n",
        "    <tr>\n",
        "      <th>C</th>\n",
        "      <td>-1.819394</td>\n",
        "      <td> 0.247113</td>\n",
        "      <td> 0.677648</td>\n",
        "      <td>    NaN</td>\n",
        "      <td>      NaN</td>\n",
        "      <td>-1.629268</td>\n",
        "    </tr>\n",
        "  </tbody>\n",
        "</table>\n",
        "</div>"
       ],
       "metadata": {},
       "output_type": "pyout",
       "prompt_number": 416,
       "text": [
        "A       one               three               two          \n",
        "C       bar       foo       bar     foo       bar       foo\n",
        "B                                                          \n",
        "A -1.488543  1.673899  0.602954     NaN       NaN  1.882453\n",
        "B  2.328292  0.259595       NaN -0.2162 -1.003184       NaN\n",
        "C -1.819394  0.247113  0.677648     NaN       NaN -1.629268"
       ]
      }
     ],
     "prompt_number": 416
    },
    {
     "cell_type": "code",
     "collapsed": false,
     "input": [
      "pd.pivot_table(df, values=['D','E'], index=['B'], columns=['A', 'C'], \n",
      "               aggfunc=np.sum)\n"
     ],
     "language": "python",
     "metadata": {},
     "outputs": [
      {
       "html": [
        "<div style=\"max-height:1000px;max-width:1500px;overflow:auto;\">\n",
        "<table border=\"1\" class=\"dataframe\">\n",
        "  <thead>\n",
        "    <tr>\n",
        "      <th></th>\n",
        "      <th colspan=\"6\" halign=\"left\">D</th>\n",
        "      <th colspan=\"6\" halign=\"left\">E</th>\n",
        "    </tr>\n",
        "    <tr>\n",
        "      <th>A</th>\n",
        "      <th colspan=\"2\" halign=\"left\">one</th>\n",
        "      <th colspan=\"2\" halign=\"left\">three</th>\n",
        "      <th colspan=\"2\" halign=\"left\">two</th>\n",
        "      <th colspan=\"2\" halign=\"left\">one</th>\n",
        "      <th colspan=\"2\" halign=\"left\">three</th>\n",
        "      <th colspan=\"2\" halign=\"left\">two</th>\n",
        "    </tr>\n",
        "    <tr>\n",
        "      <th>C</th>\n",
        "      <th>bar</th>\n",
        "      <th>foo</th>\n",
        "      <th>bar</th>\n",
        "      <th>foo</th>\n",
        "      <th>bar</th>\n",
        "      <th>foo</th>\n",
        "      <th>bar</th>\n",
        "      <th>foo</th>\n",
        "      <th>bar</th>\n",
        "      <th>foo</th>\n",
        "      <th>bar</th>\n",
        "      <th>foo</th>\n",
        "    </tr>\n",
        "    <tr>\n",
        "      <th>B</th>\n",
        "      <th></th>\n",
        "      <th></th>\n",
        "      <th></th>\n",
        "      <th></th>\n",
        "      <th></th>\n",
        "      <th></th>\n",
        "      <th></th>\n",
        "      <th></th>\n",
        "      <th></th>\n",
        "      <th></th>\n",
        "      <th></th>\n",
        "      <th></th>\n",
        "    </tr>\n",
        "  </thead>\n",
        "  <tbody>\n",
        "    <tr>\n",
        "      <th>A</th>\n",
        "      <td>-1.488543</td>\n",
        "      <td> 1.673899</td>\n",
        "      <td> 0.602954</td>\n",
        "      <td>    NaN</td>\n",
        "      <td>      NaN</td>\n",
        "      <td> 1.882453</td>\n",
        "      <td> 0.120484</td>\n",
        "      <td> 3.689782</td>\n",
        "      <td> 0.148563</td>\n",
        "      <td>      NaN</td>\n",
        "      <td>      NaN</td>\n",
        "      <td> 1.466147</td>\n",
        "    </tr>\n",
        "    <tr>\n",
        "      <th>B</th>\n",
        "      <td> 2.328292</td>\n",
        "      <td> 0.259595</td>\n",
        "      <td>      NaN</td>\n",
        "      <td>-0.2162</td>\n",
        "      <td>-1.003184</td>\n",
        "      <td>      NaN</td>\n",
        "      <td> 0.113175</td>\n",
        "      <td>-1.904121</td>\n",
        "      <td>      NaN</td>\n",
        "      <td>-0.043466</td>\n",
        "      <td> 0.590917</td>\n",
        "      <td>      NaN</td>\n",
        "    </tr>\n",
        "    <tr>\n",
        "      <th>C</th>\n",
        "      <td>-1.819394</td>\n",
        "      <td> 0.247113</td>\n",
        "      <td> 0.677648</td>\n",
        "      <td>    NaN</td>\n",
        "      <td>      NaN</td>\n",
        "      <td>-1.629268</td>\n",
        "      <td> 1.144412</td>\n",
        "      <td>-1.143446</td>\n",
        "      <td>-1.723967</td>\n",
        "      <td>      NaN</td>\n",
        "      <td>      NaN</td>\n",
        "      <td> 2.698699</td>\n",
        "    </tr>\n",
        "  </tbody>\n",
        "</table>\n",
        "</div>"
       ],
       "metadata": {},
       "output_type": "pyout",
       "prompt_number": 417,
       "text": [
        "          D                                                         E  \\\n",
        "A       one               three               two                 one   \n",
        "C       bar       foo       bar     foo       bar       foo       bar   \n",
        "B                                                                       \n",
        "A -1.488543  1.673899  0.602954     NaN       NaN  1.882453  0.120484   \n",
        "B  2.328292  0.259595       NaN -0.2162 -1.003184       NaN  0.113175   \n",
        "C -1.819394  0.247113  0.677648     NaN       NaN -1.629268  1.144412   \n",
        "\n",
        "                                                     \n",
        "A               three                 two            \n",
        "C       foo       bar       foo       bar       foo  \n",
        "B                                                    \n",
        "A  3.689782  0.148563       NaN       NaN  1.466147  \n",
        "B -1.904121       NaN -0.043466  0.590917       NaN  \n",
        "C -1.143446 -1.723967       NaN       NaN  2.698699  "
       ]
      }
     ],
     "prompt_number": 417
    },
    {
     "cell_type": "code",
     "collapsed": false,
     "input": [
      "pd.pivot_table(df, index=['A', 'B'], columns=['C'])"
     ],
     "language": "python",
     "metadata": {},
     "outputs": [
      {
       "html": [
        "<div style=\"max-height:1000px;max-width:1500px;overflow:auto;\">\n",
        "<table border=\"1\" class=\"dataframe\">\n",
        "  <thead>\n",
        "    <tr>\n",
        "      <th></th>\n",
        "      <th></th>\n",
        "      <th colspan=\"2\" halign=\"left\">D</th>\n",
        "      <th colspan=\"2\" halign=\"left\">E</th>\n",
        "    </tr>\n",
        "    <tr>\n",
        "      <th></th>\n",
        "      <th>C</th>\n",
        "      <th>bar</th>\n",
        "      <th>foo</th>\n",
        "      <th>bar</th>\n",
        "      <th>foo</th>\n",
        "    </tr>\n",
        "    <tr>\n",
        "      <th>A</th>\n",
        "      <th>B</th>\n",
        "      <th></th>\n",
        "      <th></th>\n",
        "      <th></th>\n",
        "      <th></th>\n",
        "    </tr>\n",
        "  </thead>\n",
        "  <tbody>\n",
        "    <tr>\n",
        "      <th rowspan=\"3\" valign=\"top\">one</th>\n",
        "      <th>A</th>\n",
        "      <td>-0.744271</td>\n",
        "      <td> 0.836950</td>\n",
        "      <td> 0.060242</td>\n",
        "      <td> 1.844891</td>\n",
        "    </tr>\n",
        "    <tr>\n",
        "      <th>B</th>\n",
        "      <td> 1.164146</td>\n",
        "      <td> 0.129797</td>\n",
        "      <td> 0.056588</td>\n",
        "      <td>-0.952060</td>\n",
        "    </tr>\n",
        "    <tr>\n",
        "      <th>C</th>\n",
        "      <td>-0.909697</td>\n",
        "      <td> 0.123557</td>\n",
        "      <td> 0.572206</td>\n",
        "      <td>-0.571723</td>\n",
        "    </tr>\n",
        "    <tr>\n",
        "      <th rowspan=\"3\" valign=\"top\">three</th>\n",
        "      <th>A</th>\n",
        "      <td> 0.301477</td>\n",
        "      <td>      NaN</td>\n",
        "      <td> 0.074281</td>\n",
        "      <td>      NaN</td>\n",
        "    </tr>\n",
        "    <tr>\n",
        "      <th>B</th>\n",
        "      <td>      NaN</td>\n",
        "      <td>-0.108100</td>\n",
        "      <td>      NaN</td>\n",
        "      <td>-0.021733</td>\n",
        "    </tr>\n",
        "    <tr>\n",
        "      <th>C</th>\n",
        "      <td> 0.338824</td>\n",
        "      <td>      NaN</td>\n",
        "      <td>-0.861983</td>\n",
        "      <td>      NaN</td>\n",
        "    </tr>\n",
        "    <tr>\n",
        "      <th rowspan=\"3\" valign=\"top\">two</th>\n",
        "      <th>A</th>\n",
        "      <td>      NaN</td>\n",
        "      <td> 0.941226</td>\n",
        "      <td>      NaN</td>\n",
        "      <td> 0.733074</td>\n",
        "    </tr>\n",
        "    <tr>\n",
        "      <th>B</th>\n",
        "      <td>-0.501592</td>\n",
        "      <td>      NaN</td>\n",
        "      <td> 0.295459</td>\n",
        "      <td>      NaN</td>\n",
        "    </tr>\n",
        "    <tr>\n",
        "      <th>C</th>\n",
        "      <td>      NaN</td>\n",
        "      <td>-0.814634</td>\n",
        "      <td>      NaN</td>\n",
        "      <td> 1.349350</td>\n",
        "    </tr>\n",
        "  </tbody>\n",
        "</table>\n",
        "</div>"
       ],
       "metadata": {},
       "output_type": "pyout",
       "prompt_number": 423,
       "text": [
        "                D                   E          \n",
        "C             bar       foo       bar       foo\n",
        "A     B                                        \n",
        "one   A -0.744271  0.836950  0.060242  1.844891\n",
        "      B  1.164146  0.129797  0.056588 -0.952060\n",
        "      C -0.909697  0.123557  0.572206 -0.571723\n",
        "three A  0.301477       NaN  0.074281       NaN\n",
        "      B       NaN -0.108100       NaN -0.021733\n",
        "      C  0.338824       NaN -0.861983       NaN\n",
        "two   A       NaN  0.941226       NaN  0.733074\n",
        "      B -0.501592       NaN  0.295459       NaN\n",
        "      C       NaN -0.814634       NaN  1.349350"
       ]
      }
     ],
     "prompt_number": 423
    },
    {
     "cell_type": "code",
     "collapsed": false,
     "input": [
      "# For nice rendering\n",
      "\n",
      "pr = pd.pivot_table(df, index=['A', 'B'], columns=['C'])\n",
      "print(pr.to_string(na_rep=''))\n"
     ],
     "language": "python",
     "metadata": {},
     "outputs": [
      {
       "output_type": "stream",
       "stream": "stdout",
       "text": [
        "                D                   E          \n",
        "C             bar       foo       bar       foo\n",
        "A     B                                        \n",
        "one   A -0.744271  0.836950  0.060242  1.844891\n",
        "      B  1.164146  0.129797  0.056588 -0.952060\n",
        "      C -0.909697  0.123557  0.572206 -0.571723\n",
        "three A  0.301477            0.074281          \n",
        "      B           -0.108100           -0.021733\n",
        "      C  0.338824           -0.861983          \n",
        "two   A            0.941226            0.733074\n",
        "      B -0.501592            0.295459          \n",
        "      C           -0.814634            1.349350\n"
       ]
      }
     ],
     "prompt_number": 420
    },
    {
     "cell_type": "code",
     "collapsed": false,
     "input": [
      "# Adding Margins\n",
      "df.pivot_table(index=['A', 'B'], columns='C', values = 'D', margins=True, aggfunc=np.std)"
     ],
     "language": "python",
     "metadata": {},
     "outputs": [
      {
       "html": [
        "<div style=\"max-height:1000px;max-width:1500px;overflow:auto;\">\n",
        "<table border=\"1\" class=\"dataframe\">\n",
        "  <thead>\n",
        "    <tr style=\"text-align: right;\">\n",
        "      <th></th>\n",
        "      <th>C</th>\n",
        "      <th>bar</th>\n",
        "      <th>foo</th>\n",
        "      <th>All</th>\n",
        "    </tr>\n",
        "    <tr>\n",
        "      <th>A</th>\n",
        "      <th>B</th>\n",
        "      <th></th>\n",
        "      <th></th>\n",
        "      <th></th>\n",
        "    </tr>\n",
        "  </thead>\n",
        "  <tbody>\n",
        "    <tr>\n",
        "      <th rowspan=\"3\" valign=\"top\">one</th>\n",
        "      <th>A</th>\n",
        "      <td> 0.255641</td>\n",
        "      <td> 1.574904</td>\n",
        "      <td> 1.296911</td>\n",
        "    </tr>\n",
        "    <tr>\n",
        "      <th>B</th>\n",
        "      <td> 1.773870</td>\n",
        "      <td> 0.607010</td>\n",
        "      <td> 1.236251</td>\n",
        "    </tr>\n",
        "    <tr>\n",
        "      <th>C</th>\n",
        "      <td> 0.713714</td>\n",
        "      <td> 1.546418</td>\n",
        "      <td> 1.150132</td>\n",
        "    </tr>\n",
        "    <tr>\n",
        "      <th rowspan=\"3\" valign=\"top\">three</th>\n",
        "      <th>A</th>\n",
        "      <td> 0.354510</td>\n",
        "      <td>      NaN</td>\n",
        "      <td> 0.354510</td>\n",
        "    </tr>\n",
        "    <tr>\n",
        "      <th>B</th>\n",
        "      <td>      NaN</td>\n",
        "      <td> 0.138861</td>\n",
        "      <td> 0.138861</td>\n",
        "    </tr>\n",
        "    <tr>\n",
        "      <th>C</th>\n",
        "      <td> 0.847450</td>\n",
        "      <td>      NaN</td>\n",
        "      <td> 0.847450</td>\n",
        "    </tr>\n",
        "    <tr>\n",
        "      <th rowspan=\"3\" valign=\"top\">two</th>\n",
        "      <th>A</th>\n",
        "      <td>      NaN</td>\n",
        "      <td> 0.225857</td>\n",
        "      <td> 0.225857</td>\n",
        "    </tr>\n",
        "    <tr>\n",
        "      <th>B</th>\n",
        "      <td> 0.852917</td>\n",
        "      <td>      NaN</td>\n",
        "      <td> 0.852917</td>\n",
        "    </tr>\n",
        "    <tr>\n",
        "      <th>C</th>\n",
        "      <td>      NaN</td>\n",
        "      <td> 1.999287</td>\n",
        "      <td> 1.999287</td>\n",
        "    </tr>\n",
        "    <tr>\n",
        "      <th>All</th>\n",
        "      <th></th>\n",
        "      <td> 1.028662</td>\n",
        "      <td> 1.107227</td>\n",
        "      <td> 1.030378</td>\n",
        "    </tr>\n",
        "  </tbody>\n",
        "</table>\n",
        "</div>"
       ],
       "metadata": {},
       "output_type": "pyout",
       "prompt_number": 424,
       "text": [
        "C             bar       foo       All\n",
        "A     B                              \n",
        "one   A  0.255641  1.574904  1.296911\n",
        "      B  1.773870  0.607010  1.236251\n",
        "      C  0.713714  1.546418  1.150132\n",
        "three A  0.354510       NaN  0.354510\n",
        "      B       NaN  0.138861  0.138861\n",
        "      C  0.847450       NaN  0.847450\n",
        "two   A       NaN  0.225857  0.225857\n",
        "      B  0.852917       NaN  0.852917\n",
        "      C       NaN  1.999287  1.999287\n",
        "All      1.028662  1.107227  1.030378"
       ]
      }
     ],
     "prompt_number": 424
    },
    {
     "cell_type": "code",
     "collapsed": false,
     "input": [
      "df.head()"
     ],
     "language": "python",
     "metadata": {},
     "outputs": [
      {
       "html": [
        "<div style=\"max-height:1000px;max-width:1500px;overflow:auto;\">\n",
        "<table border=\"1\" class=\"dataframe\">\n",
        "  <thead>\n",
        "    <tr style=\"text-align: right;\">\n",
        "      <th></th>\n",
        "      <th>A</th>\n",
        "      <th>B</th>\n",
        "      <th>C</th>\n",
        "      <th>D</th>\n",
        "      <th>E</th>\n",
        "      <th>F</th>\n",
        "    </tr>\n",
        "  </thead>\n",
        "  <tbody>\n",
        "    <tr>\n",
        "      <th>0</th>\n",
        "      <td>   one</td>\n",
        "      <td> A</td>\n",
        "      <td> foo</td>\n",
        "      <td>-0.276676</td>\n",
        "      <td> 2.511611</td>\n",
        "      <td>2013-01-01</td>\n",
        "    </tr>\n",
        "    <tr>\n",
        "      <th>1</th>\n",
        "      <td>   one</td>\n",
        "      <td> B</td>\n",
        "      <td> foo</td>\n",
        "      <td>-0.299423</td>\n",
        "      <td>-2.460268</td>\n",
        "      <td>2013-02-01</td>\n",
        "    </tr>\n",
        "    <tr>\n",
        "      <th>2</th>\n",
        "      <td>   two</td>\n",
        "      <td> C</td>\n",
        "      <td> foo</td>\n",
        "      <td> 0.599075</td>\n",
        "      <td> 1.142600</td>\n",
        "      <td>2013-03-01</td>\n",
        "    </tr>\n",
        "    <tr>\n",
        "      <th>3</th>\n",
        "      <td> three</td>\n",
        "      <td> A</td>\n",
        "      <td> bar</td>\n",
        "      <td> 0.552153</td>\n",
        "      <td>-0.009627</td>\n",
        "      <td>2013-04-01</td>\n",
        "    </tr>\n",
        "    <tr>\n",
        "      <th>4</th>\n",
        "      <td>   one</td>\n",
        "      <td> B</td>\n",
        "      <td> bar</td>\n",
        "      <td>-0.090170</td>\n",
        "      <td> 0.129949</td>\n",
        "      <td>2013-05-01</td>\n",
        "    </tr>\n",
        "  </tbody>\n",
        "</table>\n",
        "</div>"
       ],
       "metadata": {},
       "output_type": "pyout",
       "prompt_number": 425,
       "text": [
        "       A  B    C         D         E          F\n",
        "0    one  A  foo -0.276676  2.511611 2013-01-01\n",
        "1    one  B  foo -0.299423 -2.460268 2013-02-01\n",
        "2    two  C  foo  0.599075  1.142600 2013-03-01\n",
        "3  three  A  bar  0.552153 -0.009627 2013-04-01\n",
        "4    one  B  bar -0.090170  0.129949 2013-05-01"
       ]
      }
     ],
     "prompt_number": 425
    },
    {
     "cell_type": "code",
     "collapsed": false,
     "input": [
      "df['D'][:10].apply(lambda x:(np.round(x,2),sign(x)))"
     ],
     "language": "python",
     "metadata": {},
     "outputs": [
      {
       "metadata": {},
       "output_type": "pyout",
       "prompt_number": 436,
       "text": [
        "0    (-0.28, -1.0)\n",
        "1     (-0.3, -1.0)\n",
        "2       (0.6, 1.0)\n",
        "3      (0.55, 1.0)\n",
        "4    (-0.09, -1.0)\n",
        "5    (-1.41, -1.0)\n",
        "6      (0.78, 1.0)\n",
        "7    (-0.21, -1.0)\n",
        "8      (1.22, 1.0)\n",
        "9    (-0.56, -1.0)\n",
        "Name: D, dtype: object"
       ]
      }
     ],
     "prompt_number": 436
    },
    {
     "cell_type": "code",
     "collapsed": false,
     "input": [
      "# You can also apply across the DataFrame"
     ],
     "language": "python",
     "metadata": {},
     "outputs": [],
     "prompt_number": 437
    },
    {
     "cell_type": "code",
     "collapsed": false,
     "input": [
      "def my_test(row):\n",
      "    return row['D'] % row['E']\n",
      "\n",
      "df.apply(my_test, axis=1).head() # axis = 1 sets the parameters to rows"
     ],
     "language": "python",
     "metadata": {},
     "outputs": [
      {
       "metadata": {},
       "output_type": "pyout",
       "prompt_number": 458,
       "text": [
        "0    2.234936\n",
        "1   -0.299423\n",
        "2    0.599075\n",
        "3   -0.006192\n",
        "4    0.039780\n",
        "dtype: float64"
       ]
      }
     ],
     "prompt_number": 458
    },
    {
     "cell_type": "markdown",
     "metadata": {},
     "source": [
      "## Plotting"
     ]
    },
    {
     "cell_type": "code",
     "collapsed": false,
     "input": [
      "df2 = pd.DataFrame(np.random.rand(10, 4), columns=['a', 'b', 'c', 'd'])\n",
      "df2.plot(kind='bar')"
     ],
     "language": "python",
     "metadata": {},
     "outputs": [
      {
       "metadata": {},
       "output_type": "pyout",
       "prompt_number": 460,
       "text": [
        "<matplotlib.axes._subplots.AxesSubplot at 0x114f383d0>"
       ]
      },
      {
       "metadata": {},
       "output_type": "display_data",
       "png": "[encoded data removed]",
       "text": [
        "<matplotlib.figure.Figure at 0x114f38850>"
       ]
      }
     ],
     "prompt_number": 460
    },
    {
     "cell_type": "code",
     "collapsed": false,
     "input": [
      "df2.plot(kind='bar', stacked=True)"
     ],
     "language": "python",
     "metadata": {},
     "outputs": [
      {
       "metadata": {},
       "output_type": "pyout",
       "prompt_number": 461,
       "text": [
        "<matplotlib.axes._subplots.AxesSubplot at 0x114a77b50>"
       ]
      },
      {
       "metadata": {},
       "output_type": "display_data",
       "png": "[encoded data removed]",
       "text": [
        "<matplotlib.figure.Figure at 0x114fd4150>"
       ]
      }
     ],
     "prompt_number": 461
    },
    {
     "cell_type": "code",
     "collapsed": false,
     "input": [
      "df2.plot(kind='barh', stacked=True)"
     ],
     "language": "python",
     "metadata": {},
     "outputs": [
      {
       "metadata": {},
       "output_type": "pyout",
       "prompt_number": 462,
       "text": [
        "<matplotlib.axes._subplots.AxesSubplot at 0x1153f29d0>"
       ]
      },
      {
       "metadata": {},
       "output_type": "display_data",
       "png": "[encoded data removed]",
       "text": [
        "<matplotlib.figure.Figure at 0x1153faed0>"
       ]
      }
     ],
     "prompt_number": 462
    },
    {
     "cell_type": "code",
     "collapsed": false,
     "input": [
      "df4 = pd.DataFrame({'a': np.random.randn(1000) + 1, \n",
      "                    'b': np.random.randn(1000),\n",
      "                    'c': np.random.randn(1000) - 1}, \n",
      "                   columns=['a', 'b', 'c'])"
     ],
     "language": "python",
     "metadata": {},
     "outputs": [],
     "prompt_number": 463
    },
    {
     "cell_type": "code",
     "collapsed": false,
     "input": [
      "plt.figure()\n",
      "df4.plot(kind='hist', alpha=0.5)"
     ],
     "language": "python",
     "metadata": {},
     "outputs": [
      {
       "metadata": {},
       "output_type": "pyout",
       "prompt_number": 464,
       "text": [
        "<matplotlib.axes._subplots.AxesSubplot at 0x11556a490>"
       ]
      },
      {
       "metadata": {},
       "output_type": "display_data",
       "text": [
        "<matplotlib.figure.Figure at 0x115622a90>"
       ]
      },
      {
       "metadata": {},
       "output_type": "display_data",
       "png": "[encoded data removed]",
       "text": [
        "<matplotlib.figure.Figure at 0x115421110>"
       ]
      }
     ],
     "prompt_number": 464
    },
    {
     "cell_type": "code",
     "collapsed": false,
     "input": [
      "plt.figure()\n",
      "df4.plot(kind='hist', stacked=True, bins=20)"
     ],
     "language": "python",
     "metadata": {},
     "outputs": [
      {
       "metadata": {},
       "output_type": "pyout",
       "prompt_number": 466,
       "text": [
        "<matplotlib.axes._subplots.AxesSubplot at 0x115aa6810>"
       ]
      },
      {
       "metadata": {},
       "output_type": "display_data",
       "text": [
        "<matplotlib.figure.Figure at 0x115aa2cd0>"
       ]
      },
      {
       "metadata": {},
       "output_type": "display_data",
       "png": "[encoded data removed]",
       "text": [
        "<matplotlib.figure.Figure at 0x115aa2b10>"
       ]
      }
     ],
     "prompt_number": 466
    },
    {
     "cell_type": "code",
     "collapsed": false,
     "input": [
      "df = pd.DataFrame(np.random.randn(1000, 4), index=ts.index, columns=list('ABCD'))\n",
      "df.diff().hist(color='k', alpha=0.5, bins=50)"
     ],
     "language": "python",
     "metadata": {},
     "outputs": [
      {
       "metadata": {},
       "output_type": "pyout",
       "prompt_number": 469,
       "text": [
        "array([[<matplotlib.axes._subplots.AxesSubplot object at 0x115884890>,\n",
        "        <matplotlib.axes._subplots.AxesSubplot object at 0x1161aff50>],\n",
        "       [<matplotlib.axes._subplots.AxesSubplot object at 0x116240490>,\n",
        "        <matplotlib.axes._subplots.AxesSubplot object at 0x1162a0750>]], dtype=object)"
       ]
      },
      {
       "metadata": {},
       "output_type": "display_data",
       "png": "[encoded data removed]",
       "text": [
        "<matplotlib.figure.Figure at 0x115d1cdd0>"
       ]
      }
     ],
     "prompt_number": 469
    },
    {
     "cell_type": "code",
     "collapsed": false,
     "input": [
      "df.plot(kind='box')"
     ],
     "language": "python",
     "metadata": {},
     "outputs": [
      {
       "metadata": {},
       "output_type": "pyout",
       "prompt_number": 470,
       "text": [
        "<matplotlib.axes._subplots.AxesSubplot at 0x115e70a50>"
       ]
      },
      {
       "metadata": {},
       "output_type": "display_data",
       "png": "[encoded data removed]",
       "text": [
        "<matplotlib.figure.Figure at 0x115e479d0>"
       ]
      }
     ],
     "prompt_number": 470
    },
    {
     "cell_type": "code",
     "collapsed": false,
     "input": [
      "df.plot(kind='box', vert=False, positions=[1, 4, 5, 6])"
     ],
     "language": "python",
     "metadata": {},
     "outputs": [
      {
       "metadata": {},
       "output_type": "pyout",
       "prompt_number": 472,
       "text": [
        "<matplotlib.axes._subplots.AxesSubplot at 0x107eb6ed0>"
       ]
      },
      {
       "metadata": {},
       "output_type": "display_data",
       "png": "[encoded data removed]",
       "text": [
        "<matplotlib.figure.Figure at 0x107ec1e10>"
       ]
      }
     ],
     "prompt_number": 472
    },
    {
     "cell_type": "code",
     "collapsed": false,
     "input": [
      "df = pd.DataFrame(np.random.rand(50, 4), columns=['a', 'b', 'c', 'd'])\n",
      "\n",
      "df.plot(kind='scatter', x='a', y='b', s=df['c']*200)"
     ],
     "language": "python",
     "metadata": {},
     "outputs": [
      {
       "metadata": {},
       "output_type": "pyout",
       "prompt_number": 475,
       "text": [
        "<matplotlib.axes._subplots.AxesSubplot at 0x11392cad0>"
       ]
      },
      {
       "metadata": {},
       "output_type": "display_data",
       "png": "[encoded data removed]",
       "text": [
        "<matplotlib.figure.Figure at 0x11273a050>"
       ]
      }
     ],
     "prompt_number": 475
    },
    {
     "cell_type": "code",
     "collapsed": false,
     "input": [
      "df = pd.DataFrame(np.random.randn(1000, 2), columns=['a', 'b'])\n",
      "df['b'] = df['b'] + np.arange(1000)\n",
      "df.plot(kind='hexbin', x='a', y='b', gridsize=25)"
     ],
     "language": "python",
     "metadata": {},
     "outputs": [
      {
       "metadata": {},
       "output_type": "pyout",
       "prompt_number": 476,
       "text": [
        "<matplotlib.axes._subplots.AxesSubplot at 0x1127861d0>"
       ]
      },
      {
       "metadata": {},
       "output_type": "display_data",
       "png": "[encoded data removed]",
       "text": [
        "<matplotlib.figure.Figure at 0x115b00710>"
       ]
      }
     ],
     "prompt_number": 476
    },
    {
     "cell_type": "code",
     "collapsed": false,
     "input": [
      "series = pd.Series(3 * np.random.rand(4), index=['a', 'b', 'c', 'd'], name='series')\n",
      "series.plot(kind='pie', figsize=(6, 6))"
     ],
     "language": "python",
     "metadata": {},
     "outputs": [
      {
       "metadata": {},
       "output_type": "pyout",
       "prompt_number": 477,
       "text": [
        "<matplotlib.axes._subplots.AxesSubplot at 0x115dd7510>"
       ]
      },
      {
       "metadata": {},
       "output_type": "display_data",
       "png": "[encoded data removed]",
       "text": [
        "<matplotlib.figure.Figure at 0x11229f190>"
       ]
      }
     ],
     "prompt_number": 477
    },
    {
     "cell_type": "code",
     "collapsed": false,
     "input": [
      "# For more information on plotting, go to\n",
      "# https://pandas-docs.github.io/pandas-docs-travis/visualization.html"
     ],
     "language": "python",
     "metadata": {},
     "outputs": [],
     "prompt_number": 479
    },
    {
     "cell_type": "code",
     "collapsed": false,
     "input": [],
     "language": "python",
     "metadata": {},
     "outputs": []
    }
   ],
   "metadata": {}
  }
 ]
}